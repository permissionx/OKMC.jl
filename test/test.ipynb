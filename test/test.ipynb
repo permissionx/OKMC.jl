{
 "cells": [
  {
   "cell_type": "code",
   "execution_count": 8,
   "metadata": {},
   "outputs": [],
   "source": [
    "abstract type Defect end\n",
    "\n",
    "mutable struct Sia <: Defect \n",
    "    coord::Vector{Int64}\n",
    "    function Sia()\n",
    "        coord = rand(1:10,2)\n",
    "        new(coord)\n",
    "    end\n",
    "end\n",
    "\n",
    "mutable struct Vac <: Defect \n",
    "    coord::Vector{Int64}\n",
    "    function Vac()\n",
    "        coord = rand(1:10,2)\n",
    "        new(coord)\n",
    "    end\n",
    "end"
   ]
  },
  {
   "cell_type": "code",
   "execution_count": 80,
   "metadata": {},
   "outputs": [
    {
     "data": {
      "text/plain": [
       "10000-element Vector{Vac}:\n",
       " Vac([1, 8])\n",
       " Vac([7, 4])\n",
       " Vac([4, 1])\n",
       " Vac([2, 1])\n",
       " Vac([1, 2])\n",
       " Vac([5, 1])\n",
       " Vac([3, 5])\n",
       " Vac([4, 7])\n",
       " Vac([9, 1])\n",
       " Vac([3, 5])\n",
       " ⋮\n",
       " Vac([10, 3])\n",
       " Vac([8, 5])\n",
       " Vac([5, 8])\n",
       " Vac([6, 4])\n",
       " Vac([7, 8])\n",
       " Vac([8, 8])\n",
       " Vac([7, 1])\n",
       " Vac([9, 6])\n",
       " Vac([10, 3])"
      ]
     },
     "metadata": {},
     "output_type": "display_data"
    }
   ],
   "source": [
    "sias = [Sia() for _ in 1:10000]\n",
    "vacs = [Vac() for _ in 1:10000]"
   ]
  },
  {
   "cell_type": "code",
   "execution_count": 4,
   "metadata": {},
   "outputs": [
    {
     "data": {
      "text/plain": [
       "MoveVac (generic function with 1 method)"
      ]
     },
     "metadata": {},
     "output_type": "display_data"
    }
   ],
   "source": [
    "function Move_fast(defect::Defect)    \n",
    "    defect.coord = rand(1:10,2)\n",
    "end\n",
    "function Move_slow(defect::T) where {T <: Defect}\n",
    "    defect.coord = rand(1:10,2)\n",
    "end\n",
    "function MoveSia(sia::Sia)\n",
    "    sia.coord = rand(1:10,2)\n",
    "end\n",
    "function MoveVac(vac::Vac)\n",
    "    vac.coord = rand(1:10,2)\n",
    "end"
   ]
  },
  {
   "cell_type": "code",
   "execution_count": 76,
   "metadata": {},
   "outputs": [
    {
     "data": {
      "text/plain": [
       "test3 (generic function with 2 methods)"
      ]
     },
     "metadata": {},
     "output_type": "display_data"
    }
   ],
   "source": [
    "function test3(sias::Vector{Sia}, vacs::Vector{Vac})\n",
    "    for sia in sias\n",
    "        MoveSia(sia)\n",
    "    end\n",
    "    for vac in vacs\n",
    "        MoveVac(vac)\n",
    "    end\n",
    "end"
   ]
  },
  {
   "cell_type": "code",
   "execution_count": 79,
   "metadata": {},
   "outputs": [
    {
     "data": {
      "text/plain": [
       "BenchmarkTools.Trial: 5434 samples with 1 evaluation.\n",
       " Range \u001b[90m(\u001b[39m\u001b[36m\u001b[1mmin\u001b[22m\u001b[39m … \u001b[35mmax\u001b[39m\u001b[90m):  \u001b[39m\u001b[36m\u001b[1m590.800 μs\u001b[22m\u001b[39m … \u001b[35m 11.512 ms\u001b[39m  \u001b[90m┊\u001b[39m GC \u001b[90m(\u001b[39mmin … max\u001b[90m): \u001b[39m 0.00% … 72.28%\n",
       " Time  \u001b[90m(\u001b[39m\u001b[34m\u001b[1mmedian\u001b[22m\u001b[39m\u001b[90m):     \u001b[39m\u001b[34m\u001b[1m631.900 μs               \u001b[22m\u001b[39m\u001b[90m┊\u001b[39m GC \u001b[90m(\u001b[39mmedian\u001b[90m):    \u001b[39m 0.00%\n",
       " Time  \u001b[90m(\u001b[39m\u001b[32m\u001b[1mmean\u001b[22m\u001b[39m ± \u001b[32mσ\u001b[39m\u001b[90m):   \u001b[39m\u001b[32m\u001b[1m912.952 μs\u001b[22m\u001b[39m ± \u001b[32m793.518 μs\u001b[39m  \u001b[90m┊\u001b[39m GC \u001b[90m(\u001b[39mmean ± σ\u001b[90m):  \u001b[39m14.42% ± 15.22%\n",
       "\n",
       "  \u001b[39m█\u001b[34m▅\u001b[39m\u001b[39m▄\u001b[39m▃\u001b[39m▂\u001b[32m▂\u001b[39m\u001b[39m▁\u001b[39m \u001b[39m \u001b[39m▂\u001b[39m▃\u001b[39m▄\u001b[39m▁\u001b[39m \u001b[39m \u001b[39m \u001b[39m \u001b[39m \u001b[39m \u001b[39m \u001b[39m \u001b[39m \u001b[39m \u001b[39m \u001b[39m \u001b[39m \u001b[39m \u001b[39m \u001b[39m \u001b[39m \u001b[39m \u001b[39m \u001b[39m \u001b[39m \u001b[39m \u001b[39m \u001b[39m \u001b[39m \u001b[39m \u001b[39m \u001b[39m \u001b[39m \u001b[39m \u001b[39m \u001b[39m \u001b[39m \u001b[39m \u001b[39m \u001b[39m \u001b[39m \u001b[39m \u001b[39m \u001b[39m \u001b[39m \u001b[39m \u001b[39m \u001b[39m \u001b[39m \u001b[39m \u001b[39m \u001b[39m \u001b[39m \u001b[39m▁\n",
       "  \u001b[39m█\u001b[34m█\u001b[39m\u001b[39m█\u001b[39m█\u001b[39m█\u001b[32m█\u001b[39m\u001b[39m█\u001b[39m█\u001b[39m▇\u001b[39m█\u001b[39m█\u001b[39m█\u001b[39m█\u001b[39m█\u001b[39m▇\u001b[39m▇\u001b[39m▆\u001b[39m▃\u001b[39m▄\u001b[39m▃\u001b[39m▄\u001b[39m▆\u001b[39m▆\u001b[39m▅\u001b[39m▅\u001b[39m▄\u001b[39m▇\u001b[39m▆\u001b[39m▄\u001b[39m▅\u001b[39m▄\u001b[39m▄\u001b[39m▅\u001b[39m▃\u001b[39m▃\u001b[39m▃\u001b[39m▃\u001b[39m▁\u001b[39m▁\u001b[39m▁\u001b[39m▁\u001b[39m▁\u001b[39m▁\u001b[39m▁\u001b[39m▁\u001b[39m▁\u001b[39m█\u001b[39m█\u001b[39m▇\u001b[39m▆\u001b[39m▆\u001b[39m▅\u001b[39m▅\u001b[39m▄\u001b[39m▄\u001b[39m▅\u001b[39m▃\u001b[39m▃\u001b[39m▅\u001b[39m▅\u001b[39m▅\u001b[39m \u001b[39m█\n",
       "  591 μs\u001b[90m        \u001b[39m\u001b[90mHistogram: \u001b[39m\u001b[90m\u001b[1mlog(\u001b[22m\u001b[39m\u001b[90mfrequency\u001b[39m\u001b[90m\u001b[1m)\u001b[22m\u001b[39m\u001b[90m by time\u001b[39m       4.82 ms \u001b[0m\u001b[1m<\u001b[22m\n",
       "\n",
       " Memory estimate\u001b[90m: \u001b[39m\u001b[33m1.53 MiB\u001b[39m, allocs estimate\u001b[90m: \u001b[39m\u001b[33m20000\u001b[39m."
      ]
     },
     "metadata": {},
     "output_type": "display_data"
    }
   ],
   "source": [
    "@benchmark test3(sias, vacs)"
   ]
  },
  {
   "cell_type": "code",
   "execution_count": 12,
   "metadata": {},
   "outputs": [],
   "source": [
    "using BenchmarkTools"
   ]
  },
  {
   "cell_type": "code",
   "execution_count": 81,
   "metadata": {},
   "outputs": [
    {
     "data": {
      "text/plain": [
       "test (generic function with 1 method)"
      ]
     },
     "metadata": {},
     "output_type": "display_data"
    }
   ],
   "source": [
    "function test(sias::Vector{Sia}, vacs::Vector{Vac}) ### most convient and efficiecy version \n",
    "    for sia in sias\n",
    "        Move_fast(sia)\n",
    "    end\n",
    "    for vac in vacs\n",
    "        Move_fast(vac)\n",
    "    end\n",
    "end"
   ]
  },
  {
   "cell_type": "code",
   "execution_count": 82,
   "metadata": {},
   "outputs": [
    {
     "data": {
      "text/plain": [
       "BenchmarkTools.Trial: 5621 samples with 1 evaluation.\n",
       " Range \u001b[90m(\u001b[39m\u001b[36m\u001b[1mmin\u001b[22m\u001b[39m … \u001b[35mmax\u001b[39m\u001b[90m):  \u001b[39m\u001b[36m\u001b[1m593.600 μs\u001b[22m\u001b[39m … \u001b[35m  8.610 ms\u001b[39m  \u001b[90m┊\u001b[39m GC \u001b[90m(\u001b[39mmin … max\u001b[90m): \u001b[39m 0.00% …  0.00%\n",
       " Time  \u001b[90m(\u001b[39m\u001b[34m\u001b[1mmedian\u001b[22m\u001b[39m\u001b[90m):     \u001b[39m\u001b[34m\u001b[1m652.300 μs               \u001b[22m\u001b[39m\u001b[90m┊\u001b[39m GC \u001b[90m(\u001b[39mmedian\u001b[90m):    \u001b[39m 0.00%\n",
       " Time  \u001b[90m(\u001b[39m\u001b[32m\u001b[1mmean\u001b[22m\u001b[39m ± \u001b[32mσ\u001b[39m\u001b[90m):   \u001b[39m\u001b[32m\u001b[1m881.023 μs\u001b[22m\u001b[39m ± \u001b[32m827.419 μs\u001b[39m  \u001b[90m┊\u001b[39m GC \u001b[90m(\u001b[39mmean ± σ\u001b[90m):  \u001b[39m16.62% ± 15.56%\n",
       "\n",
       "  \u001b[39m█\u001b[34m▅\u001b[39m\u001b[39m▄\u001b[39m▃\u001b[32m▃\u001b[39m\u001b[39m▂\u001b[39m▁\u001b[39m▂\u001b[39m▂\u001b[39m▂\u001b[39m \u001b[39m \u001b[39m \u001b[39m \u001b[39m \u001b[39m \u001b[39m \u001b[39m \u001b[39m \u001b[39m \u001b[39m \u001b[39m \u001b[39m \u001b[39m \u001b[39m \u001b[39m \u001b[39m \u001b[39m \u001b[39m \u001b[39m \u001b[39m \u001b[39m \u001b[39m \u001b[39m \u001b[39m \u001b[39m \u001b[39m \u001b[39m \u001b[39m \u001b[39m \u001b[39m \u001b[39m \u001b[39m \u001b[39m \u001b[39m \u001b[39m \u001b[39m \u001b[39m \u001b[39m \u001b[39m \u001b[39m \u001b[39m \u001b[39m \u001b[39m \u001b[39m \u001b[39m \u001b[39m \u001b[39m \u001b[39m \u001b[39m \u001b[39m \u001b[39m \u001b[39m▁\n",
       "  \u001b[39m█\u001b[34m█\u001b[39m\u001b[39m█\u001b[39m█\u001b[32m█\u001b[39m\u001b[39m█\u001b[39m█\u001b[39m█\u001b[39m█\u001b[39m█\u001b[39m█\u001b[39m▇\u001b[39m▇\u001b[39m▆\u001b[39m▄\u001b[39m▃\u001b[39m▃\u001b[39m▄\u001b[39m▅\u001b[39m▆\u001b[39m▃\u001b[39m▃\u001b[39m▃\u001b[39m▄\u001b[39m▄\u001b[39m▁\u001b[39m▁\u001b[39m▁\u001b[39m▃\u001b[39m▁\u001b[39m▁\u001b[39m▁\u001b[39m▁\u001b[39m▁\u001b[39m▁\u001b[39m▁\u001b[39m▃\u001b[39m▁\u001b[39m▁\u001b[39m▁\u001b[39m▁\u001b[39m▁\u001b[39m▆\u001b[39m█\u001b[39m▇\u001b[39m▆\u001b[39m▅\u001b[39m▄\u001b[39m▄\u001b[39m▅\u001b[39m▃\u001b[39m▅\u001b[39m▃\u001b[39m▆\u001b[39m▆\u001b[39m▆\u001b[39m▆\u001b[39m▅\u001b[39m▅\u001b[39m▆\u001b[39m▅\u001b[39m \u001b[39m█\n",
       "  594 μs\u001b[90m        \u001b[39m\u001b[90mHistogram: \u001b[39m\u001b[90m\u001b[1mlog(\u001b[22m\u001b[39m\u001b[90mfrequency\u001b[39m\u001b[90m\u001b[1m)\u001b[22m\u001b[39m\u001b[90m by time\u001b[39m       5.32 ms \u001b[0m\u001b[1m<\u001b[22m\n",
       "\n",
       " Memory estimate\u001b[90m: \u001b[39m\u001b[33m1.53 MiB\u001b[39m, allocs estimate\u001b[90m: \u001b[39m\u001b[33m20000\u001b[39m."
      ]
     },
     "metadata": {},
     "output_type": "display_data"
    }
   ],
   "source": [
    "@benchmark test(sias,vacs)"
   ]
  },
  {
   "cell_type": "code",
   "execution_count": 29,
   "metadata": {},
   "outputs": [
    {
     "name": "stdout",
     "output_type": "stream",
     "text": [
      "MethodInstance for test(::Vector{Sia}, ::Vector{Vac})\n",
      "  from test(sias::Vector{Sia}, vacs::Vector{Vac}) in Main at /home/xuke/Researches/OKMC.jl/test.ipynb:1\n",
      "Arguments\n",
      "  #self#\u001b[36m::Core.Const(test)\u001b[39m\n",
      "  sias\u001b[36m::Vector{Sia}\u001b[39m\n",
      "  vacs\u001b[36m::Vector{Vac}\u001b[39m\n",
      "Locals\n",
      "  @_4\u001b[33m\u001b[1m::Union{Nothing, Tuple{Vac, Int64}}\u001b[22m\u001b[39m\n",
      "  @_5\u001b[33m\u001b[1m::Union{Nothing, Tuple{Sia, Int64}}\u001b[22m\u001b[39m\n",
      "  sia\u001b[36m::Sia\u001b[39m\n",
      "  vac\u001b[36m::Vac\u001b[39m\n",
      "Body\u001b[36m::Nothing\u001b[39m\n",
      "\u001b[90m1 ─\u001b[39m       Core.NewvarNode(:(@_4))\n",
      "\u001b[90m│  \u001b[39m %2  = sias\u001b[36m::Vector{Sia}\u001b[39m\n",
      "\u001b[90m│  \u001b[39m       (@_5 = Base.iterate(%2))\n",
      "\u001b[90m│  \u001b[39m %4  = (@_5 === nothing)\u001b[36m::Bool\u001b[39m\n",
      "\u001b[90m│  \u001b[39m %5  = Base.not_int(%4)\u001b[36m::Bool\u001b[39m\n",
      "\u001b[90m└──\u001b[39m       goto #4 if not %5\n",
      "\u001b[90m2 ┄\u001b[39m %7  = @_5\u001b[36m::Tuple{Sia, Int64}\u001b[39m\n",
      "\u001b[90m│  \u001b[39m       (sia = Core.getfield(%7, 1))\n",
      "\u001b[90m│  \u001b[39m %9  = Core.getfield(%7, 2)\u001b[36m::Int64\u001b[39m\n",
      "\u001b[90m│  \u001b[39m       Main.Move_slow(sia)\n",
      "\u001b[90m│  \u001b[39m       (@_5 = Base.iterate(%2, %9))\n",
      "\u001b[90m│  \u001b[39m %12 = (@_5 === nothing)\u001b[36m::Bool\u001b[39m\n",
      "\u001b[90m│  \u001b[39m %13 = Base.not_int(%12)\u001b[36m::Bool\u001b[39m\n",
      "\u001b[90m└──\u001b[39m       goto #4 if not %13\n",
      "\u001b[90m3 ─\u001b[39m       goto #2\n",
      "\u001b[90m4 ┄\u001b[39m %16 = vacs\u001b[36m::Vector{Vac}\u001b[39m\n",
      "\u001b[90m│  \u001b[39m       (@_4 = Base.iterate(%16))\n",
      "\u001b[90m│  \u001b[39m %18 = (@_4 === nothing)\u001b[36m::Bool\u001b[39m\n",
      "\u001b[90m│  \u001b[39m %19 = Base.not_int(%18)\u001b[36m::Bool\u001b[39m\n",
      "\u001b[90m└──\u001b[39m       goto #7 if not %19\n",
      "\u001b[90m5 ┄\u001b[39m %21 = @_4\u001b[36m::Tuple{Vac, Int64}\u001b[39m\n",
      "\u001b[90m│  \u001b[39m       (vac = Core.getfield(%21, 1))\n",
      "\u001b[90m│  \u001b[39m %23 = Core.getfield(%21, 2)\u001b[36m::Int64\u001b[39m\n",
      "\u001b[90m│  \u001b[39m       Main.Move_slow(vac)\n",
      "\u001b[90m│  \u001b[39m       (@_4 = Base.iterate(%16, %23))\n",
      "\u001b[90m│  \u001b[39m %26 = (@_4 === nothing)\u001b[36m::Bool\u001b[39m\n",
      "\u001b[90m│  \u001b[39m %27 = Base.not_int(%26)\u001b[36m::Bool\u001b[39m\n",
      "\u001b[90m└──\u001b[39m       goto #7 if not %27\n",
      "\u001b[90m6 ─\u001b[39m       goto #5\n",
      "\u001b[90m7 ┄\u001b[39m       return nothing\n",
      "\n"
     ]
    }
   ],
   "source": [
    "@code_warntype test(sias,vacs)"
   ]
  },
  {
   "cell_type": "code",
   "execution_count": 53,
   "metadata": {},
   "outputs": [],
   "source": [
    "mutable struct Adefect\n",
    "    type::UInt8\n",
    "    coord::Vector{Int64}\n",
    "    function Adefect()\n",
    "        type = rand(UInt8(1):UInt8(2))\n",
    "        coord = rand(1:10,2)\n",
    "        new(type,coord)\n",
    "    end\n",
    "end"
   ]
  },
  {
   "cell_type": "code",
   "execution_count": 61,
   "metadata": {},
   "outputs": [
    {
     "data": {
      "text/plain": [
       "20000-element Vector{Adefect}:\n",
       " Adefect(0x01, [3, 2])\n",
       " Adefect(0x02, [4, 5])\n",
       " Adefect(0x02, [2, 3])\n",
       " Adefect(0x01, [8, 6])\n",
       " Adefect(0x02, [7, 6])\n",
       " Adefect(0x02, [3, 10])\n",
       " Adefect(0x02, [9, 5])\n",
       " Adefect(0x02, [7, 7])\n",
       " Adefect(0x01, [5, 7])\n",
       " Adefect(0x02, [7, 2])\n",
       " ⋮\n",
       " Adefect(0x01, [10, 7])\n",
       " Adefect(0x01, [5, 9])\n",
       " Adefect(0x02, [1, 8])\n",
       " Adefect(0x01, [2, 4])\n",
       " Adefect(0x02, [7, 6])\n",
       " Adefect(0x02, [10, 3])\n",
       " Adefect(0x01, [7, 7])\n",
       " Adefect(0x02, [6, 10])\n",
       " Adefect(0x02, [6, 6])"
      ]
     },
     "metadata": {},
     "output_type": "display_data"
    }
   ],
   "source": [
    "defects = [Adefect() for _ in 1:20000]"
   ]
  },
  {
   "cell_type": "code",
   "execution_count": 58,
   "metadata": {},
   "outputs": [
    {
     "data": {
      "text/plain": [
       "test2 (generic function with 1 method)"
      ]
     },
     "metadata": {},
     "output_type": "display_data"
    }
   ],
   "source": [
    "function test2(defects::Vector{Adefect})\n",
    "    for defect in defects\n",
    "        if defect.type === UInt8(1)\n",
    "            Move(defect)\n",
    "        else\n",
    "            Move(defect)\n",
    "        end\n",
    "    end\n",
    "end"
   ]
  },
  {
   "cell_type": "code",
   "execution_count": 59,
   "metadata": {},
   "outputs": [
    {
     "data": {
      "text/plain": [
       "Move (generic function with 2 methods)"
      ]
     },
     "metadata": {},
     "output_type": "display_data"
    }
   ],
   "source": [
    "function Move(defect::Adefect)\n",
    "    if defect.type === UInt8(1)\n",
    "        defect.coord = rand(1:10,2)\n",
    "    else\n",
    "        defect.coord = rand(10:20,2)\n",
    "    end\n",
    "end"
   ]
  },
  {
   "cell_type": "code",
   "execution_count": 62,
   "metadata": {},
   "outputs": [
    {
     "data": {
      "text/plain": [
       "BenchmarkTools.Trial: 5360 samples with 1 evaluation.\n",
       " Range \u001b[90m(\u001b[39m\u001b[36m\u001b[1mmin\u001b[22m\u001b[39m … \u001b[35mmax\u001b[39m\u001b[90m):  \u001b[39m\u001b[36m\u001b[1m663.300 μs\u001b[22m\u001b[39m … \u001b[35m  7.431 ms\u001b[39m  \u001b[90m┊\u001b[39m GC \u001b[90m(\u001b[39mmin … max\u001b[90m): \u001b[39m 0.00% … 83.28%\n",
       " Time  \u001b[90m(\u001b[39m\u001b[34m\u001b[1mmedian\u001b[22m\u001b[39m\u001b[90m):     \u001b[39m\u001b[34m\u001b[1m716.300 μs               \u001b[22m\u001b[39m\u001b[90m┊\u001b[39m GC \u001b[90m(\u001b[39mmedian\u001b[90m):    \u001b[39m 0.00%\n",
       " Time  \u001b[90m(\u001b[39m\u001b[32m\u001b[1mmean\u001b[22m\u001b[39m ± \u001b[32mσ\u001b[39m\u001b[90m):   \u001b[39m\u001b[32m\u001b[1m925.956 μs\u001b[22m\u001b[39m ± \u001b[32m687.252 μs\u001b[39m  \u001b[90m┊\u001b[39m GC \u001b[90m(\u001b[39mmean ± σ\u001b[90m):  \u001b[39m12.87% ± 14.74%\n",
       "\n",
       "  \u001b[39m█\u001b[34m▆\u001b[39m\u001b[39m▅\u001b[39m▃\u001b[32m▃\u001b[39m\u001b[39m▂\u001b[39m▂\u001b[39m▁\u001b[39m▁\u001b[39m \u001b[39m \u001b[39m▂\u001b[39m▂\u001b[39m \u001b[39m \u001b[39m \u001b[39m \u001b[39m \u001b[39m \u001b[39m \u001b[39m \u001b[39m \u001b[39m \u001b[39m \u001b[39m \u001b[39m \u001b[39m \u001b[39m \u001b[39m \u001b[39m \u001b[39m \u001b[39m \u001b[39m \u001b[39m \u001b[39m \u001b[39m \u001b[39m \u001b[39m \u001b[39m \u001b[39m \u001b[39m \u001b[39m \u001b[39m \u001b[39m \u001b[39m \u001b[39m \u001b[39m \u001b[39m \u001b[39m \u001b[39m \u001b[39m \u001b[39m \u001b[39m \u001b[39m \u001b[39m \u001b[39m \u001b[39m \u001b[39m \u001b[39m \u001b[39m \u001b[39m \u001b[39m \u001b[39m▁\n",
       "  \u001b[39m█\u001b[34m█\u001b[39m\u001b[39m█\u001b[39m█\u001b[32m█\u001b[39m\u001b[39m█\u001b[39m█\u001b[39m█\u001b[39m█\u001b[39m█\u001b[39m▇\u001b[39m█\u001b[39m█\u001b[39m█\u001b[39m█\u001b[39m▆\u001b[39m▆\u001b[39m▆\u001b[39m▁\u001b[39m▁\u001b[39m▁\u001b[39m▃\u001b[39m▄\u001b[39m▆\u001b[39m▆\u001b[39m▃\u001b[39m▃\u001b[39m▁\u001b[39m▁\u001b[39m▄\u001b[39m▁\u001b[39m▁\u001b[39m▃\u001b[39m▃\u001b[39m▁\u001b[39m▁\u001b[39m▁\u001b[39m▁\u001b[39m▁\u001b[39m▁\u001b[39m▁\u001b[39m▁\u001b[39m▁\u001b[39m▁\u001b[39m▄\u001b[39m█\u001b[39m█\u001b[39m▇\u001b[39m▆\u001b[39m▆\u001b[39m▅\u001b[39m▅\u001b[39m▅\u001b[39m▅\u001b[39m▄\u001b[39m▄\u001b[39m▁\u001b[39m▄\u001b[39m▅\u001b[39m▅\u001b[39m▅\u001b[39m \u001b[39m█\n",
       "  663 μs\u001b[90m        \u001b[39m\u001b[90mHistogram: \u001b[39m\u001b[90m\u001b[1mlog(\u001b[22m\u001b[39m\u001b[90mfrequency\u001b[39m\u001b[90m\u001b[1m)\u001b[22m\u001b[39m\u001b[90m by time\u001b[39m       4.58 ms \u001b[0m\u001b[1m<\u001b[22m\n",
       "\n",
       " Memory estimate\u001b[90m: \u001b[39m\u001b[33m1.53 MiB\u001b[39m, allocs estimate\u001b[90m: \u001b[39m\u001b[33m20000\u001b[39m."
      ]
     },
     "metadata": {},
     "output_type": "display_data"
    }
   ],
   "source": [
    "@benchmark test2(defects)"
   ]
  },
  {
   "cell_type": "markdown",
   "metadata": {},
   "source": [
    "### conclusion\n",
    "* Multiple dispatch can be fast if objects stored separately"
   ]
  },
  {
   "cell_type": "markdown",
   "metadata": {},
   "source": [
    "#### Macro test"
   ]
  },
  {
   "cell_type": "code",
   "execution_count": 35,
   "metadata": {},
   "outputs": [
    {
     "data": {
      "text/plain": [
       "@iter_vac (macro with 1 method)"
      ]
     },
     "metadata": {},
     "output_type": "display_data"
    }
   ],
   "source": [
    "macro iter_defect(ex, args...)\n",
    "    return quote\n",
    "        for sia in sias\n",
    "            $ex(sia, $(args...))\n",
    "        end\n",
    "        for vac in vacs\n",
    "            $ex(vac, $(args...))\n",
    "        end\n",
    "    end\n",
    "end\n",
    "\n",
    "macro iter_sia(ex)\n",
    "    return quote\n",
    "        for sia in sias\n",
    "            $ex(sia)\n",
    "        end\n",
    "    end\n",
    "end\n",
    "\n",
    "macro iter_vac(ex)\n",
    "    return quote\n",
    "        for vac in vacs\n",
    "            $ex(vac)\n",
    "        end\n",
    "    end\n",
    "end\n"
   ]
  },
  {
   "cell_type": "code",
   "execution_count": 12,
   "metadata": {},
   "outputs": [
    {
     "data": {
      "text/plain": [
       "10000-element Vector{Vac}:\n",
       " Vac([7, 7])\n",
       " Vac([5, 5])\n",
       " Vac([3, 3])\n",
       " Vac([1, 1])\n",
       " Vac([10, 8])\n",
       " Vac([8, 8])\n",
       " Vac([9, 6])\n",
       " Vac([2, 6])\n",
       " Vac([7, 7])\n",
       " Vac([7, 10])\n",
       " ⋮\n",
       " Vac([4, 7])\n",
       " Vac([1, 8])\n",
       " Vac([10, 5])\n",
       " Vac([9, 7])\n",
       " Vac([3, 1])\n",
       " Vac([5, 5])\n",
       " Vac([4, 3])\n",
       " Vac([4, 8])\n",
       " Vac([8, 2])"
      ]
     },
     "metadata": {},
     "output_type": "display_data"
    }
   ],
   "source": [
    "abstract type Defect end\n",
    "\n",
    "mutable struct Sia <: Defect \n",
    "    coord::Vector{Int64}\n",
    "    function Sia()\n",
    "        coord = rand(1:10,2)\n",
    "        new(coord)\n",
    "    end\n",
    "end\n",
    "\n",
    "mutable struct Vac <: Defect \n",
    "    coord::Vector{Int64}\n",
    "    function Vac()\n",
    "        coord = rand(1:10,2)\n",
    "        new(coord)\n",
    "    end\n",
    "end\n",
    "\n",
    "sias = [Sia() for _ in 1:10000]\n",
    "vacs = [Vac() for _ in 1:10000]"
   ]
  },
  {
   "cell_type": "code",
   "execution_count": 38,
   "metadata": {},
   "outputs": [
    {
     "data": {
      "text/plain": [
       "Displace2 (generic function with 1 method)"
      ]
     },
     "metadata": {},
     "output_type": "display_data"
    }
   ],
   "source": [
    "function Displace(defect::Defect, coord::Vector{Int64})\n",
    "    defect.coord = coord\n",
    "end\n",
    "\n",
    "function Displace2(defect::Defect, coord::Vector{Int64}, coord2::Vector{Int64})\n",
    "    defect.coord = coord\n",
    "    defect.coord = coord2\n",
    "end"
   ]
  },
  {
   "cell_type": "code",
   "execution_count": 40,
   "metadata": {},
   "outputs": [],
   "source": [
    "coord = [1,1]\n",
    "coord2 = [2,2]\n",
    "@iter_defect Displace2 coord coord2"
   ]
  },
  {
   "cell_type": "code",
   "execution_count": 42,
   "metadata": {},
   "outputs": [],
   "source": [
    "using StaticArrays"
   ]
  },
  {
   "cell_type": "code",
   "execution_count": 50,
   "metadata": {},
   "outputs": [
    {
     "data": {
      "text/plain": [
       "3-element SVector{3, Int64} with indices SOneTo(3):\n",
       " 1\n",
       " 2\n",
       " 3"
      ]
     },
     "metadata": {},
     "output_type": "display_data"
    }
   ],
   "source": [
    "a  = SA[1,2,3]"
   ]
  },
  {
   "cell_type": "code",
   "execution_count": 51,
   "metadata": {},
   "outputs": [
    {
     "data": {
      "text/plain": [
       "true"
      ]
     },
     "metadata": {},
     "output_type": "display_data"
    }
   ],
   "source": [
    "a isa SVector{3,Int64}"
   ]
  },
  {
   "cell_type": "code",
   "execution_count": 56,
   "metadata": {},
   "outputs": [
    {
     "ename": "ErrorException",
     "evalue": "setindex!(::SVector{3, Int64}, value, ::Int) is not defined.",
     "output_type": "error",
     "traceback": [
      "setindex!(::SVector{3, Int64}, value, ::Int) is not defined.\n",
      "\n",
      "Stacktrace:\n",
      "  [1] error(s::String)\n",
      "    @ Base ./error.jl:33\n",
      "  [2] setindex!(a::SVector{3, Int64}, value::Int64, i::Int64)\n",
      "    @ StaticArrays ~/.julia/packages/StaticArrays/58yy1/src/indexing.jl:3\n",
      "  [3] top-level scope\n",
      "    @ ~/Researches/OKMC.jl/test/test.ipynb:1\n",
      "  [4] eval\n",
      "    @ ./boot.jl:373 [inlined]\n",
      "  [5] include_string(mapexpr::typeof(REPL.softscope), mod::Module, code::String, filename::String)\n",
      "    @ Base ./loading.jl:1196\n",
      "  [6] #invokelatest#2\n",
      "    @ ./essentials.jl:716 [inlined]\n",
      "  [7] invokelatest\n",
      "    @ ./essentials.jl:714 [inlined]\n",
      "  [8] (::VSCodeServer.var\"#164#165\"{VSCodeServer.NotebookRunCellArguments, String})()\n",
      "    @ VSCodeServer ~/.vscode-server/extensions/julialang.language-julia-1.6.17/scripts/packages/VSCodeServer/src/serve_notebook.jl:19\n",
      "  [9] withpath(f::VSCodeServer.var\"#164#165\"{VSCodeServer.NotebookRunCellArguments, String}, path::String)\n",
      "    @ VSCodeServer ~/.vscode-server/extensions/julialang.language-julia-1.6.17/scripts/packages/VSCodeServer/src/repl.jl:184\n",
      " [10] notebook_runcell_request(conn::VSCodeServer.JSONRPC.JSONRPCEndpoint{Base.PipeEndpoint, Base.PipeEndpoint}, params::VSCodeServer.NotebookRunCellArguments)\n",
      "    @ VSCodeServer ~/.vscode-server/extensions/julialang.language-julia-1.6.17/scripts/packages/VSCodeServer/src/serve_notebook.jl:13\n",
      " [11] dispatch_msg(x::VSCodeServer.JSONRPC.JSONRPCEndpoint{Base.PipeEndpoint, Base.PipeEndpoint}, dispatcher::VSCodeServer.JSONRPC.MsgDispatcher, msg::Dict{String, Any})\n",
      "    @ VSCodeServer.JSONRPC ~/.vscode-server/extensions/julialang.language-julia-1.6.17/scripts/packages/JSONRPC/src/typed.jl:67\n",
      " [12] serve_notebook(pipename::String, outputchannel_logger::Base.CoreLogging.SimpleLogger; crashreporting_pipename::String)\n",
      "    @ VSCodeServer ~/.vscode-server/extensions/julialang.language-julia-1.6.17/scripts/packages/VSCodeServer/src/serve_notebook.jl:136\n",
      " [13] top-level scope\n",
      "    @ ~/.vscode-server/extensions/julialang.language-julia-1.6.17/scripts/notebook/notebook.jl:32\n",
      " [14] include(mod::Module, _path::String)\n",
      "    @ Base ./Base.jl:418\n",
      " [15] exec_options(opts::Base.JLOptions)\n",
      "    @ Base ./client.jl:292\n",
      " [16] _start()\n",
      "    @ Base ./client.jl:495"
     ]
    }
   ],
   "source": [
    "a[1] =2"
   ]
  },
  {
   "cell_type": "code",
   "execution_count": 52,
   "metadata": {},
   "outputs": [],
   "source": [
    "mutable struct Point\n",
    "    coord::Int64\n",
    "    function Point()\n",
    "        coord = rand(Int64(1):Int64(10))\n",
    "        new(coord)\n",
    "    end\n",
    "end"
   ]
  },
  {
   "cell_type": "code",
   "execution_count": 58,
   "metadata": {},
   "outputs": [],
   "source": [
    "Point()\n",
    "using StatsBase"
   ]
  },
  {
   "cell_type": "code",
   "execution_count": 59,
   "metadata": {},
   "outputs": [
    {
     "data": {
      "text/plain": [
       "2"
      ]
     },
     "metadata": {},
     "output_type": "display_data"
    }
   ],
   "source": [
    "sample([1,2,3])"
   ]
  },
  {
   "cell_type": "code",
   "execution_count": 60,
   "metadata": {},
   "outputs": [
    {
     "data": {
      "text/plain": [
       "true"
      ]
     },
     "metadata": {},
     "output_type": "display_data"
    }
   ],
   "source": [
    "Int64 <: Union{Int64, Float64}"
   ]
  },
  {
   "cell_type": "code",
   "execution_count": 63,
   "metadata": {},
   "outputs": [
    {
     "data": {
      "text/plain": [
       "3-element Vector{Int64}:\n",
       " 0\n",
       " 1\n",
       " 2"
      ]
     },
     "metadata": {},
     "output_type": "display_data"
    }
   ],
   "source": [
    "a = [1,2,3]\n",
    "a .-= 1"
   ]
  },
  {
   "cell_type": "code",
   "execution_count": 64,
   "metadata": {},
   "outputs": [
    {
     "ename": "ArgumentError",
     "evalue": "ArgumentError: range must be non-empty",
     "output_type": "error",
     "traceback": [
      "ArgumentError: range must be non-empty\n",
      "\n",
      "Stacktrace:\n",
      "  [1] SamplerRangeNDL\n",
      "    @ ~/Softwares/julia-1.7.2/share/julia/stdlib/v1.7/Random/src/generation.jl:321 [inlined]\n",
      "  [2] Sampler\n",
      "    @ ~/Softwares/julia-1.7.2/share/julia/stdlib/v1.7/Random/src/generation.jl:189 [inlined]\n",
      "  [3] Sampler\n",
      "    @ ~/Softwares/julia-1.7.2/share/julia/stdlib/v1.7/Random/src/Random.jl:140 [inlined]\n",
      "  [4] rand\n",
      "    @ ~/Softwares/julia-1.7.2/share/julia/stdlib/v1.7/Random/src/Random.jl:254 [inlined]\n",
      "  [5] sample\n",
      "    @ ~/.julia/packages/StatsBase/pJqvO/src/sampling.jl:431 [inlined]\n",
      "  [6] sample(a::Vector{Any})\n",
      "    @ StatsBase ~/.julia/packages/StatsBase/pJqvO/src/sampling.jl:432\n",
      "  [7] top-level scope\n",
      "    @ ~/Researches/OKMC.jl/test/test.ipynb:1\n",
      "  [8] eval\n",
      "    @ ./boot.jl:373 [inlined]\n",
      "  [9] include_string(mapexpr::typeof(REPL.softscope), mod::Module, code::String, filename::String)\n",
      "    @ Base ./loading.jl:1196\n",
      " [10] #invokelatest#2\n",
      "    @ ./essentials.jl:716 [inlined]\n",
      " [11] invokelatest\n",
      "    @ ./essentials.jl:714 [inlined]\n",
      " [12] (::VSCodeServer.var\"#164#165\"{VSCodeServer.NotebookRunCellArguments, String})()\n",
      "    @ VSCodeServer ~/.vscode-server/extensions/julialang.language-julia-1.6.17/scripts/packages/VSCodeServer/src/serve_notebook.jl:19\n",
      " [13] withpath(f::VSCodeServer.var\"#164#165\"{VSCodeServer.NotebookRunCellArguments, String}, path::String)\n",
      "    @ VSCodeServer ~/.vscode-server/extensions/julialang.language-julia-1.6.17/scripts/packages/VSCodeServer/src/repl.jl:184\n",
      " [14] notebook_runcell_request(conn::VSCodeServer.JSONRPC.JSONRPCEndpoint{Base.PipeEndpoint, Base.PipeEndpoint}, params::VSCodeServer.NotebookRunCellArguments)\n",
      "    @ VSCodeServer ~/.vscode-server/extensions/julialang.language-julia-1.6.17/scripts/packages/VSCodeServer/src/serve_notebook.jl:13\n",
      " [15] dispatch_msg(x::VSCodeServer.JSONRPC.JSONRPCEndpoint{Base.PipeEndpoint, Base.PipeEndpoint}, dispatcher::VSCodeServer.JSONRPC.MsgDispatcher, msg::Dict{String, Any})\n",
      "    @ VSCodeServer.JSONRPC ~/.vscode-server/extensions/julialang.language-julia-1.6.17/scripts/packages/JSONRPC/src/typed.jl:67\n",
      " [16] serve_notebook(pipename::String, outputchannel_logger::Base.CoreLogging.SimpleLogger; crashreporting_pipename::String)\n",
      "    @ VSCodeServer ~/.vscode-server/extensions/julialang.language-julia-1.6.17/scripts/packages/VSCodeServer/src/serve_notebook.jl:136\n",
      " [17] top-level scope\n",
      "    @ ~/.vscode-server/extensions/julialang.language-julia-1.6.17/scripts/notebook/notebook.jl:32\n",
      " [18] include(mod::Module, _path::String)\n",
      "    @ Base ./Base.jl:418\n",
      " [19] exec_options(opts::Base.JLOptions)\n",
      "    @ Base ./client.jl:292\n",
      " [20] _start()\n",
      "    @ Base ./client.jl:495"
     ]
    }
   ],
   "source": [
    "sample([])"
   ]
  },
  {
   "cell_type": "code",
   "execution_count": 66,
   "metadata": {},
   "outputs": [
    {
     "data": {
      "text/plain": [
       "Vector{Int64}[]"
      ]
     },
     "metadata": {},
     "output_type": "display_data"
    }
   ],
   "source": [
    "a = Vector{Vector{Int64}}()"
   ]
  },
  {
   "cell_type": "code",
   "execution_count": 67,
   "metadata": {},
   "outputs": [
    {
     "data": {
      "text/plain": [
       "3-element Vector{Int64}:\n",
       " 1\n",
       " 2\n",
       " 3"
      ]
     },
     "metadata": {},
     "output_type": "display_data"
    }
   ],
   "source": [
    "x = [1,2,3]"
   ]
  },
  {
   "cell_type": "code",
   "execution_count": 71,
   "metadata": {},
   "outputs": [
    {
     "data": {
      "text/plain": [
       "3-element Vector{Vector{Int64}}:\n",
       " [1, 2, 3]\n",
       " [1, 2, 3]\n",
       " [1, 2, 3]"
      ]
     },
     "metadata": {},
     "output_type": "display_data"
    }
   ],
   "source": [
    "push!(a,x)"
   ]
  },
  {
   "cell_type": "code",
   "execution_count": 3,
   "metadata": {},
   "outputs": [
    {
     "data": {
      "text/plain": [
       "bar (generic function with 2 methods)"
      ]
     },
     "metadata": {},
     "output_type": "display_data"
    }
   ],
   "source": [
    "foo(x::Int64) = x+1\n",
    "bar(x::Int64) = x-1"
   ]
  },
  {
   "cell_type": "code",
   "execution_count": 4,
   "metadata": {},
   "outputs": [
    {
     "data": {
      "text/plain": [
       "2-element Vector{Function}:\n",
       " foo (generic function with 2 methods)\n",
       " bar (generic function with 2 methods)"
      ]
     },
     "metadata": {},
     "output_type": "display_data"
    }
   ],
   "source": [
    "fs = [foo,bar]"
   ]
  },
  {
   "cell_type": "code",
   "execution_count": 19,
   "metadata": {},
   "outputs": [
    {
     "data": {
      "text/plain": [
       "test (generic function with 2 methods)"
      ]
     },
     "metadata": {},
     "output_type": "display_data"
    }
   ],
   "source": [
    "function test(x::Int64, f::Function)\n",
    "    n = rand(1:2)\n",
    "    f(x)\n",
    "    return 2\n",
    "end"
   ]
  },
  {
   "cell_type": "code",
   "execution_count": 17,
   "metadata": {},
   "outputs": [
    {
     "data": {
      "text/plain": [
       "10"
      ]
     },
     "metadata": {},
     "output_type": "display_data"
    }
   ],
   "source": [
    "x = 10"
   ]
  },
  {
   "cell_type": "code",
   "execution_count": 20,
   "metadata": {},
   "outputs": [
    {
     "name": "stdout",
     "output_type": "stream",
     "text": [
      "MethodInstance for test(::Int64, ::typeof(foo))\n",
      "  from test(x::Int64, f::Function) in Main at /home/xuke/Researches/OKMC.jl/test/test.ipynb:1\n",
      "Arguments\n",
      "  #self#\u001b[36m::Core.Const(test)\u001b[39m\n",
      "  x\u001b[36m::Int64\u001b[39m\n",
      "  f\u001b[36m::Core.Const(foo)\u001b[39m\n",
      "Locals\n",
      "  n\u001b[36m::Int64\u001b[39m\n",
      "Body\u001b[36m::Int64\u001b[39m\n",
      "\u001b[90m1 ─\u001b[39m %1 = (1:2)\u001b[36m::Core.Const(1:2)\u001b[39m\n",
      "\u001b[90m│  \u001b[39m      (n = Main.rand(%1))\n",
      "\u001b[90m│  \u001b[39m      (f)(x)\n",
      "\u001b[90m└──\u001b[39m      return 2\n",
      "\n"
     ]
    }
   ],
   "source": [
    "@code_warntype test(x,foo)"
   ]
  },
  {
   "cell_type": "code",
   "execution_count": 13,
   "metadata": {},
   "outputs": [
    {
     "data": {
      "text/plain": [
       "myforeach (generic function with 2 methods)"
      ]
     },
     "metadata": {},
     "output_type": "display_data"
    }
   ],
   "source": [
    "function myforeach(f::Function, xs::Vector{Int64})\n",
    "    for x in xs\n",
    "        f(x)\n",
    "    end\n",
    "end"
   ]
  },
  {
   "cell_type": "code",
   "execution_count": 24,
   "metadata": {},
   "outputs": [
    {
     "data": {
      "text/plain": [
       "test1 (generic function with 1 method)"
      ]
     },
     "metadata": {},
     "output_type": "display_data"
    }
   ],
   "source": [
    "function test1(x::Int64, f::Function)\n",
    "    f(x)\n",
    "end"
   ]
  },
  {
   "cell_type": "code",
   "execution_count": 25,
   "metadata": {},
   "outputs": [
    {
     "name": "stdout",
     "output_type": "stream",
     "text": [
      "MethodInstance for test1(::Int64, ::typeof(foo))\n",
      "  from test1(x::Int64, f::Function) in Main at /home/xuke/Researches/OKMC.jl/test/test.ipynb:1\n",
      "Arguments\n",
      "  #self#\u001b[36m::Core.Const(test1)\u001b[39m\n",
      "  x\u001b[36m::Int64\u001b[39m\n",
      "  f\u001b[36m::Core.Const(foo)\u001b[39m\n",
      "Body\u001b[36m::Int64\u001b[39m\n",
      "\u001b[90m1 ─\u001b[39m %1 = (f)(x)\u001b[36m::Int64\u001b[39m\n",
      "\u001b[90m└──\u001b[39m      return %1\n",
      "\n"
     ]
    }
   ],
   "source": [
    "@code_warntype test1(x,foo)"
   ]
  },
  {
   "cell_type": "code",
   "execution_count": 30,
   "metadata": {},
   "outputs": [
    {
     "data": {
      "text/plain": [
       "test2 (generic function with 1 method)"
      ]
     },
     "metadata": {},
     "output_type": "display_data"
    }
   ],
   "source": [
    "function test2(fs::Vector{Function}, x::Int64)\n",
    "    fs[1]\n",
    "end"
   ]
  },
  {
   "cell_type": "code",
   "execution_count": 31,
   "metadata": {},
   "outputs": [
    {
     "name": "stdout",
     "output_type": "stream",
     "text": [
      "MethodInstance for test2(::Vector{Function}, ::Int64)\n",
      "  from test2(fs::Vector{Function}, x::Int64) in Main at /home/xuke/Researches/OKMC.jl/test/test.ipynb:1\n",
      "Arguments\n",
      "  #self#\u001b[36m::Core.Const(test2)\u001b[39m\n",
      "  fs\u001b[36m::Vector{Function}\u001b[39m\n",
      "  x\u001b[36m::Int64\u001b[39m\n",
      "Body\u001b[91m\u001b[1m::Function\u001b[22m\u001b[39m\n",
      "\u001b[90m1 ─\u001b[39m %1 = Base.getindex(fs, 1)\u001b[91m\u001b[1m::Function\u001b[22m\u001b[39m\n",
      "\u001b[90m└──\u001b[39m      return %1\n",
      "\n"
     ]
    }
   ],
   "source": [
    "@code_warntype test2(fs,x)"
   ]
  },
  {
   "cell_type": "code",
   "execution_count": 32,
   "metadata": {},
   "outputs": [
    {
     "data": {
      "text/plain": [
       "3"
      ]
     },
     "metadata": {},
     "output_type": "display_data"
    }
   ],
   "source": [
    "a = 3"
   ]
  },
  {
   "cell_type": "code",
   "execution_count": 37,
   "metadata": {},
   "outputs": [
    {
     "name": "stderr",
     "output_type": "stream",
     "text": [
      "WARNING: redefinition of constant b. This may fail, cause incorrect answers, or produce other errors.\n"
     ]
    },
    {
     "data": {
      "text/plain": [
       "6"
      ]
     },
     "metadata": {},
     "output_type": "display_data"
    }
   ],
   "source": [
    "const b = a*2"
   ]
  },
  {
   "cell_type": "code",
   "execution_count": 41,
   "metadata": {},
   "outputs": [
    {
     "data": {
      "text/plain": [
       "3-element Vector{Int64}:\n",
       " 1\n",
       " 3\n",
       " 4"
      ]
     },
     "metadata": {},
     "output_type": "display_data"
    }
   ],
   "source": [
    "[a for a in Int64[1,2,3,4] if a != 2]"
   ]
  },
  {
   "cell_type": "code",
   "execution_count": 46,
   "metadata": {},
   "outputs": [
    {
     "data": {
      "text/plain": [
       "0.0"
      ]
     },
     "metadata": {},
     "output_type": "display_data"
    }
   ],
   "source": [
    "rand(0.0:2.0)"
   ]
  },
  {
   "cell_type": "code",
   "execution_count": 49,
   "metadata": {},
   "outputs": [],
   "source": [
    "using Distributions"
   ]
  },
  {
   "cell_type": "code",
   "execution_count": 52,
   "metadata": {},
   "outputs": [
    {
     "data": {
      "text/plain": [
       "y (generic function with 1 method)"
      ]
     },
     "metadata": {},
     "output_type": "display_data"
    }
   ],
   "source": [
    "y(x) = rand(Uniform(0.0,2.0))"
   ]
  },
  {
   "cell_type": "code",
   "execution_count": 53,
   "metadata": {},
   "outputs": [
    {
     "name": "stdout",
     "output_type": "stream",
     "text": [
      "MethodInstance for y(::Int64)\n",
      "  from y(x) in Main at /home/xuke/Researches/OKMC.jl/test/test.ipynb:1\n",
      "Arguments\n",
      "  #self#\u001b[36m::Core.Const(y)\u001b[39m\n",
      "  x\u001b[36m::Int64\u001b[39m\n",
      "Body\u001b[36m::Float64\u001b[39m\n",
      "\u001b[90m1 ─\u001b[39m %1 = Main.Uniform(0.0, 2.0)\u001b[36m::Core.Const(Uniform{Float64}(a=0.0, b=2.0))\u001b[39m\n",
      "\u001b[90m│  \u001b[39m %2 = Main.rand(%1)\u001b[36m::Float64\u001b[39m\n",
      "\u001b[90m└──\u001b[39m      return %2\n",
      "\n"
     ]
    }
   ],
   "source": [
    "@code_warntype y(1)"
   ]
  },
  {
   "cell_type": "code",
   "execution_count": 1,
   "metadata": {},
   "outputs": [],
   "source": [
    "using PlotlyJS"
   ]
  },
  {
   "cell_type": "code",
   "execution_count": 24,
   "metadata": {},
   "outputs": [
    {
     "data": {
      "text/plain": [
       "RandomAPointOnShpereSurface (generic function with 2 methods)"
      ]
     },
     "metadata": {},
     "output_type": "display_data"
    }
   ],
   "source": [
    "function RandomAPointOnShpereSurface(r::Float64=1.0)\n",
    "    # pick a random point on a sphere surface uniformly\n",
    "    # http://mathworld.wolfram.com/SpherePointPicking.html\n",
    "    u = rand()*2-1\n",
    "    theta = 2pi*rand()\n",
    "    x = sqrt(1-u*u) * cos(theta)\n",
    "    y = sqrt(1-u*u) * sin(theta)\n",
    "    z = u\n",
    "    return x,y,z\n",
    "end"
   ]
  },
  {
   "cell_type": "code",
   "execution_count": 28,
   "metadata": {},
   "outputs": [],
   "source": [
    "xs = Float64[]\n",
    "ys = Float64[]\n",
    "zs = Float64[]\n",
    "for _ in 1:1000\n",
    "    x, y, z = RandomAPointOnShpereSurface()\n",
    "    push!(xs,x)\n",
    "    push!(ys,y)\n",
    "    push!(zs,z)\n",
    "end"
   ]
  },
  {
   "cell_type": "code",
   "execution_count": 27,
   "metadata": {},
   "outputs": [
    {
     "data": {
      "application/vnd.plotly.v1+json": {
       "config": {
        "editable": false,
        "responsive": true,
        "scrollZoom": true,
        "showLink": false,
        "staticPlot": false
       },
       "data": [
        {
         "mode": "markers",
         "type": "scatter3d",
         "x": [
          0.08131897645129262,
          -0.15081365646541195,
          0.9943628493653589,
          0.8361567096428847,
          -0.8206698897394832,
          0.7035615522015544,
          -0.39591801205265825,
          -0.3029156659092389,
          0.4137569195663284,
          -0.9173418578935674,
          -0.5328787736252865,
          0.3259292712170114,
          -0.5524820878661806,
          0.41662580983061615,
          0.33897273589045174,
          0.03651400739875485,
          0.7549892916232841,
          -0.5859861093856608,
          0.6139146519319402,
          -0.3147207577547423,
          -0.02383181413857592,
          0.16912610852261978,
          0.8266019278533494,
          0.4501288843815055,
          -0.43663552434469627,
          -0.35285850901331495,
          -0.11941017457338739,
          0.2250102811583017,
          -0.9754585894766992,
          -0.08875541795547955,
          -0.6361874186246925,
          -0.8529595967437406,
          -0.046078125781652504,
          0.403433005118809,
          -0.2817347320431056,
          -0.7591396735832364,
          0.6526867193788862,
          -0.4312300358127293,
          0.054680784374221435,
          0.5465130645972806,
          0.4044087856385946,
          -0.836720210309793,
          -0.5183229740449984,
          -0.08344027544368836,
          -0.9454698717111589,
          -0.011377222463649934,
          -0.6247321465456759,
          0.26665114929872624,
          -0.2967336547238266,
          -0.6088675467285054,
          -0.4164640325564831,
          -0.3633031166438789,
          -0.9712522994272829,
          0.3571409200538581,
          -0.4817528435238521,
          -0.6761955875472234,
          0.8847611654501942,
          -0.3841103821915111,
          0.6049357504915884,
          -0.9613296090073832,
          -0.3700777958529496,
          0.6521560176814433,
          0.4156848623556631,
          0.5061903539644765,
          -0.4690564115702781,
          -0.514260500634788,
          -0.2976134400439962,
          0.27565392791644516,
          0.031168720156904237,
          -0.12750823583333398,
          0.30223090400301544,
          -0.9505959180437701,
          -0.7944912383148119,
          0.2081770880446833,
          0.6462128818618135,
          -0.6238608538527877,
          -0.16959046958221005,
          -0.6229057996052697,
          -0.38595839195302845,
          -0.8253270101508807,
          0.660191337138177,
          -0.4357924548905761,
          0.7581724374432963,
          0.44551121316661385,
          -0.8086915713166287,
          -0.3811678624160354,
          -0.9438674935276202,
          -0.7960573776554886,
          0.6958099163693582,
          -0.003216056413173293,
          0.04630545317099356,
          -0.5413358826503575,
          -0.5036255472325223,
          -0.5256788124402709,
          -0.47979693299743115,
          0.38248256583693807,
          -0.5642187480877502,
          0.5442610110020235,
          -0.4881401117984705,
          -0.7452764298795974
         ],
         "y": [
          0.9966821256634559,
          0.45190073413900456,
          -0.08787821125026239,
          -0.5116635851481899,
          0.5322204630814794,
          -0.6845559593878731,
          -0.8421161208868935,
          -0.4257506249768464,
          0.8368197819027999,
          -0.1402085025623009,
          0.6548189687997218,
          0.7507125587712198,
          0.3028847249900474,
          -0.35092017594043434,
          0.366769116503132,
          -0.5276880736366351,
          0.6408362248977367,
          -0.6056223275834702,
          -0.2694097111765272,
          0.5814707736275894,
          -0.1354597761977682,
          -0.7779171758087721,
          0.5617724458719957,
          0.700971271684754,
          -0.6675110302211162,
          0.7784817520449383,
          0.9329569006403179,
          0.23737933001378056,
          -0.1468722884799756,
          -0.000420868947250991,
          -0.4204194717058098,
          0.5150031560448045,
          -0.7107943255966008,
          -0.5217110842647468,
          0.5019494011837038,
          0.27357589460725684,
          -0.5073871345447247,
          0.14011572783094536,
          -0.8924515175837591,
          0.836204974153911,
          -0.6713842995102997,
          -0.3943158221941216,
          0.8482635558141661,
          0.43996954105744174,
          0.2552272924377573,
          0.9994098496634765,
          -0.772062925970591,
          0.08845610529327745,
          -0.8474906931344707,
          -0.2722172920309368,
          -0.002674217093904676,
          0.8731522184157339,
          -0.02096093141927756,
          -0.8794034058591418,
          -0.6201094466111071,
          -0.046496793555898835,
          0.45391442483028405,
          -0.9195135192967163,
          0.6354763688571776,
          0.11330735405492989,
          -0.03280907582502621,
          0.7210430056677424,
          -0.4677686309546049,
          -0.5196145822323376,
          -0.8112983799893523,
          0.849726974491071,
          -0.3312624132516752,
          0.8041692436801348,
          -0.4383857302136294,
          -0.7242525092525475,
          -0.23024079392622088,
          0.31027649746663594,
          -0.32965074360544744,
          0.9748082294732549,
          0.7625178407804126,
          0.6770918154953284,
          0.4902290945696018,
          0.7819999689885608,
          -0.7491527925554261,
          0.24196637232568435,
          0.04111085236692204,
          -0.765792143482777,
          -0.5643189427978053,
          0.23502873664862375,
          0.44483705554840824,
          -0.9005346488491741,
          0.21185089646794672,
          -0.02259838565038869,
          0.20945674698840955,
          -0.03392448173629006,
          0.40994626502591686,
          0.32323703398017034,
          -0.8627944873596047,
          0.5470357414026805,
          0.19348462030947544,
          0.8192941811305059,
          0.666956719654852,
          0.11175992424707228,
          0.8361878359408921,
          -0.558470849388635
         ],
         "z": [
          0.0034589668817686103,
          -0.8792274833671667,
          0.059329114180636244,
          -0.1975913271185903,
          -0.20794785584929687,
          -0.19074664015465115,
          0.3661821495849873,
          0.8526303446855426,
          0.3585217763639097,
          0.3725929301068598,
          0.5359592621829383,
          0.574630980949614,
          -0.7765464480343267,
          -0.8386166971274289,
          0.8663589899703552,
          0.8486530646885928,
          -0.1389967711603013,
          -0.5383696461906413,
          -0.7419752069086034,
          -0.7502283546062583,
          0.9904961855894827,
          0.605178673614412,
          -0.03377827597912364,
          -0.5531936945755256,
          0.6031404839781327,
          0.5190925103966957,
          0.3396065837936082,
          0.9449981095511624,
          -0.16403984605205912,
          -0.9960533613481144,
          0.6469258351575224,
          0.08503925909041188,
          -0.7018890460921323,
          0.7517043001979631,
          0.8177238772421414,
          -0.5906464135858072,
          0.5626351766863857,
          0.8912958201558878,
          -0.44781726248846776,
          0.045658640198165124,
          -0.6210448103554054,
          0.3800188443044761,
          0.1085828460423428,
          -0.894127800359426,
          0.2023505643218626,
          -0.032411590591023165,
          -0.11674152394997162,
          0.9597253159180563,
          -0.44012346359254173,
          -0.745102715375642,
          -0.9091482597188025,
          -0.3249862288044323,
          -0.23712783516755698,
          -0.3148015454003128,
          -0.6191756390398038,
          -0.7352534090847083,
          -0.10563794319375241,
          0.08339125927373048,
          -0.4798150918856918,
          -0.25101160603203687,
          -0.928421234979107,
          -0.23407159712256642,
          -0.7799991045528245,
          0.6883109845737108,
          0.3489713761778557,
          0.1161903881958739,
          -0.8953722431881921,
          0.5266182104173338,
          -0.8982463261426921,
          0.6776429388963332,
          -0.9250111661367897,
          0.009792635924942061,
          -0.5100137836190042,
          0.08007006784344695,
          0.031232255881171955,
          -0.39031309024847083,
          -0.8549353820402767,
          0.021550251042844026,
          -0.5383365240139659,
          -0.510183889376131,
          0.7499715302498962,
          0.4729136593930219,
          0.326678260526865,
          -0.8638757155356109,
          -0.3848869139012967,
          0.20916119832149804,
          0.2534429962094338,
          -0.6047991108180164,
          -0.6870054085835862,
          -0.9994192246100089,
          0.910933512830618,
          0.7761915240576005,
          0.04412460488910175,
          -0.6514704013072321,
          0.8557795304808107,
          0.42715820441200236,
          -0.4866476532497932,
          -0.8314383147506157,
          0.2500182678882976,
          -0.36424353590566017
         ]
        }
       ],
       "frames": [],
       "layout": {
        "margin": {
         "b": 0,
         "l": 0,
         "r": 0,
         "t": 0
        },
        "template": {
         "data": {
          "bar": [
           {
            "error_x": {
             "color": "#2a3f5f"
            },
            "error_y": {
             "color": "#2a3f5f"
            },
            "marker": {
             "line": {
              "color": "#E5ECF6",
              "width": 0.5
             }
            },
            "type": "bar"
           }
          ],
          "barpolar": [
           {
            "marker": {
             "line": {
              "color": "#E5ECF6",
              "width": 0.5
             }
            },
            "type": "barpolar"
           }
          ],
          "carpet": [
           {
            "aaxis": {
             "endlinecolor": "#2a3f5f",
             "gridcolor": "white",
             "linecolor": "white",
             "minorgridcolor": "white",
             "startlinecolor": "#2a3f5f"
            },
            "baxis": {
             "endlinecolor": "#2a3f5f",
             "gridcolor": "white",
             "linecolor": "white",
             "minorgridcolor": "white",
             "startlinecolor": "#2a3f5f"
            },
            "type": "carpet"
           }
          ],
          "choropleth": [
           {
            "colorbar": {
             "outlinewidth": 0,
             "ticks": ""
            },
            "type": "choropleth"
           }
          ],
          "contour": [
           {
            "colorbar": {
             "outlinewidth": 0,
             "ticks": ""
            },
            "colorscale": [
             [
              0,
              "#0d0887"
             ],
             [
              0.1111111111111111,
              "#46039f"
             ],
             [
              0.2222222222222222,
              "#7201a8"
             ],
             [
              0.3333333333333333,
              "#9c179e"
             ],
             [
              0.4444444444444444,
              "#bd3786"
             ],
             [
              0.5555555555555556,
              "#d8576b"
             ],
             [
              0.6666666666666666,
              "#ed7953"
             ],
             [
              0.7777777777777778,
              "#fb9f3a"
             ],
             [
              0.8888888888888888,
              "#fdca26"
             ],
             [
              1,
              "#f0f921"
             ]
            ],
            "type": "contour"
           }
          ],
          "contourcarpet": [
           {
            "colorbar": {
             "outlinewidth": 0,
             "ticks": ""
            },
            "type": "contourcarpet"
           }
          ],
          "heatmap": [
           {
            "colorbar": {
             "outlinewidth": 0,
             "ticks": ""
            },
            "colorscale": [
             [
              0,
              "#0d0887"
             ],
             [
              0.1111111111111111,
              "#46039f"
             ],
             [
              0.2222222222222222,
              "#7201a8"
             ],
             [
              0.3333333333333333,
              "#9c179e"
             ],
             [
              0.4444444444444444,
              "#bd3786"
             ],
             [
              0.5555555555555556,
              "#d8576b"
             ],
             [
              0.6666666666666666,
              "#ed7953"
             ],
             [
              0.7777777777777778,
              "#fb9f3a"
             ],
             [
              0.8888888888888888,
              "#fdca26"
             ],
             [
              1,
              "#f0f921"
             ]
            ],
            "type": "heatmap"
           }
          ],
          "heatmapgl": [
           {
            "colorbar": {
             "outlinewidth": 0,
             "ticks": ""
            },
            "colorscale": [
             [
              0,
              "#0d0887"
             ],
             [
              0.1111111111111111,
              "#46039f"
             ],
             [
              0.2222222222222222,
              "#7201a8"
             ],
             [
              0.3333333333333333,
              "#9c179e"
             ],
             [
              0.4444444444444444,
              "#bd3786"
             ],
             [
              0.5555555555555556,
              "#d8576b"
             ],
             [
              0.6666666666666666,
              "#ed7953"
             ],
             [
              0.7777777777777778,
              "#fb9f3a"
             ],
             [
              0.8888888888888888,
              "#fdca26"
             ],
             [
              1,
              "#f0f921"
             ]
            ],
            "type": "heatmapgl"
           }
          ],
          "histogram": [
           {
            "marker": {
             "colorbar": {
              "outlinewidth": 0,
              "ticks": ""
             }
            },
            "type": "histogram"
           }
          ],
          "histogram2d": [
           {
            "colorbar": {
             "outlinewidth": 0,
             "ticks": ""
            },
            "colorscale": [
             [
              0,
              "#0d0887"
             ],
             [
              0.1111111111111111,
              "#46039f"
             ],
             [
              0.2222222222222222,
              "#7201a8"
             ],
             [
              0.3333333333333333,
              "#9c179e"
             ],
             [
              0.4444444444444444,
              "#bd3786"
             ],
             [
              0.5555555555555556,
              "#d8576b"
             ],
             [
              0.6666666666666666,
              "#ed7953"
             ],
             [
              0.7777777777777778,
              "#fb9f3a"
             ],
             [
              0.8888888888888888,
              "#fdca26"
             ],
             [
              1,
              "#f0f921"
             ]
            ],
            "type": "histogram2d"
           }
          ],
          "histogram2dcontour": [
           {
            "colorbar": {
             "outlinewidth": 0,
             "ticks": ""
            },
            "colorscale": [
             [
              0,
              "#0d0887"
             ],
             [
              0.1111111111111111,
              "#46039f"
             ],
             [
              0.2222222222222222,
              "#7201a8"
             ],
             [
              0.3333333333333333,
              "#9c179e"
             ],
             [
              0.4444444444444444,
              "#bd3786"
             ],
             [
              0.5555555555555556,
              "#d8576b"
             ],
             [
              0.6666666666666666,
              "#ed7953"
             ],
             [
              0.7777777777777778,
              "#fb9f3a"
             ],
             [
              0.8888888888888888,
              "#fdca26"
             ],
             [
              1,
              "#f0f921"
             ]
            ],
            "type": "histogram2dcontour"
           }
          ],
          "mesh3d": [
           {
            "colorbar": {
             "outlinewidth": 0,
             "ticks": ""
            },
            "type": "mesh3d"
           }
          ],
          "parcoords": [
           {
            "line": {
             "colorbar": {
              "outlinewidth": 0,
              "ticks": ""
             }
            },
            "type": "parcoords"
           }
          ],
          "pie": [
           {
            "automargin": true,
            "type": "pie"
           }
          ],
          "scatter": [
           {
            "marker": {
             "colorbar": {
              "outlinewidth": 0,
              "ticks": ""
             }
            },
            "type": "scatter"
           }
          ],
          "scatter3d": [
           {
            "line": {
             "colorbar": {
              "outlinewidth": 0,
              "ticks": ""
             }
            },
            "marker": {
             "colorbar": {
              "outlinewidth": 0,
              "ticks": ""
             }
            },
            "type": "scatter3d"
           }
          ],
          "scattercarpet": [
           {
            "marker": {
             "colorbar": {
              "outlinewidth": 0,
              "ticks": ""
             }
            },
            "type": "scattercarpet"
           }
          ],
          "scattergeo": [
           {
            "marker": {
             "colorbar": {
              "outlinewidth": 0,
              "ticks": ""
             }
            },
            "type": "scattergeo"
           }
          ],
          "scattergl": [
           {
            "marker": {
             "colorbar": {
              "outlinewidth": 0,
              "ticks": ""
             }
            },
            "type": "scattergl"
           }
          ],
          "scattermapbox": [
           {
            "marker": {
             "colorbar": {
              "outlinewidth": 0,
              "ticks": ""
             }
            },
            "type": "scattermapbox"
           }
          ],
          "scatterpolar": [
           {
            "marker": {
             "colorbar": {
              "outlinewidth": 0,
              "ticks": ""
             }
            },
            "type": "scatterpolar"
           }
          ],
          "scatterpolargl": [
           {
            "marker": {
             "colorbar": {
              "outlinewidth": 0,
              "ticks": ""
             }
            },
            "type": "scatterpolargl"
           }
          ],
          "scatterternary": [
           {
            "marker": {
             "colorbar": {
              "outlinewidth": 0,
              "ticks": ""
             }
            },
            "type": "scatterternary"
           }
          ],
          "surface": [
           {
            "colorbar": {
             "outlinewidth": 0,
             "ticks": ""
            },
            "colorscale": [
             [
              0,
              "#0d0887"
             ],
             [
              0.1111111111111111,
              "#46039f"
             ],
             [
              0.2222222222222222,
              "#7201a8"
             ],
             [
              0.3333333333333333,
              "#9c179e"
             ],
             [
              0.4444444444444444,
              "#bd3786"
             ],
             [
              0.5555555555555556,
              "#d8576b"
             ],
             [
              0.6666666666666666,
              "#ed7953"
             ],
             [
              0.7777777777777778,
              "#fb9f3a"
             ],
             [
              0.8888888888888888,
              "#fdca26"
             ],
             [
              1,
              "#f0f921"
             ]
            ],
            "type": "surface"
           }
          ],
          "table": [
           {
            "cells": {
             "fill": {
              "color": "#EBF0F8"
             },
             "line": {
              "color": "white"
             }
            },
            "header": {
             "fill": {
              "color": "#C8D4E3"
             },
             "line": {
              "color": "white"
             }
            },
            "type": "table"
           }
          ]
         },
         "layout": {
          "annotationdefaults": {
           "arrowcolor": "#2a3f5f",
           "arrowhead": 0,
           "arrowwidth": 1
          },
          "autotypenumbers": "strict",
          "coloraxis": {
           "colorbar": {
            "outlinewidth": 0,
            "ticks": ""
           }
          },
          "colorscale": {
           "diverging": [
            [
             0,
             "#8e0152"
            ],
            [
             0.1,
             "#c51b7d"
            ],
            [
             0.2,
             "#de77ae"
            ],
            [
             0.3,
             "#f1b6da"
            ],
            [
             0.4,
             "#fde0ef"
            ],
            [
             0.5,
             "#f7f7f7"
            ],
            [
             0.6,
             "#e6f5d0"
            ],
            [
             0.7,
             "#b8e186"
            ],
            [
             0.8,
             "#7fbc41"
            ],
            [
             0.9,
             "#4d9221"
            ],
            [
             1,
             "#276419"
            ]
           ],
           "sequential": [
            [
             0,
             "#0d0887"
            ],
            [
             0.1111111111111111,
             "#46039f"
            ],
            [
             0.2222222222222222,
             "#7201a8"
            ],
            [
             0.3333333333333333,
             "#9c179e"
            ],
            [
             0.4444444444444444,
             "#bd3786"
            ],
            [
             0.5555555555555556,
             "#d8576b"
            ],
            [
             0.6666666666666666,
             "#ed7953"
            ],
            [
             0.7777777777777778,
             "#fb9f3a"
            ],
            [
             0.8888888888888888,
             "#fdca26"
            ],
            [
             1,
             "#f0f921"
            ]
           ],
           "sequentialminus": [
            [
             0,
             "#0d0887"
            ],
            [
             0.1111111111111111,
             "#46039f"
            ],
            [
             0.2222222222222222,
             "#7201a8"
            ],
            [
             0.3333333333333333,
             "#9c179e"
            ],
            [
             0.4444444444444444,
             "#bd3786"
            ],
            [
             0.5555555555555556,
             "#d8576b"
            ],
            [
             0.6666666666666666,
             "#ed7953"
            ],
            [
             0.7777777777777778,
             "#fb9f3a"
            ],
            [
             0.8888888888888888,
             "#fdca26"
            ],
            [
             1,
             "#f0f921"
            ]
           ]
          },
          "colorway": [
           "#636efa",
           "#EF553B",
           "#00cc96",
           "#ab63fa",
           "#FFA15A",
           "#19d3f3",
           "#FF6692",
           "#B6E880",
           "#FF97FF",
           "#FECB52"
          ],
          "font": {
           "color": "#2a3f5f"
          },
          "geo": {
           "bgcolor": "white",
           "lakecolor": "white",
           "landcolor": "#E5ECF6",
           "showlakes": true,
           "showland": true,
           "subunitcolor": "white"
          },
          "hoverlabel": {
           "align": "left"
          },
          "hovermode": "closest",
          "mapbox": {
           "style": "light"
          },
          "paper_bgcolor": "white",
          "plot_bgcolor": "#E5ECF6",
          "polar": {
           "angularaxis": {
            "gridcolor": "white",
            "linecolor": "white",
            "ticks": ""
           },
           "bgcolor": "#E5ECF6",
           "radialaxis": {
            "gridcolor": "white",
            "linecolor": "white",
            "ticks": ""
           }
          },
          "scene": {
           "xaxis": {
            "backgroundcolor": "#E5ECF6",
            "gridcolor": "white",
            "gridwidth": 2,
            "linecolor": "white",
            "showbackground": true,
            "ticks": "",
            "zerolinecolor": "white"
           },
           "yaxis": {
            "backgroundcolor": "#E5ECF6",
            "gridcolor": "white",
            "gridwidth": 2,
            "linecolor": "white",
            "showbackground": true,
            "ticks": "",
            "zerolinecolor": "white"
           },
           "zaxis": {
            "backgroundcolor": "#E5ECF6",
            "gridcolor": "white",
            "gridwidth": 2,
            "linecolor": "white",
            "showbackground": true,
            "ticks": "",
            "zerolinecolor": "white"
           }
          },
          "shapedefaults": {
           "line": {
            "color": "#2a3f5f"
           }
          },
          "ternary": {
           "aaxis": {
            "gridcolor": "white",
            "linecolor": "white",
            "ticks": ""
           },
           "baxis": {
            "gridcolor": "white",
            "linecolor": "white",
            "ticks": ""
           },
           "bgcolor": "#E5ECF6",
           "caxis": {
            "gridcolor": "white",
            "linecolor": "white",
            "ticks": ""
           }
          },
          "title": {
           "x": 0.05
          },
          "xaxis": {
           "automargin": true,
           "gridcolor": "white",
           "linecolor": "white",
           "ticks": "",
           "title": {
            "standoff": 15
           },
           "zerolinecolor": "white",
           "zerolinewidth": 2
          },
          "yaxis": {
           "automargin": true,
           "gridcolor": "white",
           "linecolor": "white",
           "ticks": "",
           "title": {
            "standoff": 15
           },
           "zerolinecolor": "white",
           "zerolinewidth": 2
          }
         }
        }
       }
      },
      "image/png": "[encoded data removed]",
      "image/svg+xml": "<svg class=\"main-svg\" xmlns=\"http://www.w3.org/2000/svg\" xmlns:xlink=\"http://www.w3.org/1999/xlink\" width=\"700\" height=\"500\" style=\"\" viewBox=\"0 0 700 500\"><rect x=\"0\" y=\"0\" width=\"700\" height=\"500\" style=\"fill: rgb(255, 255, 255); fill-opacity: 1;\"/><defs id=\"defs-e3fadd\"><g class=\"clips\"/><g class=\"gradients\"/></defs><g class=\"bglayer\"/><g class=\"layer-below\"><g class=\"imagelayer\"/><g class=\"shapelayer\"/></g><g class=\"cartesianlayer\"/><g class=\"polarlayer\"/><g class=\"ternarylayer\"/><g class=\"geolayer\"/><g class=\"funnelarealayer\"/><g class=\"pielayer\"/><g class=\"treemaplayer\"/><g class=\"sunburstlayer\"/><g class=\"glimages\"><image xmlns=\"http://www.w3.org/2000/svg\" xlink:href=\"data:image/png;base64,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\" x=\"0\" y=\"0\" width=\"700\" height=\"500\" preserveAspectRatio=\"none\"/></g><defs id=\"topdefs-e3fadd\"><g class=\"clips\"/></defs><g class=\"layer-above\"><g class=\"imagelayer\"/><g class=\"shapelayer\"/></g><g class=\"infolayer\"><g class=\"g-gtitle\"/></g></svg>",
      "text/html": [
       "<div\n",
       "    class=\"webio-mountpoint\"\n",
       "    data-webio-mountpoint=\"6875184413968773118\"\n",
       ">\n",
       "    <script>\n",
       "    (function(){\n",
       "    // Some integrations (namely, IJulia/Jupyter) use an alternate render pathway than\n",
       "    // just putting the html on the page. If WebIO isn't defined, then it's pretty likely\n",
       "    // that we're in one of those situations and the integration just isn't installed\n",
       "    // correctly.\n",
       "    if (typeof window.WebIO === \"undefined\") {\n",
       "        document\n",
       "            .querySelector('[data-webio-mountpoint=\"6875184413968773118\"]')\n",
       "            .innerHTML = (\n",
       "                '<div style=\"padding: 1em; background-color: #f8d6da; border: 1px solid #f5c6cb; font-weight: bold;\">' +\n",
       "                '<p><strong>WebIO not detected.</strong></p>' +\n",
       "                '<p>Please read ' +\n",
       "                '<a href=\"https://juliagizmos.github.io/WebIO.jl/latest/troubleshooting/not-detected/\" target=\"_blank\">the troubleshooting guide</a> ' +\n",
       "                'for more information on how to resolve this issue.</p>' +\n",
       "                '<p><a href=\"https://juliagizmos.github.io/WebIO.jl/latest/troubleshooting/not-detected/\" target=\"_blank\">https://juliagizmos.github.io/WebIO.jl/latest/troubleshooting/not-detected/</a></p>' +\n",
       "                '</div>'\n",
       "            );\n",
       "        return;\n",
       "    }\n",
       "    WebIO.mount(\n",
       "        document.querySelector('[data-webio-mountpoint=\"6875184413968773118\"]'),\n",
       "        {\"props\":{},\"nodeType\":\"Scope\",\"type\":\"node\",\"instanceArgs\":{\"imports\":{\"data\":[{\"name\":\"Plotly\",\"type\":\"js\",\"url\":\"\\/assetserver\\/4176b01933e6ee17b869a9de1c377f69824e56b6-plotly.min.js\"},{\"name\":null,\"type\":\"js\",\"url\":\"\\/assetserver\\/efcb236a7dd21b9052e6ddb3595839100983e917-plotly_webio.bundle.js\"}],\"type\":\"async_block\"},\"id\":\"18007154088813102525\",\"handlers\":{\"_toImage\":[\"(function (options){return this.Plotly.toImage(this.plotElem,options).then((function (data){return WebIO.setval({\\\"name\\\":\\\"image\\\",\\\"scope\\\":\\\"18007154088813102525\\\",\\\"id\\\":\\\"3510629802427665135\\\",\\\"type\\\":\\\"observable\\\"},data)}))})\"],\"__get_gd_contents\":[\"(function (prop){prop==\\\"data\\\" ? (WebIO.setval({\\\"name\\\":\\\"__gd_contents\\\",\\\"scope\\\":\\\"18007154088813102525\\\",\\\"id\\\":\\\"13171539110789034694\\\",\\\"type\\\":\\\"observable\\\"},this.plotElem.data)) : undefined; return prop==\\\"layout\\\" ? (WebIO.setval({\\\"name\\\":\\\"__gd_contents\\\",\\\"scope\\\":\\\"18007154088813102525\\\",\\\"id\\\":\\\"13171539110789034694\\\",\\\"type\\\":\\\"observable\\\"},this.plotElem.layout)) : undefined})\"],\"_downloadImage\":[\"(function (options){return this.Plotly.downloadImage(this.plotElem,options)})\"],\"_commands\":[\"(function (args){var fn=args.shift(); var elem=this.plotElem; var Plotly=this.Plotly; args.unshift(elem); return Plotly[fn].apply(this,args)})\"]},\"systemjs_options\":null,\"mount_callbacks\":[\"function () {\\n    var handler = ((function (Plotly,PlotlyWebIO){PlotlyWebIO.init(WebIO); var gd=this.dom.querySelector(\\\"#plot-3f482ba9-b37f-4e83-a401-666f89cbecdd\\\"); this.plotElem=gd; this.Plotly=Plotly; (window.Blink!==undefined) ? (gd.style.width=\\\"100%\\\", gd.style.height=\\\"100vh\\\", gd.style.marginLeft=\\\"0%\\\", gd.style.marginTop=\\\"0vh\\\") : undefined; window.onresize=(function (){return Plotly.Plots.resize(gd)}); Plotly.newPlot(gd,[{\\\"mode\\\":\\\"markers\\\",\\\"y\\\":[0.9966821256634559,0.45190073413900456,-0.08787821125026239,-0.5116635851481899,0.5322204630814794,-0.6845559593878731,-0.8421161208868935,-0.4257506249768464,0.8368197819027999,-0.1402085025623009,0.6548189687997218,0.7507125587712198,0.3028847249900474,-0.35092017594043434,0.366769116503132,-0.5276880736366351,0.6408362248977367,-0.6056223275834702,-0.2694097111765272,0.5814707736275894,-0.1354597761977682,-0.7779171758087721,0.5617724458719957,0.700971271684754,-0.6675110302211162,0.7784817520449383,0.9329569006403179,0.23737933001378056,-0.1468722884799756,-0.000420868947250991,-0.4204194717058098,0.5150031560448045,-0.7107943255966008,-0.5217110842647468,0.5019494011837038,0.27357589460725684,-0.5073871345447247,0.14011572783094536,-0.8924515175837591,0.836204974153911,-0.6713842995102997,-0.3943158221941216,0.8482635558141661,0.43996954105744174,0.2552272924377573,0.9994098496634765,-0.772062925970591,0.08845610529327745,-0.8474906931344707,-0.2722172920309368,-0.002674217093904676,0.8731522184157339,-0.02096093141927756,-0.8794034058591418,-0.6201094466111071,-0.046496793555898835,0.45391442483028405,-0.9195135192967163,0.6354763688571776,0.11330735405492989,-0.03280907582502621,0.7210430056677424,-0.4677686309546049,-0.5196145822323376,-0.8112983799893523,0.849726974491071,-0.3312624132516752,0.8041692436801348,-0.4383857302136294,-0.7242525092525475,-0.23024079392622088,0.31027649746663594,-0.32965074360544744,0.9748082294732549,0.7625178407804126,0.6770918154953284,0.4902290945696018,0.7819999689885608,-0.7491527925554261,0.24196637232568435,0.04111085236692204,-0.765792143482777,-0.5643189427978053,0.23502873664862375,0.44483705554840824,-0.9005346488491741,0.21185089646794672,-0.02259838565038869,0.20945674698840955,-0.03392448173629006,0.40994626502591686,0.32323703398017034,-0.8627944873596047,0.5470357414026805,0.19348462030947544,0.8192941811305059,0.666956719654852,0.11175992424707228,0.8361878359408921,-0.558470849388635],\\\"type\\\":\\\"scatter3d\\\",\\\"z\\\":[0.0034589668817686103,-0.8792274833671667,0.059329114180636244,-0.1975913271185903,-0.20794785584929687,-0.19074664015465115,0.3661821495849873,0.8526303446855426,0.3585217763639097,0.3725929301068598,0.5359592621829383,0.574630980949614,-0.7765464480343267,-0.8386166971274289,0.8663589899703552,0.8486530646885928,-0.1389967711603013,-0.5383696461906413,-0.7419752069086034,-0.7502283546062583,0.9904961855894827,0.605178673614412,-0.03377827597912364,-0.5531936945755256,0.6031404839781327,0.5190925103966957,0.3396065837936082,0.9449981095511624,-0.16403984605205912,-0.9960533613481144,0.6469258351575224,0.08503925909041188,-0.7018890460921323,0.7517043001979631,0.8177238772421414,-0.5906464135858072,0.5626351766863857,0.8912958201558878,-0.44781726248846776,0.045658640198165124,-0.6210448103554054,0.3800188443044761,0.1085828460423428,-0.894127800359426,0.2023505643218626,-0.032411590591023165,-0.11674152394997162,0.9597253159180563,-0.44012346359254173,-0.745102715375642,-0.9091482597188025,-0.3249862288044323,-0.23712783516755698,-0.3148015454003128,-0.6191756390398038,-0.7352534090847083,-0.10563794319375241,0.08339125927373048,-0.4798150918856918,-0.25101160603203687,-0.928421234979107,-0.23407159712256642,-0.7799991045528245,0.6883109845737108,0.3489713761778557,0.1161903881958739,-0.8953722431881921,0.5266182104173338,-0.8982463261426921,0.6776429388963332,-0.9250111661367897,0.009792635924942061,-0.5100137836190042,0.08007006784344695,0.031232255881171955,-0.39031309024847083,-0.8549353820402767,0.021550251042844026,-0.5383365240139659,-0.510183889376131,0.7499715302498962,0.4729136593930219,0.326678260526865,-0.8638757155356109,-0.3848869139012967,0.20916119832149804,0.2534429962094338,-0.6047991108180164,-0.6870054085835862,-0.9994192246100089,0.910933512830618,0.7761915240576005,0.04412460488910175,-0.6514704013072321,0.8557795304808107,0.42715820441200236,-0.4866476532497932,-0.8314383147506157,0.2500182678882976,-0.36424353590566017],\\\"x\\\":[0.08131897645129262,-0.15081365646541195,0.9943628493653589,0.8361567096428847,-0.8206698897394832,0.7035615522015544,-0.39591801205265825,-0.3029156659092389,0.4137569195663284,-0.9173418578935674,-0.5328787736252865,0.3259292712170114,-0.5524820878661806,0.41662580983061615,0.33897273589045174,0.03651400739875485,0.7549892916232841,-0.5859861093856608,0.6139146519319402,-0.3147207577547423,-0.02383181413857592,0.16912610852261978,0.8266019278533494,0.4501288843815055,-0.43663552434469627,-0.35285850901331495,-0.11941017457338739,0.2250102811583017,-0.9754585894766992,-0.08875541795547955,-0.6361874186246925,-0.8529595967437406,-0.046078125781652504,0.403433005118809,-0.2817347320431056,-0.7591396735832364,0.6526867193788862,-0.4312300358127293,0.054680784374221435,0.5465130645972806,0.4044087856385946,-0.836720210309793,-0.5183229740449984,-0.08344027544368836,-0.9454698717111589,-0.011377222463649934,-0.6247321465456759,0.26665114929872624,-0.2967336547238266,-0.6088675467285054,-0.4164640325564831,-0.3633031166438789,-0.9712522994272829,0.3571409200538581,-0.4817528435238521,-0.6761955875472234,0.8847611654501942,-0.3841103821915111,0.6049357504915884,-0.9613296090073832,-0.3700777958529496,0.6521560176814433,0.4156848623556631,0.5061903539644765,-0.4690564115702781,-0.514260500634788,-0.2976134400439962,0.27565392791644516,0.031168720156904237,-0.12750823583333398,0.30223090400301544,-0.9505959180437701,-0.7944912383148119,0.2081770880446833,0.6462128818618135,-0.6238608538527877,-0.16959046958221005,-0.6229057996052697,-0.38595839195302845,-0.8253270101508807,0.660191337138177,-0.4357924548905761,0.7581724374432963,0.44551121316661385,-0.8086915713166287,-0.3811678624160354,-0.9438674935276202,-0.7960573776554886,0.6958099163693582,-0.003216056413173293,0.04630545317099356,-0.5413358826503575,-0.5036255472325223,-0.5256788124402709,-0.47979693299743115,0.38248256583693807,-0.5642187480877502,0.5442610110020235,-0.4881401117984705,-0.7452764298795974]}],{\\\"template\\\":{\\\"layout\\\":{\\\"coloraxis\\\":{\\\"colorbar\\\":{\\\"ticks\\\":\\\"\\\",\\\"outlinewidth\\\":0}},\\\"xaxis\\\":{\\\"gridcolor\\\":\\\"white\\\",\\\"zerolinewidth\\\":2,\\\"title\\\":{\\\"standoff\\\":15},\\\"ticks\\\":\\\"\\\",\\\"zerolinecolor\\\":\\\"white\\\",\\\"automargin\\\":true,\\\"linecolor\\\":\\\"white\\\"},\\\"hovermode\\\":\\\"closest\\\",\\\"paper_bgcolor\\\":\\\"white\\\",\\\"geo\\\":{\\\"showlakes\\\":true,\\\"showland\\\":true,\\\"landcolor\\\":\\\"#E5ECF6\\\",\\\"bgcolor\\\":\\\"white\\\",\\\"subunitcolor\\\":\\\"white\\\",\\\"lakecolor\\\":\\\"white\\\"},\\\"colorscale\\\":{\\\"sequential\\\":[[0.0,\\\"#0d0887\\\"],[0.1111111111111111,\\\"#46039f\\\"],[0.2222222222222222,\\\"#7201a8\\\"],[0.3333333333333333,\\\"#9c179e\\\"],[0.4444444444444444,\\\"#bd3786\\\"],[0.5555555555555556,\\\"#d8576b\\\"],[0.6666666666666666,\\\"#ed7953\\\"],[0.7777777777777778,\\\"#fb9f3a\\\"],[0.8888888888888888,\\\"#fdca26\\\"],[1.0,\\\"#f0f921\\\"]],\\\"diverging\\\":[[0,\\\"#8e0152\\\"],[0.1,\\\"#c51b7d\\\"],[0.2,\\\"#de77ae\\\"],[0.3,\\\"#f1b6da\\\"],[0.4,\\\"#fde0ef\\\"],[0.5,\\\"#f7f7f7\\\"],[0.6,\\\"#e6f5d0\\\"],[0.7,\\\"#b8e186\\\"],[0.8,\\\"#7fbc41\\\"],[0.9,\\\"#4d9221\\\"],[1,\\\"#276419\\\"]],\\\"sequentialminus\\\":[[0.0,\\\"#0d0887\\\"],[0.1111111111111111,\\\"#46039f\\\"],[0.2222222222222222,\\\"#7201a8\\\"],[0.3333333333333333,\\\"#9c179e\\\"],[0.4444444444444444,\\\"#bd3786\\\"],[0.5555555555555556,\\\"#d8576b\\\"],[0.6666666666666666,\\\"#ed7953\\\"],[0.7777777777777778,\\\"#fb9f3a\\\"],[0.8888888888888888,\\\"#fdca26\\\"],[1.0,\\\"#f0f921\\\"]]},\\\"yaxis\\\":{\\\"gridcolor\\\":\\\"white\\\",\\\"zerolinewidth\\\":2,\\\"title\\\":{\\\"standoff\\\":15},\\\"ticks\\\":\\\"\\\",\\\"zerolinecolor\\\":\\\"white\\\",\\\"automargin\\\":true,\\\"linecolor\\\":\\\"white\\\"},\\\"shapedefaults\\\":{\\\"line\\\":{\\\"color\\\":\\\"#2a3f5f\\\"}},\\\"hoverlabel\\\":{\\\"align\\\":\\\"left\\\"},\\\"mapbox\\\":{\\\"style\\\":\\\"light\\\"},\\\"polar\\\":{\\\"angularaxis\\\":{\\\"gridcolor\\\":\\\"white\\\",\\\"ticks\\\":\\\"\\\",\\\"linecolor\\\":\\\"white\\\"},\\\"bgcolor\\\":\\\"#E5ECF6\\\",\\\"radialaxis\\\":{\\\"gridcolor\\\":\\\"white\\\",\\\"ticks\\\":\\\"\\\",\\\"linecolor\\\":\\\"white\\\"}},\\\"autotypenumbers\\\":\\\"strict\\\",\\\"font\\\":{\\\"color\\\":\\\"#2a3f5f\\\"},\\\"ternary\\\":{\\\"baxis\\\":{\\\"gridcolor\\\":\\\"white\\\",\\\"ticks\\\":\\\"\\\",\\\"linecolor\\\":\\\"white\\\"},\\\"bgcolor\\\":\\\"#E5ECF6\\\",\\\"caxis\\\":{\\\"gridcolor\\\":\\\"white\\\",\\\"ticks\\\":\\\"\\\",\\\"linecolor\\\":\\\"white\\\"},\\\"aaxis\\\":{\\\"gridcolor\\\":\\\"white\\\",\\\"ticks\\\":\\\"\\\",\\\"linecolor\\\":\\\"white\\\"}},\\\"annotationdefaults\\\":{\\\"arrowhead\\\":0,\\\"arrowwidth\\\":1,\\\"arrowcolor\\\":\\\"#2a3f5f\\\"},\\\"plot_bgcolor\\\":\\\"#E5ECF6\\\",\\\"title\\\":{\\\"x\\\":0.05},\\\"scene\\\":{\\\"xaxis\\\":{\\\"gridcolor\\\":\\\"white\\\",\\\"gridwidth\\\":2,\\\"backgroundcolor\\\":\\\"#E5ECF6\\\",\\\"ticks\\\":\\\"\\\",\\\"showbackground\\\":true,\\\"zerolinecolor\\\":\\\"white\\\",\\\"linecolor\\\":\\\"white\\\"},\\\"zaxis\\\":{\\\"gridcolor\\\":\\\"white\\\",\\\"gridwidth\\\":2,\\\"backgroundcolor\\\":\\\"#E5ECF6\\\",\\\"ticks\\\":\\\"\\\",\\\"showbackground\\\":true,\\\"zerolinecolor\\\":\\\"white\\\",\\\"linecolor\\\":\\\"white\\\"},\\\"yaxis\\\":{\\\"gridcolor\\\":\\\"white\\\",\\\"gridwidth\\\":2,\\\"backgroundcolor\\\":\\\"#E5ECF6\\\",\\\"ticks\\\":\\\"\\\",\\\"showbackground\\\":true,\\\"zerolinecolor\\\":\\\"white\\\",\\\"linecolor\\\":\\\"white\\\"}},\\\"colorway\\\":[\\\"#636efa\\\",\\\"#EF553B\\\",\\\"#00cc96\\\",\\\"#ab63fa\\\",\\\"#FFA15A\\\",\\\"#19d3f3\\\",\\\"#FF6692\\\",\\\"#B6E880\\\",\\\"#FF97FF\\\",\\\"#FECB52\\\"]},\\\"data\\\":{\\\"barpolar\\\":[{\\\"type\\\":\\\"barpolar\\\",\\\"marker\\\":{\\\"line\\\":{\\\"color\\\":\\\"#E5ECF6\\\",\\\"width\\\":0.5}}}],\\\"carpet\\\":[{\\\"aaxis\\\":{\\\"gridcolor\\\":\\\"white\\\",\\\"endlinecolor\\\":\\\"#2a3f5f\\\",\\\"minorgridcolor\\\":\\\"white\\\",\\\"startlinecolor\\\":\\\"#2a3f5f\\\",\\\"linecolor\\\":\\\"white\\\"},\\\"type\\\":\\\"carpet\\\",\\\"baxis\\\":{\\\"gridcolor\\\":\\\"white\\\",\\\"endlinecolor\\\":\\\"#2a3f5f\\\",\\\"minorgridcolor\\\":\\\"white\\\",\\\"startlinecolor\\\":\\\"#2a3f5f\\\",\\\"linecolor\\\":\\\"white\\\"}}],\\\"scatterpolar\\\":[{\\\"type\\\":\\\"scatterpolar\\\",\\\"marker\\\":{\\\"colorbar\\\":{\\\"ticks\\\":\\\"\\\",\\\"outlinewidth\\\":0}}}],\\\"parcoords\\\":[{\\\"line\\\":{\\\"colorbar\\\":{\\\"ticks\\\":\\\"\\\",\\\"outlinewidth\\\":0}},\\\"type\\\":\\\"parcoords\\\"}],\\\"scatter\\\":[{\\\"type\\\":\\\"scatter\\\",\\\"marker\\\":{\\\"colorbar\\\":{\\\"ticks\\\":\\\"\\\",\\\"outlinewidth\\\":0}}}],\\\"histogram2dcontour\\\":[{\\\"colorbar\\\":{\\\"ticks\\\":\\\"\\\",\\\"outlinewidth\\\":0},\\\"type\\\":\\\"histogram2dcontour\\\",\\\"colorscale\\\":[[0.0,\\\"#0d0887\\\"],[0.1111111111111111,\\\"#46039f\\\"],[0.2222222222222222,\\\"#7201a8\\\"],[0.3333333333333333,\\\"#9c179e\\\"],[0.4444444444444444,\\\"#bd3786\\\"],[0.5555555555555556,\\\"#d8576b\\\"],[0.6666666666666666,\\\"#ed7953\\\"],[0.7777777777777778,\\\"#fb9f3a\\\"],[0.8888888888888888,\\\"#fdca26\\\"],[1.0,\\\"#f0f921\\\"]]}],\\\"contour\\\":[{\\\"colorbar\\\":{\\\"ticks\\\":\\\"\\\",\\\"outlinewidth\\\":0},\\\"type\\\":\\\"contour\\\",\\\"colorscale\\\":[[0.0,\\\"#0d0887\\\"],[0.1111111111111111,\\\"#46039f\\\"],[0.2222222222222222,\\\"#7201a8\\\"],[0.3333333333333333,\\\"#9c179e\\\"],[0.4444444444444444,\\\"#bd3786\\\"],[0.5555555555555556,\\\"#d8576b\\\"],[0.6666666666666666,\\\"#ed7953\\\"],[0.7777777777777778,\\\"#fb9f3a\\\"],[0.8888888888888888,\\\"#fdca26\\\"],[1.0,\\\"#f0f921\\\"]]}],\\\"scattercarpet\\\":[{\\\"type\\\":\\\"scattercarpet\\\",\\\"marker\\\":{\\\"colorbar\\\":{\\\"ticks\\\":\\\"\\\",\\\"outlinewidth\\\":0}}}],\\\"mesh3d\\\":[{\\\"colorbar\\\":{\\\"ticks\\\":\\\"\\\",\\\"outlinewidth\\\":0},\\\"type\\\":\\\"mesh3d\\\"}],\\\"surface\\\":[{\\\"colorbar\\\":{\\\"ticks\\\":\\\"\\\",\\\"outlinewidth\\\":0},\\\"type\\\":\\\"surface\\\",\\\"colorscale\\\":[[0.0,\\\"#0d0887\\\"],[0.1111111111111111,\\\"#46039f\\\"],[0.2222222222222222,\\\"#7201a8\\\"],[0.3333333333333333,\\\"#9c179e\\\"],[0.4444444444444444,\\\"#bd3786\\\"],[0.5555555555555556,\\\"#d8576b\\\"],[0.6666666666666666,\\\"#ed7953\\\"],[0.7777777777777778,\\\"#fb9f3a\\\"],[0.8888888888888888,\\\"#fdca26\\\"],[1.0,\\\"#f0f921\\\"]]}],\\\"scattermapbox\\\":[{\\\"type\\\":\\\"scattermapbox\\\",\\\"marker\\\":{\\\"colorbar\\\":{\\\"ticks\\\":\\\"\\\",\\\"outlinewidth\\\":0}}}],\\\"scattergeo\\\":[{\\\"type\\\":\\\"scattergeo\\\",\\\"marker\\\":{\\\"colorbar\\\":{\\\"ticks\\\":\\\"\\\",\\\"outlinewidth\\\":0}}}],\\\"histogram\\\":[{\\\"type\\\":\\\"histogram\\\",\\\"marker\\\":{\\\"colorbar\\\":{\\\"ticks\\\":\\\"\\\",\\\"outlinewidth\\\":0}}}],\\\"pie\\\":[{\\\"type\\\":\\\"pie\\\",\\\"automargin\\\":true}],\\\"choropleth\\\":[{\\\"colorbar\\\":{\\\"ticks\\\":\\\"\\\",\\\"outlinewidth\\\":0},\\\"type\\\":\\\"choropleth\\\"}],\\\"heatmapgl\\\":[{\\\"colorbar\\\":{\\\"ticks\\\":\\\"\\\",\\\"outlinewidth\\\":0},\\\"type\\\":\\\"heatmapgl\\\",\\\"colorscale\\\":[[0.0,\\\"#0d0887\\\"],[0.1111111111111111,\\\"#46039f\\\"],[0.2222222222222222,\\\"#7201a8\\\"],[0.3333333333333333,\\\"#9c179e\\\"],[0.4444444444444444,\\\"#bd3786\\\"],[0.5555555555555556,\\\"#d8576b\\\"],[0.6666666666666666,\\\"#ed7953\\\"],[0.7777777777777778,\\\"#fb9f3a\\\"],[0.8888888888888888,\\\"#fdca26\\\"],[1.0,\\\"#f0f921\\\"]]}],\\\"bar\\\":[{\\\"type\\\":\\\"bar\\\",\\\"error_y\\\":{\\\"color\\\":\\\"#2a3f5f\\\"},\\\"error_x\\\":{\\\"color\\\":\\\"#2a3f5f\\\"},\\\"marker\\\":{\\\"line\\\":{\\\"color\\\":\\\"#E5ECF6\\\",\\\"width\\\":0.5}}}],\\\"heatmap\\\":[{\\\"colorbar\\\":{\\\"ticks\\\":\\\"\\\",\\\"outlinewidth\\\":0},\\\"type\\\":\\\"heatmap\\\",\\\"colorscale\\\":[[0.0,\\\"#0d0887\\\"],[0.1111111111111111,\\\"#46039f\\\"],[0.2222222222222222,\\\"#7201a8\\\"],[0.3333333333333333,\\\"#9c179e\\\"],[0.4444444444444444,\\\"#bd3786\\\"],[0.5555555555555556,\\\"#d8576b\\\"],[0.6666666666666666,\\\"#ed7953\\\"],[0.7777777777777778,\\\"#fb9f3a\\\"],[0.8888888888888888,\\\"#fdca26\\\"],[1.0,\\\"#f0f921\\\"]]}],\\\"contourcarpet\\\":[{\\\"colorbar\\\":{\\\"ticks\\\":\\\"\\\",\\\"outlinewidth\\\":0},\\\"type\\\":\\\"contourcarpet\\\"}],\\\"table\\\":[{\\\"type\\\":\\\"table\\\",\\\"header\\\":{\\\"line\\\":{\\\"color\\\":\\\"white\\\"},\\\"fill\\\":{\\\"color\\\":\\\"#C8D4E3\\\"}},\\\"cells\\\":{\\\"line\\\":{\\\"color\\\":\\\"white\\\"},\\\"fill\\\":{\\\"color\\\":\\\"#EBF0F8\\\"}}}],\\\"scatter3d\\\":[{\\\"line\\\":{\\\"colorbar\\\":{\\\"ticks\\\":\\\"\\\",\\\"outlinewidth\\\":0}},\\\"type\\\":\\\"scatter3d\\\",\\\"marker\\\":{\\\"colorbar\\\":{\\\"ticks\\\":\\\"\\\",\\\"outlinewidth\\\":0}}}],\\\"scattergl\\\":[{\\\"type\\\":\\\"scattergl\\\",\\\"marker\\\":{\\\"colorbar\\\":{\\\"ticks\\\":\\\"\\\",\\\"outlinewidth\\\":0}}}],\\\"histogram2d\\\":[{\\\"colorbar\\\":{\\\"ticks\\\":\\\"\\\",\\\"outlinewidth\\\":0},\\\"type\\\":\\\"histogram2d\\\",\\\"colorscale\\\":[[0.0,\\\"#0d0887\\\"],[0.1111111111111111,\\\"#46039f\\\"],[0.2222222222222222,\\\"#7201a8\\\"],[0.3333333333333333,\\\"#9c179e\\\"],[0.4444444444444444,\\\"#bd3786\\\"],[0.5555555555555556,\\\"#d8576b\\\"],[0.6666666666666666,\\\"#ed7953\\\"],[0.7777777777777778,\\\"#fb9f3a\\\"],[0.8888888888888888,\\\"#fdca26\\\"],[1.0,\\\"#f0f921\\\"]]}],\\\"scatterternary\\\":[{\\\"type\\\":\\\"scatterternary\\\",\\\"marker\\\":{\\\"colorbar\\\":{\\\"ticks\\\":\\\"\\\",\\\"outlinewidth\\\":0}}}],\\\"scatterpolargl\\\":[{\\\"type\\\":\\\"scatterpolargl\\\",\\\"marker\\\":{\\\"colorbar\\\":{\\\"ticks\\\":\\\"\\\",\\\"outlinewidth\\\":0}}}]}},\\\"margin\\\":{\\\"l\\\":0,\\\"b\\\":0,\\\"r\\\":0,\\\"t\\\":0}},{\\\"showLink\\\":false,\\\"editable\\\":false,\\\"responsive\\\":true,\\\"staticPlot\\\":false,\\\"scrollZoom\\\":true}); gd.on(\\\"plotly_hover\\\",(function (data){var filtered_data=WebIO.PlotlyCommands.filterEventData(gd,data,\\\"hover\\\"); return !(filtered_data.isnil) ? (WebIO.setval({\\\"name\\\":\\\"hover\\\",\\\"scope\\\":\\\"18007154088813102525\\\",\\\"id\\\":\\\"13580278781181352291\\\",\\\"type\\\":\\\"observable\\\"},filtered_data.out)) : undefined})); gd.on(\\\"plotly_unhover\\\",(function (){return WebIO.setval({\\\"name\\\":\\\"hover\\\",\\\"scope\\\":\\\"18007154088813102525\\\",\\\"id\\\":\\\"13580278781181352291\\\",\\\"type\\\":\\\"observable\\\"},{})})); gd.on(\\\"plotly_selected\\\",(function (data){var filtered_data=WebIO.PlotlyCommands.filterEventData(gd,data,\\\"selected\\\"); return !(filtered_data.isnil) ? (WebIO.setval({\\\"name\\\":\\\"selected\\\",\\\"scope\\\":\\\"18007154088813102525\\\",\\\"id\\\":\\\"1727455110824163073\\\",\\\"type\\\":\\\"observable\\\"},filtered_data.out)) : undefined})); gd.on(\\\"plotly_deselect\\\",(function (){return WebIO.setval({\\\"name\\\":\\\"selected\\\",\\\"scope\\\":\\\"18007154088813102525\\\",\\\"id\\\":\\\"1727455110824163073\\\",\\\"type\\\":\\\"observable\\\"},{})})); gd.on(\\\"plotly_relayout\\\",(function (data){var filtered_data=WebIO.PlotlyCommands.filterEventData(gd,data,\\\"relayout\\\"); return !(filtered_data.isnil) ? (WebIO.setval({\\\"name\\\":\\\"relayout\\\",\\\"scope\\\":\\\"18007154088813102525\\\",\\\"id\\\":\\\"3164725608831777567\\\",\\\"type\\\":\\\"observable\\\"},filtered_data.out)) : undefined})); return gd.on(\\\"plotly_click\\\",(function (data){var filtered_data=WebIO.PlotlyCommands.filterEventData(gd,data,\\\"click\\\"); return !(filtered_data.isnil) ? (WebIO.setval({\\\"name\\\":\\\"click\\\",\\\"scope\\\":\\\"18007154088813102525\\\",\\\"id\\\":\\\"6712951389682371175\\\",\\\"type\\\":\\\"observable\\\"},filtered_data.out)) : undefined}))}));\\n    (WebIO.importBlock({\\\"data\\\":[{\\\"name\\\":\\\"Plotly\\\",\\\"type\\\":\\\"js\\\",\\\"url\\\":\\\"\\/assetserver\\/4176b01933e6ee17b869a9de1c377f69824e56b6-plotly.min.js\\\"},{\\\"name\\\":null,\\\"type\\\":\\\"js\\\",\\\"url\\\":\\\"\\/assetserver\\/efcb236a7dd21b9052e6ddb3595839100983e917-plotly_webio.bundle.js\\\"}],\\\"type\\\":\\\"async_block\\\"})).then((imports) => handler.apply(this, imports));\\n}\\n\"],\"observables\":{\"_toImage\":{\"sync\":false,\"id\":\"14250360472853294134\",\"value\":{}},\"hover\":{\"sync\":false,\"id\":\"13580278781181352291\",\"value\":{}},\"selected\":{\"sync\":false,\"id\":\"1727455110824163073\",\"value\":{}},\"__gd_contents\":{\"sync\":false,\"id\":\"13171539110789034694\",\"value\":{}},\"click\":{\"sync\":false,\"id\":\"6712951389682371175\",\"value\":{}},\"image\":{\"sync\":true,\"id\":\"3510629802427665135\",\"value\":\"\"},\"__get_gd_contents\":{\"sync\":false,\"id\":\"9637715038188430084\",\"value\":\"\"},\"_downloadImage\":{\"sync\":false,\"id\":\"14813290038326987492\",\"value\":{}},\"relayout\":{\"sync\":false,\"id\":\"3164725608831777567\",\"value\":{}},\"_commands\":{\"sync\":false,\"id\":\"17788817430041487499\",\"value\":[]}}},\"children\":[{\"props\":{\"id\":\"plot-3f482ba9-b37f-4e83-a401-666f89cbecdd\"},\"nodeType\":\"DOM\",\"type\":\"node\",\"instanceArgs\":{\"namespace\":\"html\",\"tag\":\"div\"},\"children\":[]}]},\n",
       "        window,\n",
       "    );\n",
       "    })()\n",
       "    </script>\n",
       "</div>\n"
      ],
      "text/plain": [
       "data: [\n",
       "  \"scatter3d with fields mode, type, x, y, and z\"\n",
       "]\n",
       "\n",
       "layout: \"layout with fields margin and template\"\n",
       "\n"
      ]
     },
     "metadata": {},
     "output_type": "display_data"
    }
   ],
   "source": [
    "plot(scatter(x=xs, y=ys, z=zs, type=\"scatter3d\",mode=\"markers\", marker=attr(size=1)), Layout(margin=attr(l=0, r=0, b=0, t=0)))"
   ]
  },
  {
   "cell_type": "code",
   "execution_count": 8,
   "metadata": {},
   "outputs": [],
   "source": [
    "# Helix equation\n",
    "t = range(0, stop=20, length=100)\n",
    "\n",
    "plot(scatter(\n",
    "    x=cos.(t),\n",
    "    y=sin.(t),\n",
    "    z=t,\n",
    "    mode=\"markers\",\n",
    "    marker=attr(\n",
    "        size=12,\n",
    "        color=t,                # set color to an array/list of desired values\n",
    "        colorscale=\"Viridis\",   # choose a colorscale\n",
    "        opacity=0.8\n",
    "    ),\n",
    "    type=\"scatter3d\"\n",
    "), Layout(margin=attr(l=0, r=0, b=0, t=0)))"
   ]
  }
 ],
 "metadata": {
  "kernelspec": {
   "display_name": "Julia 1.7.2",
   "language": "julia",
   "name": "julia-1.7"
  },
  "language_info": {
   "file_extension": ".jl",
   "mimetype": "application/julia",
   "name": "julia",
   "version": "1.7.2"
  },
  "orig_nbformat": 4
 },
 "nbformat": 4,
 "nbformat_minor": 2
}
