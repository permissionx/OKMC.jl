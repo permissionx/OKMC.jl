{
 "cells": [
  {
   "cell_type": "code",
   "execution_count": 8,
   "metadata": {},
   "outputs": [],
   "source": [
    "abstract type Defect end\n",
    "\n",
    "mutable struct Sia <: Defect \n",
    "    coord::Vector{Int64}\n",
    "    function Sia()\n",
    "        coord = rand(1:10,2)\n",
    "        new(coord)\n",
    "    end\n",
    "end\n",
    "\n",
    "mutable struct Vac <: Defect \n",
    "    coord::Vector{Int64}\n",
    "    function Vac()\n",
    "        coord = rand(1:10,2)\n",
    "        new(coord)\n",
    "    end\n",
    "end"
   ]
  },
  {
   "cell_type": "code",
   "execution_count": 80,
   "metadata": {},
   "outputs": [
    {
     "data": {
      "text/plain": [
       "10000-element Vector{Vac}:\n",
       " Vac([1, 8])\n",
       " Vac([7, 4])\n",
       " Vac([4, 1])\n",
       " Vac([2, 1])\n",
       " Vac([1, 2])\n",
       " Vac([5, 1])\n",
       " Vac([3, 5])\n",
       " Vac([4, 7])\n",
       " Vac([9, 1])\n",
       " Vac([3, 5])\n",
       " ⋮\n",
       " Vac([10, 3])\n",
       " Vac([8, 5])\n",
       " Vac([5, 8])\n",
       " Vac([6, 4])\n",
       " Vac([7, 8])\n",
       " Vac([8, 8])\n",
       " Vac([7, 1])\n",
       " Vac([9, 6])\n",
       " Vac([10, 3])"
      ]
     },
     "metadata": {},
     "output_type": "display_data"
    }
   ],
   "source": [
    "sias = [Sia() for _ in 1:10000]\n",
    "vacs = [Vac() for _ in 1:10000]"
   ]
  },
  {
   "cell_type": "code",
   "execution_count": 4,
   "metadata": {},
   "outputs": [
    {
     "data": {
      "text/plain": [
       "MoveVac (generic function with 1 method)"
      ]
     },
     "metadata": {},
     "output_type": "display_data"
    }
   ],
   "source": [
    "function Move_fast(defect::Defect)    \n",
    "    defect.coord = rand(1:10,2)\n",
    "end\n",
    "function Move_slow(defect::T) where {T <: Defect}\n",
    "    defect.coord = rand(1:10,2)\n",
    "end\n",
    "function MoveSia(sia::Sia)\n",
    "    sia.coord = rand(1:10,2)\n",
    "end\n",
    "function MoveVac(vac::Vac)\n",
    "    vac.coord = rand(1:10,2)\n",
    "end"
   ]
  },
  {
   "cell_type": "code",
   "execution_count": 76,
   "metadata": {},
   "outputs": [
    {
     "data": {
      "text/plain": [
       "test3 (generic function with 2 methods)"
      ]
     },
     "metadata": {},
     "output_type": "display_data"
    }
   ],
   "source": [
    "function test3(sias::Vector{Sia}, vacs::Vector{Vac})\n",
    "    for sia in sias\n",
    "        MoveSia(sia)\n",
    "    end\n",
    "    for vac in vacs\n",
    "        MoveVac(vac)\n",
    "    end\n",
    "end"
   ]
  },
  {
   "cell_type": "code",
   "execution_count": 79,
   "metadata": {},
   "outputs": [
    {
     "data": {
      "text/plain": [
       "BenchmarkTools.Trial: 5434 samples with 1 evaluation.\n",
       " Range \u001b[90m(\u001b[39m\u001b[36m\u001b[1mmin\u001b[22m\u001b[39m … \u001b[35mmax\u001b[39m\u001b[90m):  \u001b[39m\u001b[36m\u001b[1m590.800 μs\u001b[22m\u001b[39m … \u001b[35m 11.512 ms\u001b[39m  \u001b[90m┊\u001b[39m GC \u001b[90m(\u001b[39mmin … max\u001b[90m): \u001b[39m 0.00% … 72.28%\n",
       " Time  \u001b[90m(\u001b[39m\u001b[34m\u001b[1mmedian\u001b[22m\u001b[39m\u001b[90m):     \u001b[39m\u001b[34m\u001b[1m631.900 μs               \u001b[22m\u001b[39m\u001b[90m┊\u001b[39m GC \u001b[90m(\u001b[39mmedian\u001b[90m):    \u001b[39m 0.00%\n",
       " Time  \u001b[90m(\u001b[39m\u001b[32m\u001b[1mmean\u001b[22m\u001b[39m ± \u001b[32mσ\u001b[39m\u001b[90m):   \u001b[39m\u001b[32m\u001b[1m912.952 μs\u001b[22m\u001b[39m ± \u001b[32m793.518 μs\u001b[39m  \u001b[90m┊\u001b[39m GC \u001b[90m(\u001b[39mmean ± σ\u001b[90m):  \u001b[39m14.42% ± 15.22%\n",
       "\n",
       "  \u001b[39m█\u001b[34m▅\u001b[39m\u001b[39m▄\u001b[39m▃\u001b[39m▂\u001b[32m▂\u001b[39m\u001b[39m▁\u001b[39m \u001b[39m \u001b[39m▂\u001b[39m▃\u001b[39m▄\u001b[39m▁\u001b[39m \u001b[39m \u001b[39m \u001b[39m \u001b[39m \u001b[39m \u001b[39m \u001b[39m \u001b[39m \u001b[39m \u001b[39m \u001b[39m \u001b[39m \u001b[39m \u001b[39m \u001b[39m \u001b[39m \u001b[39m \u001b[39m \u001b[39m \u001b[39m \u001b[39m \u001b[39m \u001b[39m \u001b[39m \u001b[39m \u001b[39m \u001b[39m \u001b[39m \u001b[39m \u001b[39m \u001b[39m \u001b[39m \u001b[39m \u001b[39m \u001b[39m \u001b[39m \u001b[39m \u001b[39m \u001b[39m \u001b[39m \u001b[39m \u001b[39m \u001b[39m \u001b[39m \u001b[39m \u001b[39m \u001b[39m \u001b[39m \u001b[39m▁\n",
       "  \u001b[39m█\u001b[34m█\u001b[39m\u001b[39m█\u001b[39m█\u001b[39m█\u001b[32m█\u001b[39m\u001b[39m█\u001b[39m█\u001b[39m▇\u001b[39m█\u001b[39m█\u001b[39m█\u001b[39m█\u001b[39m█\u001b[39m▇\u001b[39m▇\u001b[39m▆\u001b[39m▃\u001b[39m▄\u001b[39m▃\u001b[39m▄\u001b[39m▆\u001b[39m▆\u001b[39m▅\u001b[39m▅\u001b[39m▄\u001b[39m▇\u001b[39m▆\u001b[39m▄\u001b[39m▅\u001b[39m▄\u001b[39m▄\u001b[39m▅\u001b[39m▃\u001b[39m▃\u001b[39m▃\u001b[39m▃\u001b[39m▁\u001b[39m▁\u001b[39m▁\u001b[39m▁\u001b[39m▁\u001b[39m▁\u001b[39m▁\u001b[39m▁\u001b[39m▁\u001b[39m█\u001b[39m█\u001b[39m▇\u001b[39m▆\u001b[39m▆\u001b[39m▅\u001b[39m▅\u001b[39m▄\u001b[39m▄\u001b[39m▅\u001b[39m▃\u001b[39m▃\u001b[39m▅\u001b[39m▅\u001b[39m▅\u001b[39m \u001b[39m█\n",
       "  591 μs\u001b[90m        \u001b[39m\u001b[90mHistogram: \u001b[39m\u001b[90m\u001b[1mlog(\u001b[22m\u001b[39m\u001b[90mfrequency\u001b[39m\u001b[90m\u001b[1m)\u001b[22m\u001b[39m\u001b[90m by time\u001b[39m       4.82 ms \u001b[0m\u001b[1m<\u001b[22m\n",
       "\n",
       " Memory estimate\u001b[90m: \u001b[39m\u001b[33m1.53 MiB\u001b[39m, allocs estimate\u001b[90m: \u001b[39m\u001b[33m20000\u001b[39m."
      ]
     },
     "metadata": {},
     "output_type": "display_data"
    }
   ],
   "source": [
    "@benchmark test3(sias, vacs)"
   ]
  },
  {
   "cell_type": "code",
   "execution_count": 12,
   "metadata": {},
   "outputs": [],
   "source": [
    "using BenchmarkTools"
   ]
  },
  {
   "cell_type": "code",
   "execution_count": 81,
   "metadata": {},
   "outputs": [
    {
     "data": {
      "text/plain": [
       "test (generic function with 1 method)"
      ]
     },
     "metadata": {},
     "output_type": "display_data"
    }
   ],
   "source": [
    "function test(sias::Vector{Sia}, vacs::Vector{Vac}) ### most convient and efficiecy version \n",
    "    for sia in sias\n",
    "        Move_fast(sia)\n",
    "    end\n",
    "    for vac in vacs\n",
    "        Move_fast(vac)\n",
    "    end\n",
    "end"
   ]
  },
  {
   "cell_type": "code",
   "execution_count": 82,
   "metadata": {},
   "outputs": [
    {
     "data": {
      "text/plain": [
       "BenchmarkTools.Trial: 5621 samples with 1 evaluation.\n",
       " Range \u001b[90m(\u001b[39m\u001b[36m\u001b[1mmin\u001b[22m\u001b[39m … \u001b[35mmax\u001b[39m\u001b[90m):  \u001b[39m\u001b[36m\u001b[1m593.600 μs\u001b[22m\u001b[39m … \u001b[35m  8.610 ms\u001b[39m  \u001b[90m┊\u001b[39m GC \u001b[90m(\u001b[39mmin … max\u001b[90m): \u001b[39m 0.00% …  0.00%\n",
       " Time  \u001b[90m(\u001b[39m\u001b[34m\u001b[1mmedian\u001b[22m\u001b[39m\u001b[90m):     \u001b[39m\u001b[34m\u001b[1m652.300 μs               \u001b[22m\u001b[39m\u001b[90m┊\u001b[39m GC \u001b[90m(\u001b[39mmedian\u001b[90m):    \u001b[39m 0.00%\n",
       " Time  \u001b[90m(\u001b[39m\u001b[32m\u001b[1mmean\u001b[22m\u001b[39m ± \u001b[32mσ\u001b[39m\u001b[90m):   \u001b[39m\u001b[32m\u001b[1m881.023 μs\u001b[22m\u001b[39m ± \u001b[32m827.419 μs\u001b[39m  \u001b[90m┊\u001b[39m GC \u001b[90m(\u001b[39mmean ± σ\u001b[90m):  \u001b[39m16.62% ± 15.56%\n",
       "\n",
       "  \u001b[39m█\u001b[34m▅\u001b[39m\u001b[39m▄\u001b[39m▃\u001b[32m▃\u001b[39m\u001b[39m▂\u001b[39m▁\u001b[39m▂\u001b[39m▂\u001b[39m▂\u001b[39m \u001b[39m \u001b[39m \u001b[39m \u001b[39m \u001b[39m \u001b[39m \u001b[39m \u001b[39m \u001b[39m \u001b[39m \u001b[39m \u001b[39m \u001b[39m \u001b[39m \u001b[39m \u001b[39m \u001b[39m \u001b[39m \u001b[39m \u001b[39m \u001b[39m \u001b[39m \u001b[39m \u001b[39m \u001b[39m \u001b[39m \u001b[39m \u001b[39m \u001b[39m \u001b[39m \u001b[39m \u001b[39m \u001b[39m \u001b[39m \u001b[39m \u001b[39m \u001b[39m \u001b[39m \u001b[39m \u001b[39m \u001b[39m \u001b[39m \u001b[39m \u001b[39m \u001b[39m \u001b[39m \u001b[39m \u001b[39m \u001b[39m \u001b[39m \u001b[39m \u001b[39m▁\n",
       "  \u001b[39m█\u001b[34m█\u001b[39m\u001b[39m█\u001b[39m█\u001b[32m█\u001b[39m\u001b[39m█\u001b[39m█\u001b[39m█\u001b[39m█\u001b[39m█\u001b[39m█\u001b[39m▇\u001b[39m▇\u001b[39m▆\u001b[39m▄\u001b[39m▃\u001b[39m▃\u001b[39m▄\u001b[39m▅\u001b[39m▆\u001b[39m▃\u001b[39m▃\u001b[39m▃\u001b[39m▄\u001b[39m▄\u001b[39m▁\u001b[39m▁\u001b[39m▁\u001b[39m▃\u001b[39m▁\u001b[39m▁\u001b[39m▁\u001b[39m▁\u001b[39m▁\u001b[39m▁\u001b[39m▁\u001b[39m▃\u001b[39m▁\u001b[39m▁\u001b[39m▁\u001b[39m▁\u001b[39m▁\u001b[39m▆\u001b[39m█\u001b[39m▇\u001b[39m▆\u001b[39m▅\u001b[39m▄\u001b[39m▄\u001b[39m▅\u001b[39m▃\u001b[39m▅\u001b[39m▃\u001b[39m▆\u001b[39m▆\u001b[39m▆\u001b[39m▆\u001b[39m▅\u001b[39m▅\u001b[39m▆\u001b[39m▅\u001b[39m \u001b[39m█\n",
       "  594 μs\u001b[90m        \u001b[39m\u001b[90mHistogram: \u001b[39m\u001b[90m\u001b[1mlog(\u001b[22m\u001b[39m\u001b[90mfrequency\u001b[39m\u001b[90m\u001b[1m)\u001b[22m\u001b[39m\u001b[90m by time\u001b[39m       5.32 ms \u001b[0m\u001b[1m<\u001b[22m\n",
       "\n",
       " Memory estimate\u001b[90m: \u001b[39m\u001b[33m1.53 MiB\u001b[39m, allocs estimate\u001b[90m: \u001b[39m\u001b[33m20000\u001b[39m."
      ]
     },
     "metadata": {},
     "output_type": "display_data"
    }
   ],
   "source": [
    "@benchmark test(sias,vacs)"
   ]
  },
  {
   "cell_type": "code",
   "execution_count": 29,
   "metadata": {},
   "outputs": [
    {
     "name": "stdout",
     "output_type": "stream",
     "text": [
      "MethodInstance for test(::Vector{Sia}, ::Vector{Vac})\n",
      "  from test(sias::Vector{Sia}, vacs::Vector{Vac}) in Main at /home/xuke/Researches/OKMC.jl/test.ipynb:1\n",
      "Arguments\n",
      "  #self#\u001b[36m::Core.Const(test)\u001b[39m\n",
      "  sias\u001b[36m::Vector{Sia}\u001b[39m\n",
      "  vacs\u001b[36m::Vector{Vac}\u001b[39m\n",
      "Locals\n",
      "  @_4\u001b[33m\u001b[1m::Union{Nothing, Tuple{Vac, Int64}}\u001b[22m\u001b[39m\n",
      "  @_5\u001b[33m\u001b[1m::Union{Nothing, Tuple{Sia, Int64}}\u001b[22m\u001b[39m\n",
      "  sia\u001b[36m::Sia\u001b[39m\n",
      "  vac\u001b[36m::Vac\u001b[39m\n",
      "Body\u001b[36m::Nothing\u001b[39m\n",
      "\u001b[90m1 ─\u001b[39m       Core.NewvarNode(:(@_4))\n",
      "\u001b[90m│  \u001b[39m %2  = sias\u001b[36m::Vector{Sia}\u001b[39m\n",
      "\u001b[90m│  \u001b[39m       (@_5 = Base.iterate(%2))\n",
      "\u001b[90m│  \u001b[39m %4  = (@_5 === nothing)\u001b[36m::Bool\u001b[39m\n",
      "\u001b[90m│  \u001b[39m %5  = Base.not_int(%4)\u001b[36m::Bool\u001b[39m\n",
      "\u001b[90m└──\u001b[39m       goto #4 if not %5\n",
      "\u001b[90m2 ┄\u001b[39m %7  = @_5\u001b[36m::Tuple{Sia, Int64}\u001b[39m\n",
      "\u001b[90m│  \u001b[39m       (sia = Core.getfield(%7, 1))\n",
      "\u001b[90m│  \u001b[39m %9  = Core.getfield(%7, 2)\u001b[36m::Int64\u001b[39m\n",
      "\u001b[90m│  \u001b[39m       Main.Move_slow(sia)\n",
      "\u001b[90m│  \u001b[39m       (@_5 = Base.iterate(%2, %9))\n",
      "\u001b[90m│  \u001b[39m %12 = (@_5 === nothing)\u001b[36m::Bool\u001b[39m\n",
      "\u001b[90m│  \u001b[39m %13 = Base.not_int(%12)\u001b[36m::Bool\u001b[39m\n",
      "\u001b[90m└──\u001b[39m       goto #4 if not %13\n",
      "\u001b[90m3 ─\u001b[39m       goto #2\n",
      "\u001b[90m4 ┄\u001b[39m %16 = vacs\u001b[36m::Vector{Vac}\u001b[39m\n",
      "\u001b[90m│  \u001b[39m       (@_4 = Base.iterate(%16))\n",
      "\u001b[90m│  \u001b[39m %18 = (@_4 === nothing)\u001b[36m::Bool\u001b[39m\n",
      "\u001b[90m│  \u001b[39m %19 = Base.not_int(%18)\u001b[36m::Bool\u001b[39m\n",
      "\u001b[90m└──\u001b[39m       goto #7 if not %19\n",
      "\u001b[90m5 ┄\u001b[39m %21 = @_4\u001b[36m::Tuple{Vac, Int64}\u001b[39m\n",
      "\u001b[90m│  \u001b[39m       (vac = Core.getfield(%21, 1))\n",
      "\u001b[90m│  \u001b[39m %23 = Core.getfield(%21, 2)\u001b[36m::Int64\u001b[39m\n",
      "\u001b[90m│  \u001b[39m       Main.Move_slow(vac)\n",
      "\u001b[90m│  \u001b[39m       (@_4 = Base.iterate(%16, %23))\n",
      "\u001b[90m│  \u001b[39m %26 = (@_4 === nothing)\u001b[36m::Bool\u001b[39m\n",
      "\u001b[90m│  \u001b[39m %27 = Base.not_int(%26)\u001b[36m::Bool\u001b[39m\n",
      "\u001b[90m└──\u001b[39m       goto #7 if not %27\n",
      "\u001b[90m6 ─\u001b[39m       goto #5\n",
      "\u001b[90m7 ┄\u001b[39m       return nothing\n",
      "\n"
     ]
    }
   ],
   "source": [
    "@code_warntype test(sias,vacs)"
   ]
  },
  {
   "cell_type": "code",
   "execution_count": 53,
   "metadata": {},
   "outputs": [],
   "source": [
    "mutable struct Adefect\n",
    "    type::UInt8\n",
    "    coord::Vector{Int64}\n",
    "    function Adefect()\n",
    "        type = rand(UInt8(1):UInt8(2))\n",
    "        coord = rand(1:10,2)\n",
    "        new(type,coord)\n",
    "    end\n",
    "end"
   ]
  },
  {
   "cell_type": "code",
   "execution_count": 61,
   "metadata": {},
   "outputs": [
    {
     "data": {
      "text/plain": [
       "20000-element Vector{Adefect}:\n",
       " Adefect(0x01, [3, 2])\n",
       " Adefect(0x02, [4, 5])\n",
       " Adefect(0x02, [2, 3])\n",
       " Adefect(0x01, [8, 6])\n",
       " Adefect(0x02, [7, 6])\n",
       " Adefect(0x02, [3, 10])\n",
       " Adefect(0x02, [9, 5])\n",
       " Adefect(0x02, [7, 7])\n",
       " Adefect(0x01, [5, 7])\n",
       " Adefect(0x02, [7, 2])\n",
       " ⋮\n",
       " Adefect(0x01, [10, 7])\n",
       " Adefect(0x01, [5, 9])\n",
       " Adefect(0x02, [1, 8])\n",
       " Adefect(0x01, [2, 4])\n",
       " Adefect(0x02, [7, 6])\n",
       " Adefect(0x02, [10, 3])\n",
       " Adefect(0x01, [7, 7])\n",
       " Adefect(0x02, [6, 10])\n",
       " Adefect(0x02, [6, 6])"
      ]
     },
     "metadata": {},
     "output_type": "display_data"
    }
   ],
   "source": [
    "defects = [Adefect() for _ in 1:20000]"
   ]
  },
  {
   "cell_type": "code",
   "execution_count": 58,
   "metadata": {},
   "outputs": [
    {
     "data": {
      "text/plain": [
       "test2 (generic function with 1 method)"
      ]
     },
     "metadata": {},
     "output_type": "display_data"
    }
   ],
   "source": [
    "function test2(defects::Vector{Adefect})\n",
    "    for defect in defects\n",
    "        if defect.type === UInt8(1)\n",
    "            Move(defect)\n",
    "        else\n",
    "            Move(defect)\n",
    "        end\n",
    "    end\n",
    "end"
   ]
  },
  {
   "cell_type": "code",
   "execution_count": 59,
   "metadata": {},
   "outputs": [
    {
     "data": {
      "text/plain": [
       "Move (generic function with 2 methods)"
      ]
     },
     "metadata": {},
     "output_type": "display_data"
    }
   ],
   "source": [
    "function Move(defect::Adefect)\n",
    "    if defect.type === UInt8(1)\n",
    "        defect.coord = rand(1:10,2)\n",
    "    else\n",
    "        defect.coord = rand(10:20,2)\n",
    "    end\n",
    "end"
   ]
  },
  {
   "cell_type": "code",
   "execution_count": 62,
   "metadata": {},
   "outputs": [
    {
     "data": {
      "text/plain": [
       "BenchmarkTools.Trial: 5360 samples with 1 evaluation.\n",
       " Range \u001b[90m(\u001b[39m\u001b[36m\u001b[1mmin\u001b[22m\u001b[39m … \u001b[35mmax\u001b[39m\u001b[90m):  \u001b[39m\u001b[36m\u001b[1m663.300 μs\u001b[22m\u001b[39m … \u001b[35m  7.431 ms\u001b[39m  \u001b[90m┊\u001b[39m GC \u001b[90m(\u001b[39mmin … max\u001b[90m): \u001b[39m 0.00% … 83.28%\n",
       " Time  \u001b[90m(\u001b[39m\u001b[34m\u001b[1mmedian\u001b[22m\u001b[39m\u001b[90m):     \u001b[39m\u001b[34m\u001b[1m716.300 μs               \u001b[22m\u001b[39m\u001b[90m┊\u001b[39m GC \u001b[90m(\u001b[39mmedian\u001b[90m):    \u001b[39m 0.00%\n",
       " Time  \u001b[90m(\u001b[39m\u001b[32m\u001b[1mmean\u001b[22m\u001b[39m ± \u001b[32mσ\u001b[39m\u001b[90m):   \u001b[39m\u001b[32m\u001b[1m925.956 μs\u001b[22m\u001b[39m ± \u001b[32m687.252 μs\u001b[39m  \u001b[90m┊\u001b[39m GC \u001b[90m(\u001b[39mmean ± σ\u001b[90m):  \u001b[39m12.87% ± 14.74%\n",
       "\n",
       "  \u001b[39m█\u001b[34m▆\u001b[39m\u001b[39m▅\u001b[39m▃\u001b[32m▃\u001b[39m\u001b[39m▂\u001b[39m▂\u001b[39m▁\u001b[39m▁\u001b[39m \u001b[39m \u001b[39m▂\u001b[39m▂\u001b[39m \u001b[39m \u001b[39m \u001b[39m \u001b[39m \u001b[39m \u001b[39m \u001b[39m \u001b[39m \u001b[39m \u001b[39m \u001b[39m \u001b[39m \u001b[39m \u001b[39m \u001b[39m \u001b[39m \u001b[39m \u001b[39m \u001b[39m \u001b[39m \u001b[39m \u001b[39m \u001b[39m \u001b[39m \u001b[39m \u001b[39m \u001b[39m \u001b[39m \u001b[39m \u001b[39m \u001b[39m \u001b[39m \u001b[39m \u001b[39m \u001b[39m \u001b[39m \u001b[39m \u001b[39m \u001b[39m \u001b[39m \u001b[39m \u001b[39m \u001b[39m \u001b[39m \u001b[39m \u001b[39m \u001b[39m \u001b[39m \u001b[39m▁\n",
       "  \u001b[39m█\u001b[34m█\u001b[39m\u001b[39m█\u001b[39m█\u001b[32m█\u001b[39m\u001b[39m█\u001b[39m█\u001b[39m█\u001b[39m█\u001b[39m█\u001b[39m▇\u001b[39m█\u001b[39m█\u001b[39m█\u001b[39m█\u001b[39m▆\u001b[39m▆\u001b[39m▆\u001b[39m▁\u001b[39m▁\u001b[39m▁\u001b[39m▃\u001b[39m▄\u001b[39m▆\u001b[39m▆\u001b[39m▃\u001b[39m▃\u001b[39m▁\u001b[39m▁\u001b[39m▄\u001b[39m▁\u001b[39m▁\u001b[39m▃\u001b[39m▃\u001b[39m▁\u001b[39m▁\u001b[39m▁\u001b[39m▁\u001b[39m▁\u001b[39m▁\u001b[39m▁\u001b[39m▁\u001b[39m▁\u001b[39m▁\u001b[39m▄\u001b[39m█\u001b[39m█\u001b[39m▇\u001b[39m▆\u001b[39m▆\u001b[39m▅\u001b[39m▅\u001b[39m▅\u001b[39m▅\u001b[39m▄\u001b[39m▄\u001b[39m▁\u001b[39m▄\u001b[39m▅\u001b[39m▅\u001b[39m▅\u001b[39m \u001b[39m█\n",
       "  663 μs\u001b[90m        \u001b[39m\u001b[90mHistogram: \u001b[39m\u001b[90m\u001b[1mlog(\u001b[22m\u001b[39m\u001b[90mfrequency\u001b[39m\u001b[90m\u001b[1m)\u001b[22m\u001b[39m\u001b[90m by time\u001b[39m       4.58 ms \u001b[0m\u001b[1m<\u001b[22m\n",
       "\n",
       " Memory estimate\u001b[90m: \u001b[39m\u001b[33m1.53 MiB\u001b[39m, allocs estimate\u001b[90m: \u001b[39m\u001b[33m20000\u001b[39m."
      ]
     },
     "metadata": {},
     "output_type": "display_data"
    }
   ],
   "source": [
    "@benchmark test2(defects)"
   ]
  },
  {
   "cell_type": "markdown",
   "metadata": {},
   "source": [
    "### conclusion\n",
    "* Multiple dispatch can be fast if objects stored separately"
   ]
  },
  {
   "cell_type": "markdown",
   "metadata": {},
   "source": [
    "#### Macro test"
   ]
  },
  {
   "cell_type": "code",
   "execution_count": 35,
   "metadata": {},
   "outputs": [
    {
     "data": {
      "text/plain": [
       "@iter_vac (macro with 1 method)"
      ]
     },
     "metadata": {},
     "output_type": "display_data"
    }
   ],
   "source": [
    "macro iter_defect(ex, args...)\n",
    "    return quote\n",
    "        for sia in sias\n",
    "            $ex(sia, $(args...))\n",
    "        end\n",
    "        for vac in vacs\n",
    "            $ex(vac, $(args...))\n",
    "        end\n",
    "    end\n",
    "end\n",
    "\n",
    "macro iter_sia(ex)\n",
    "    return quote\n",
    "        for sia in sias\n",
    "            $ex(sia)\n",
    "        end\n",
    "    end\n",
    "end\n",
    "\n",
    "macro iter_vac(ex)\n",
    "    return quote\n",
    "        for vac in vacs\n",
    "            $ex(vac)\n",
    "        end\n",
    "    end\n",
    "end\n"
   ]
  },
  {
   "cell_type": "code",
   "execution_count": 12,
   "metadata": {},
   "outputs": [
    {
     "data": {
      "text/plain": [
       "10000-element Vector{Vac}:\n",
       " Vac([7, 7])\n",
       " Vac([5, 5])\n",
       " Vac([3, 3])\n",
       " Vac([1, 1])\n",
       " Vac([10, 8])\n",
       " Vac([8, 8])\n",
       " Vac([9, 6])\n",
       " Vac([2, 6])\n",
       " Vac([7, 7])\n",
       " Vac([7, 10])\n",
       " ⋮\n",
       " Vac([4, 7])\n",
       " Vac([1, 8])\n",
       " Vac([10, 5])\n",
       " Vac([9, 7])\n",
       " Vac([3, 1])\n",
       " Vac([5, 5])\n",
       " Vac([4, 3])\n",
       " Vac([4, 8])\n",
       " Vac([8, 2])"
      ]
     },
     "metadata": {},
     "output_type": "display_data"
    }
   ],
   "source": [
    "abstract type Defect end\n",
    "\n",
    "mutable struct Sia <: Defect \n",
    "    coord::Vector{Int64}\n",
    "    function Sia()\n",
    "        coord = rand(1:10,2)\n",
    "        new(coord)\n",
    "    end\n",
    "end\n",
    "\n",
    "mutable struct Vac <: Defect \n",
    "    coord::Vector{Int64}\n",
    "    function Vac()\n",
    "        coord = rand(1:10,2)\n",
    "        new(coord)\n",
    "    end\n",
    "end\n",
    "\n",
    "sias = [Sia() for _ in 1:10000]\n",
    "vacs = [Vac() for _ in 1:10000]"
   ]
  },
  {
   "cell_type": "code",
   "execution_count": 38,
   "metadata": {},
   "outputs": [
    {
     "data": {
      "text/plain": [
       "Displace2 (generic function with 1 method)"
      ]
     },
     "metadata": {},
     "output_type": "display_data"
    }
   ],
   "source": [
    "function Displace(defect::Defect, coord::Vector{Int64})\n",
    "    defect.coord = coord\n",
    "end\n",
    "\n",
    "function Displace2(defect::Defect, coord::Vector{Int64}, coord2::Vector{Int64})\n",
    "    defect.coord = coord\n",
    "    defect.coord = coord2\n",
    "end"
   ]
  },
  {
   "cell_type": "code",
   "execution_count": 40,
   "metadata": {},
   "outputs": [],
   "source": [
    "coord = [1,1]\n",
    "coord2 = [2,2]\n",
    "@iter_defect Displace2 coord coord2"
   ]
  },
  {
   "cell_type": "code",
   "execution_count": 42,
   "metadata": {},
   "outputs": [],
   "source": [
    "using StaticArrays"
   ]
  },
  {
   "cell_type": "code",
   "execution_count": 50,
   "metadata": {},
   "outputs": [
    {
     "data": {
      "text/plain": [
       "3-element SVector{3, Int64} with indices SOneTo(3):\n",
       " 1\n",
       " 2\n",
       " 3"
      ]
     },
     "metadata": {},
     "output_type": "display_data"
    }
   ],
   "source": [
    "a  = SA[1,2,3]"
   ]
  },
  {
   "cell_type": "code",
   "execution_count": 51,
   "metadata": {},
   "outputs": [
    {
     "data": {
      "text/plain": [
       "true"
      ]
     },
     "metadata": {},
     "output_type": "display_data"
    }
   ],
   "source": [
    "a isa SVector{3,Int64}"
   ]
  },
  {
   "cell_type": "code",
   "execution_count": 56,
   "metadata": {},
   "outputs": [
    {
     "ename": "ErrorException",
     "evalue": "setindex!(::SVector{3, Int64}, value, ::Int) is not defined.",
     "output_type": "error",
     "traceback": [
      "setindex!(::SVector{3, Int64}, value, ::Int) is not defined.\n",
      "\n",
      "Stacktrace:\n",
      "  [1] error(s::String)\n",
      "    @ Base ./error.jl:33\n",
      "  [2] setindex!(a::SVector{3, Int64}, value::Int64, i::Int64)\n",
      "    @ StaticArrays ~/.julia/packages/StaticArrays/58yy1/src/indexing.jl:3\n",
      "  [3] top-level scope\n",
      "    @ ~/Researches/OKMC.jl/test/test.ipynb:1\n",
      "  [4] eval\n",
      "    @ ./boot.jl:373 [inlined]\n",
      "  [5] include_string(mapexpr::typeof(REPL.softscope), mod::Module, code::String, filename::String)\n",
      "    @ Base ./loading.jl:1196\n",
      "  [6] #invokelatest#2\n",
      "    @ ./essentials.jl:716 [inlined]\n",
      "  [7] invokelatest\n",
      "    @ ./essentials.jl:714 [inlined]\n",
      "  [8] (::VSCodeServer.var\"#164#165\"{VSCodeServer.NotebookRunCellArguments, String})()\n",
      "    @ VSCodeServer ~/.vscode-server/extensions/julialang.language-julia-1.6.17/scripts/packages/VSCodeServer/src/serve_notebook.jl:19\n",
      "  [9] withpath(f::VSCodeServer.var\"#164#165\"{VSCodeServer.NotebookRunCellArguments, String}, path::String)\n",
      "    @ VSCodeServer ~/.vscode-server/extensions/julialang.language-julia-1.6.17/scripts/packages/VSCodeServer/src/repl.jl:184\n",
      " [10] notebook_runcell_request(conn::VSCodeServer.JSONRPC.JSONRPCEndpoint{Base.PipeEndpoint, Base.PipeEndpoint}, params::VSCodeServer.NotebookRunCellArguments)\n",
      "    @ VSCodeServer ~/.vscode-server/extensions/julialang.language-julia-1.6.17/scripts/packages/VSCodeServer/src/serve_notebook.jl:13\n",
      " [11] dispatch_msg(x::VSCodeServer.JSONRPC.JSONRPCEndpoint{Base.PipeEndpoint, Base.PipeEndpoint}, dispatcher::VSCodeServer.JSONRPC.MsgDispatcher, msg::Dict{String, Any})\n",
      "    @ VSCodeServer.JSONRPC ~/.vscode-server/extensions/julialang.language-julia-1.6.17/scripts/packages/JSONRPC/src/typed.jl:67\n",
      " [12] serve_notebook(pipename::String, outputchannel_logger::Base.CoreLogging.SimpleLogger; crashreporting_pipename::String)\n",
      "    @ VSCodeServer ~/.vscode-server/extensions/julialang.language-julia-1.6.17/scripts/packages/VSCodeServer/src/serve_notebook.jl:136\n",
      " [13] top-level scope\n",
      "    @ ~/.vscode-server/extensions/julialang.language-julia-1.6.17/scripts/notebook/notebook.jl:32\n",
      " [14] include(mod::Module, _path::String)\n",
      "    @ Base ./Base.jl:418\n",
      " [15] exec_options(opts::Base.JLOptions)\n",
      "    @ Base ./client.jl:292\n",
      " [16] _start()\n",
      "    @ Base ./client.jl:495"
     ]
    }
   ],
   "source": [
    "a[1] =2"
   ]
  },
  {
   "cell_type": "code",
   "execution_count": 52,
   "metadata": {},
   "outputs": [],
   "source": [
    "mutable struct Point\n",
    "    coord::Int64\n",
    "    function Point()\n",
    "        coord = rand(Int64(1):Int64(10))\n",
    "        new(coord)\n",
    "    end\n",
    "end"
   ]
  },
  {
   "cell_type": "code",
   "execution_count": 58,
   "metadata": {},
   "outputs": [],
   "source": [
    "Point()\n",
    "using StatsBase"
   ]
  },
  {
   "cell_type": "code",
   "execution_count": 59,
   "metadata": {},
   "outputs": [
    {
     "data": {
      "text/plain": [
       "2"
      ]
     },
     "metadata": {},
     "output_type": "display_data"
    }
   ],
   "source": [
    "sample([1,2,3])"
   ]
  },
  {
   "cell_type": "code",
   "execution_count": 60,
   "metadata": {},
   "outputs": [
    {
     "data": {
      "text/plain": [
       "true"
      ]
     },
     "metadata": {},
     "output_type": "display_data"
    }
   ],
   "source": [
    "Int64 <: Union{Int64, Float64}"
   ]
  },
  {
   "cell_type": "code",
   "execution_count": 63,
   "metadata": {},
   "outputs": [
    {
     "data": {
      "text/plain": [
       "3-element Vector{Int64}:\n",
       " 0\n",
       " 1\n",
       " 2"
      ]
     },
     "metadata": {},
     "output_type": "display_data"
    }
   ],
   "source": [
    "a = [1,2,3]\n",
    "a .-= 1"
   ]
  },
  {
   "cell_type": "code",
   "execution_count": 64,
   "metadata": {},
   "outputs": [
    {
     "ename": "ArgumentError",
     "evalue": "ArgumentError: range must be non-empty",
     "output_type": "error",
     "traceback": [
      "ArgumentError: range must be non-empty\n",
      "\n",
      "Stacktrace:\n",
      "  [1] SamplerRangeNDL\n",
      "    @ ~/Softwares/julia-1.7.2/share/julia/stdlib/v1.7/Random/src/generation.jl:321 [inlined]\n",
      "  [2] Sampler\n",
      "    @ ~/Softwares/julia-1.7.2/share/julia/stdlib/v1.7/Random/src/generation.jl:189 [inlined]\n",
      "  [3] Sampler\n",
      "    @ ~/Softwares/julia-1.7.2/share/julia/stdlib/v1.7/Random/src/Random.jl:140 [inlined]\n",
      "  [4] rand\n",
      "    @ ~/Softwares/julia-1.7.2/share/julia/stdlib/v1.7/Random/src/Random.jl:254 [inlined]\n",
      "  [5] sample\n",
      "    @ ~/.julia/packages/StatsBase/pJqvO/src/sampling.jl:431 [inlined]\n",
      "  [6] sample(a::Vector{Any})\n",
      "    @ StatsBase ~/.julia/packages/StatsBase/pJqvO/src/sampling.jl:432\n",
      "  [7] top-level scope\n",
      "    @ ~/Researches/OKMC.jl/test/test.ipynb:1\n",
      "  [8] eval\n",
      "    @ ./boot.jl:373 [inlined]\n",
      "  [9] include_string(mapexpr::typeof(REPL.softscope), mod::Module, code::String, filename::String)\n",
      "    @ Base ./loading.jl:1196\n",
      " [10] #invokelatest#2\n",
      "    @ ./essentials.jl:716 [inlined]\n",
      " [11] invokelatest\n",
      "    @ ./essentials.jl:714 [inlined]\n",
      " [12] (::VSCodeServer.var\"#164#165\"{VSCodeServer.NotebookRunCellArguments, String})()\n",
      "    @ VSCodeServer ~/.vscode-server/extensions/julialang.language-julia-1.6.17/scripts/packages/VSCodeServer/src/serve_notebook.jl:19\n",
      " [13] withpath(f::VSCodeServer.var\"#164#165\"{VSCodeServer.NotebookRunCellArguments, String}, path::String)\n",
      "    @ VSCodeServer ~/.vscode-server/extensions/julialang.language-julia-1.6.17/scripts/packages/VSCodeServer/src/repl.jl:184\n",
      " [14] notebook_runcell_request(conn::VSCodeServer.JSONRPC.JSONRPCEndpoint{Base.PipeEndpoint, Base.PipeEndpoint}, params::VSCodeServer.NotebookRunCellArguments)\n",
      "    @ VSCodeServer ~/.vscode-server/extensions/julialang.language-julia-1.6.17/scripts/packages/VSCodeServer/src/serve_notebook.jl:13\n",
      " [15] dispatch_msg(x::VSCodeServer.JSONRPC.JSONRPCEndpoint{Base.PipeEndpoint, Base.PipeEndpoint}, dispatcher::VSCodeServer.JSONRPC.MsgDispatcher, msg::Dict{String, Any})\n",
      "    @ VSCodeServer.JSONRPC ~/.vscode-server/extensions/julialang.language-julia-1.6.17/scripts/packages/JSONRPC/src/typed.jl:67\n",
      " [16] serve_notebook(pipename::String, outputchannel_logger::Base.CoreLogging.SimpleLogger; crashreporting_pipename::String)\n",
      "    @ VSCodeServer ~/.vscode-server/extensions/julialang.language-julia-1.6.17/scripts/packages/VSCodeServer/src/serve_notebook.jl:136\n",
      " [17] top-level scope\n",
      "    @ ~/.vscode-server/extensions/julialang.language-julia-1.6.17/scripts/notebook/notebook.jl:32\n",
      " [18] include(mod::Module, _path::String)\n",
      "    @ Base ./Base.jl:418\n",
      " [19] exec_options(opts::Base.JLOptions)\n",
      "    @ Base ./client.jl:292\n",
      " [20] _start()\n",
      "    @ Base ./client.jl:495"
     ]
    }
   ],
   "source": [
    "sample([])"
   ]
  },
  {
   "cell_type": "code",
   "execution_count": 66,
   "metadata": {},
   "outputs": [
    {
     "data": {
      "text/plain": [
       "Vector{Int64}[]"
      ]
     },
     "metadata": {},
     "output_type": "display_data"
    }
   ],
   "source": [
    "a = Vector{Vector{Int64}}()"
   ]
  },
  {
   "cell_type": "code",
   "execution_count": 67,
   "metadata": {},
   "outputs": [
    {
     "data": {
      "text/plain": [
       "3-element Vector{Int64}:\n",
       " 1\n",
       " 2\n",
       " 3"
      ]
     },
     "metadata": {},
     "output_type": "display_data"
    }
   ],
   "source": [
    "x = [1,2,3]"
   ]
  },
  {
   "cell_type": "code",
   "execution_count": 71,
   "metadata": {},
   "outputs": [
    {
     "data": {
      "text/plain": [
       "3-element Vector{Vector{Int64}}:\n",
       " [1, 2, 3]\n",
       " [1, 2, 3]\n",
       " [1, 2, 3]"
      ]
     },
     "metadata": {},
     "output_type": "display_data"
    }
   ],
   "source": [
    "push!(a,x)"
   ]
  },
  {
   "cell_type": "code",
   "execution_count": 3,
   "metadata": {},
   "outputs": [
    {
     "data": {
      "text/plain": [
       "bar (generic function with 2 methods)"
      ]
     },
     "metadata": {},
     "output_type": "display_data"
    }
   ],
   "source": [
    "foo(x::Int64) = x+1\n",
    "bar(x::Int64) = x-1"
   ]
  },
  {
   "cell_type": "code",
   "execution_count": 4,
   "metadata": {},
   "outputs": [
    {
     "data": {
      "text/plain": [
       "2-element Vector{Function}:\n",
       " foo (generic function with 2 methods)\n",
       " bar (generic function with 2 methods)"
      ]
     },
     "metadata": {},
     "output_type": "display_data"
    }
   ],
   "source": [
    "fs = [foo,bar]"
   ]
  },
  {
   "cell_type": "code",
   "execution_count": 19,
   "metadata": {},
   "outputs": [
    {
     "data": {
      "text/plain": [
       "test (generic function with 2 methods)"
      ]
     },
     "metadata": {},
     "output_type": "display_data"
    }
   ],
   "source": [
    "function test(x::Int64, f::Function)\n",
    "    n = rand(1:2)\n",
    "    f(x)\n",
    "    return 2\n",
    "end"
   ]
  },
  {
   "cell_type": "code",
   "execution_count": 17,
   "metadata": {},
   "outputs": [
    {
     "data": {
      "text/plain": [
       "10"
      ]
     },
     "metadata": {},
     "output_type": "display_data"
    }
   ],
   "source": [
    "x = 10"
   ]
  },
  {
   "cell_type": "code",
   "execution_count": 20,
   "metadata": {},
   "outputs": [
    {
     "name": "stdout",
     "output_type": "stream",
     "text": [
      "MethodInstance for test(::Int64, ::typeof(foo))\n",
      "  from test(x::Int64, f::Function) in Main at /home/xuke/Researches/OKMC.jl/test/test.ipynb:1\n",
      "Arguments\n",
      "  #self#\u001b[36m::Core.Const(test)\u001b[39m\n",
      "  x\u001b[36m::Int64\u001b[39m\n",
      "  f\u001b[36m::Core.Const(foo)\u001b[39m\n",
      "Locals\n",
      "  n\u001b[36m::Int64\u001b[39m\n",
      "Body\u001b[36m::Int64\u001b[39m\n",
      "\u001b[90m1 ─\u001b[39m %1 = (1:2)\u001b[36m::Core.Const(1:2)\u001b[39m\n",
      "\u001b[90m│  \u001b[39m      (n = Main.rand(%1))\n",
      "\u001b[90m│  \u001b[39m      (f)(x)\n",
      "\u001b[90m└──\u001b[39m      return 2\n",
      "\n"
     ]
    }
   ],
   "source": [
    "@code_warntype test(x,foo)"
   ]
  },
  {
   "cell_type": "code",
   "execution_count": 13,
   "metadata": {},
   "outputs": [
    {
     "data": {
      "text/plain": [
       "myforeach (generic function with 2 methods)"
      ]
     },
     "metadata": {},
     "output_type": "display_data"
    }
   ],
   "source": [
    "function myforeach(f::Function, xs::Vector{Int64})\n",
    "    for x in xs\n",
    "        f(x)\n",
    "    end\n",
    "end"
   ]
  },
  {
   "cell_type": "code",
   "execution_count": 24,
   "metadata": {},
   "outputs": [
    {
     "data": {
      "text/plain": [
       "test1 (generic function with 1 method)"
      ]
     },
     "metadata": {},
     "output_type": "display_data"
    }
   ],
   "source": [
    "function test1(x::Int64, f::Function)\n",
    "    f(x)\n",
    "end"
   ]
  },
  {
   "cell_type": "code",
   "execution_count": 25,
   "metadata": {},
   "outputs": [
    {
     "name": "stdout",
     "output_type": "stream",
     "text": [
      "MethodInstance for test1(::Int64, ::typeof(foo))\n",
      "  from test1(x::Int64, f::Function) in Main at /home/xuke/Researches/OKMC.jl/test/test.ipynb:1\n",
      "Arguments\n",
      "  #self#\u001b[36m::Core.Const(test1)\u001b[39m\n",
      "  x\u001b[36m::Int64\u001b[39m\n",
      "  f\u001b[36m::Core.Const(foo)\u001b[39m\n",
      "Body\u001b[36m::Int64\u001b[39m\n",
      "\u001b[90m1 ─\u001b[39m %1 = (f)(x)\u001b[36m::Int64\u001b[39m\n",
      "\u001b[90m└──\u001b[39m      return %1\n",
      "\n"
     ]
    }
   ],
   "source": [
    "@code_warntype test1(x,foo)"
   ]
  },
  {
   "cell_type": "code",
   "execution_count": 30,
   "metadata": {},
   "outputs": [
    {
     "data": {
      "text/plain": [
       "test2 (generic function with 1 method)"
      ]
     },
     "metadata": {},
     "output_type": "display_data"
    }
   ],
   "source": [
    "function test2(fs::Vector{Function}, x::Int64)\n",
    "    fs[1]\n",
    "end"
   ]
  },
  {
   "cell_type": "code",
   "execution_count": 31,
   "metadata": {},
   "outputs": [
    {
     "name": "stdout",
     "output_type": "stream",
     "text": [
      "MethodInstance for test2(::Vector{Function}, ::Int64)\n",
      "  from test2(fs::Vector{Function}, x::Int64) in Main at /home/xuke/Researches/OKMC.jl/test/test.ipynb:1\n",
      "Arguments\n",
      "  #self#\u001b[36m::Core.Const(test2)\u001b[39m\n",
      "  fs\u001b[36m::Vector{Function}\u001b[39m\n",
      "  x\u001b[36m::Int64\u001b[39m\n",
      "Body\u001b[91m\u001b[1m::Function\u001b[22m\u001b[39m\n",
      "\u001b[90m1 ─\u001b[39m %1 = Base.getindex(fs, 1)\u001b[91m\u001b[1m::Function\u001b[22m\u001b[39m\n",
      "\u001b[90m└──\u001b[39m      return %1\n",
      "\n"
     ]
    }
   ],
   "source": [
    "@code_warntype test2(fs,x)"
   ]
  },
  {
   "cell_type": "code",
   "execution_count": 32,
   "metadata": {},
   "outputs": [
    {
     "data": {
      "text/plain": [
       "3"
      ]
     },
     "metadata": {},
     "output_type": "display_data"
    }
   ],
   "source": [
    "a = 3"
   ]
  },
  {
   "cell_type": "code",
   "execution_count": 37,
   "metadata": {},
   "outputs": [
    {
     "name": "stderr",
     "output_type": "stream",
     "text": [
      "WARNING: redefinition of constant b. This may fail, cause incorrect answers, or produce other errors.\n"
     ]
    },
    {
     "data": {
      "text/plain": [
       "6"
      ]
     },
     "metadata": {},
     "output_type": "display_data"
    }
   ],
   "source": [
    "const b = a*2"
   ]
  },
  {
   "cell_type": "code",
   "execution_count": 41,
   "metadata": {},
   "outputs": [
    {
     "data": {
      "text/plain": [
       "3-element Vector{Int64}:\n",
       " 1\n",
       " 3\n",
       " 4"
      ]
     },
     "metadata": {},
     "output_type": "display_data"
    }
   ],
   "source": [
    "[a for a in Int64[1,2,3,4] if a != 2]"
   ]
  },
  {
   "cell_type": "code",
   "execution_count": 46,
   "metadata": {},
   "outputs": [
    {
     "data": {
      "text/plain": [
       "0.0"
      ]
     },
     "metadata": {},
     "output_type": "display_data"
    }
   ],
   "source": [
    "rand(0.0:2.0)"
   ]
  },
  {
   "cell_type": "code",
   "execution_count": 49,
   "metadata": {},
   "outputs": [],
   "source": [
    "using Distributions"
   ]
  },
  {
   "cell_type": "code",
   "execution_count": 52,
   "metadata": {},
   "outputs": [
    {
     "data": {
      "text/plain": [
       "y (generic function with 1 method)"
      ]
     },
     "metadata": {},
     "output_type": "display_data"
    }
   ],
   "source": [
    "y(x) = rand(Uniform(0.0,2.0))"
   ]
  },
  {
   "cell_type": "code",
   "execution_count": 53,
   "metadata": {},
   "outputs": [
    {
     "name": "stdout",
     "output_type": "stream",
     "text": [
      "MethodInstance for y(::Int64)\n",
      "  from y(x) in Main at /home/xuke/Researches/OKMC.jl/test/test.ipynb:1\n",
      "Arguments\n",
      "  #self#\u001b[36m::Core.Const(y)\u001b[39m\n",
      "  x\u001b[36m::Int64\u001b[39m\n",
      "Body\u001b[36m::Float64\u001b[39m\n",
      "\u001b[90m1 ─\u001b[39m %1 = Main.Uniform(0.0, 2.0)\u001b[36m::Core.Const(Uniform{Float64}(a=0.0, b=2.0))\u001b[39m\n",
      "\u001b[90m│  \u001b[39m %2 = Main.rand(%1)\u001b[36m::Float64\u001b[39m\n",
      "\u001b[90m└──\u001b[39m      return %2\n",
      "\n"
     ]
    }
   ],
   "source": [
    "@code_warntype y(1)"
   ]
  },
  {
   "cell_type": "code",
   "execution_count": 1,
   "metadata": {},
   "outputs": [],
   "source": [
    "using PlotlyJS"
   ]
  },
  {
   "cell_type": "code",
   "execution_count": 2,
   "metadata": {},
   "outputs": [
    {
     "data": {
      "text/plain": [
       "RandomAPointOnShpereSurface (generic function with 2 methods)"
      ]
     },
     "metadata": {},
     "output_type": "display_data"
    }
   ],
   "source": [
    "function RandomAPointOnShpereSurface(r::Float64=10.)\n",
    "    # pick a random point on a sphere surface uniformly\n",
    "    # http://mathworld.wolfram.com/SpherePointPicking.html\n",
    "    u = rand()*2-1\n",
    "    theta = 2pi*rand()\n",
    "    x = sqrt(1-u*u) * cos(theta)\n",
    "    y = sqrt(1-u*u) * sin(theta)\n",
    "    z = u\n",
    "    return round(Int,x*r),round(Int,y*r),round(Int,z*r)\n",
    "end"
   ]
  },
  {
   "cell_type": "code",
   "execution_count": 3,
   "metadata": {},
   "outputs": [],
   "source": [
    "xs = Int64[]\n",
    "ys = Int64[]\n",
    "zs = Int64[]\n",
    "for _ in 1:1000\n",
    "    x, y, z = RandomAPointOnShpereSurface()\n",
    "    push!(xs,x)\n",
    "    push!(ys,y)\n",
    "    push!(zs,z)\n",
    "end"
   ]
  },
  {
   "cell_type": "code",
   "execution_count": 4,
   "metadata": {},
   "outputs": [
    {
     "data": {
      "application/vnd.plotly.v1+json": {
       "config": {
        "editable": false,
        "responsive": true,
        "scrollZoom": true,
        "showLink": false,
        "staticPlot": false
       },
       "data": [
        {
         "marker": {
          "size": 1
         },
         "mode": "markers",
         "type": "scatter3d",
         "x": [
          8,
          9,
          2,
          8,
          -5,
          7,
          3,
          0,
          10,
          4,
          3,
          -6,
          1,
          6,
          1,
          3,
          5,
          0,
          8,
          9,
          7,
          -7,
          10,
          4,
          -1,
          -2,
          5,
          -8,
          -1,
          6,
          4,
          -1,
          -9,
          -3,
          0,
          -3,
          -3,
          8,
          1,
          1,
          2,
          8,
          2,
          2,
          6,
          2,
          0,
          -2,
          -8,
          0,
          8,
          1,
          7,
          -6,
          9,
          -2,
          3,
          0,
          5,
          -3,
          -9,
          -3,
          0,
          -5,
          -1,
          -5,
          6,
          -3,
          -2,
          -5,
          -9,
          -4,
          6,
          1,
          -3,
          1,
          1,
          -8,
          9,
          0,
          -9,
          -6,
          -5,
          7,
          -4,
          6,
          2,
          2,
          6,
          -2,
          1,
          0,
          -3,
          -8,
          -3,
          -4,
          1,
          5,
          4,
          9,
          -5,
          -5,
          2,
          -1,
          2,
          3,
          -6,
          -3,
          9,
          0,
          -2,
          -8,
          3,
          -4,
          0,
          -2,
          -6,
          4,
          -9,
          -2,
          6,
          1,
          8,
          -7,
          9,
          -6,
          4,
          -6,
          3,
          9,
          7,
          -9,
          -5,
          10,
          2,
          -2,
          4,
          -5,
          9,
          0,
          -1,
          4,
          -5,
          -7,
          9,
          -6,
          8,
          2,
          3,
          6,
          -7,
          10,
          -3,
          -9,
          -9,
          -6,
          -2,
          9,
          -1,
          2,
          -1,
          -6,
          -4,
          -1,
          -3,
          5,
          -9,
          -4,
          6,
          -4,
          4,
          8,
          1,
          3,
          9,
          -7,
          -4,
          -8,
          3,
          -6,
          -5,
          -10,
          7,
          -6,
          -5,
          3,
          3,
          -8,
          -1,
          -2,
          -7,
          8,
          7,
          6,
          2,
          -2,
          -1,
          2,
          -3,
          -3,
          0,
          6,
          -3,
          3,
          -7,
          6,
          10,
          9,
          -1,
          9,
          1,
          -6,
          10,
          10,
          1,
          5,
          3,
          -8,
          4,
          7,
          6,
          5,
          -9,
          -2,
          -1,
          4,
          4,
          -5,
          2,
          8,
          9,
          2,
          -10,
          1,
          -9,
          1,
          -9,
          -1,
          0,
          -2,
          0,
          2,
          4,
          5,
          3,
          6,
          -4,
          -1,
          -3,
          10,
          0,
          -4,
          -5,
          7,
          8,
          -5,
          6,
          5,
          1,
          -3,
          10,
          1,
          -1,
          -7,
          4,
          7,
          -4,
          7,
          1,
          6,
          10,
          -9,
          7,
          4,
          -5,
          9,
          -2,
          0,
          -3,
          -3,
          9,
          1,
          -5,
          -6,
          3,
          7,
          -2,
          -2,
          4,
          8,
          4,
          0,
          -4,
          8,
          -2,
          5,
          7,
          -2,
          8,
          -6,
          -1,
          -8,
          6,
          -10,
          7,
          4,
          -8,
          -2,
          -1,
          -2,
          -9,
          7,
          10,
          -8,
          1,
          -7,
          6,
          10,
          -8,
          -9,
          -6,
          3,
          3,
          -3,
          2,
          9,
          -9,
          -6,
          -5,
          -1,
          -10,
          -6,
          -7,
          -9,
          -1,
          8,
          0,
          8,
          -8,
          -6,
          -1,
          -10,
          3,
          -8,
          -6,
          -8,
          -3,
          -4,
          -8,
          2,
          -9,
          -1,
          7,
          -2,
          4,
          4,
          0,
          -1,
          -6,
          -3,
          -5,
          10,
          5,
          4,
          -5,
          9,
          7,
          -9,
          -7,
          -9,
          0,
          -6,
          3,
          -9,
          -10,
          -8,
          -10,
          3,
          2,
          -1,
          6,
          -4,
          10,
          4,
          -1,
          -9,
          -9,
          -5,
          4,
          1,
          -8,
          -5,
          1,
          2,
          7,
          -4,
          -6,
          4,
          -9,
          9,
          0,
          -3,
          6,
          3,
          2,
          4,
          3,
          -3,
          -8,
          -9,
          3,
          -10,
          3,
          -1,
          7,
          -4,
          4,
          -4,
          9,
          0,
          -3,
          -1,
          6,
          9,
          -2,
          6,
          9,
          8,
          8,
          -9,
          -9,
          9,
          0,
          3,
          -2,
          8,
          -5,
          -9,
          -3,
          2,
          5,
          -8,
          9,
          -9,
          3,
          3,
          -10,
          10,
          2,
          3,
          -3,
          -8,
          7,
          9,
          1,
          8,
          -8,
          6,
          7,
          9,
          6,
          8,
          -9,
          3,
          5,
          -9,
          2,
          1,
          -1,
          9,
          -6,
          5,
          -4,
          -5,
          3,
          10,
          -10,
          -4,
          5,
          2,
          4,
          5,
          3,
          -3,
          4,
          1,
          -4,
          1,
          -10,
          7,
          -4,
          -6,
          0,
          8,
          9,
          -4,
          -3,
          -2,
          -9,
          -10,
          -5,
          0,
          -6,
          -2,
          -1,
          -4,
          -9,
          8,
          -10,
          5,
          -1,
          -7,
          7,
          -7,
          10,
          3,
          4,
          5,
          -1,
          -10,
          6,
          8,
          -1,
          1,
          3,
          -3,
          -9,
          -5,
          -1,
          9,
          0,
          7,
          9,
          -7,
          0,
          -2,
          3,
          -8,
          -3,
          7,
          -3,
          1,
          3,
          -8,
          -8,
          5,
          -3,
          -3,
          7,
          8,
          0,
          9,
          1,
          -2,
          -4,
          9,
          -9,
          5,
          -1,
          10,
          4,
          -6,
          -5,
          -2,
          5,
          7,
          -1,
          -1,
          4,
          6,
          1,
          7,
          -4,
          -3,
          8,
          9,
          -9,
          -9,
          2,
          4,
          6,
          8,
          1,
          6,
          8,
          6,
          2,
          -7,
          -4,
          4,
          -5,
          9,
          -8,
          9,
          -3,
          9,
          -4,
          -8,
          7,
          5,
          4,
          4,
          7,
          -5,
          6,
          -6,
          3,
          -2,
          2,
          1,
          8,
          2,
          -5,
          2,
          6,
          9,
          8,
          -9,
          -1,
          6,
          -10,
          4,
          2,
          -8,
          -5,
          5,
          2,
          -9,
          -2,
          2,
          -10,
          7,
          -8,
          7,
          -5,
          -2,
          2,
          -1,
          4,
          -9,
          8,
          1,
          7,
          8,
          -7,
          -2,
          1,
          -3,
          0,
          -4,
          -1,
          8,
          -9,
          -9,
          -2,
          0,
          8,
          -5,
          0,
          -1,
          6,
          3,
          4,
          -1,
          -4,
          -1,
          7,
          -5,
          -2,
          -4,
          5,
          6,
          0,
          1,
          6,
          10,
          -2,
          9,
          -2,
          6,
          6,
          -3,
          3,
          -8,
          7,
          10,
          0,
          -6,
          5,
          -2,
          7,
          3,
          -4,
          -6,
          -5,
          9,
          -5,
          -9,
          7,
          8,
          0,
          5,
          10,
          -3,
          -7,
          -7,
          -4,
          -2,
          -1,
          2,
          -6,
          2,
          -3,
          -8,
          8,
          0,
          1,
          9,
          4,
          -4,
          8,
          4,
          4,
          4,
          -5,
          9,
          1,
          8,
          6,
          -5,
          9,
          1,
          -6,
          -9,
          8,
          -1,
          -2,
          6,
          -1,
          0,
          -4,
          5,
          1,
          -7,
          8,
          0,
          -6,
          2,
          7,
          7,
          -1,
          2,
          -10,
          -5,
          -5,
          2,
          -8,
          -8,
          10,
          -8,
          -4,
          10,
          2,
          9,
          -3,
          3,
          6,
          -4,
          5,
          -7,
          -1,
          -8,
          1,
          1,
          6,
          -3,
          3,
          8,
          9,
          0,
          -5,
          -9,
          7,
          9,
          8,
          2,
          -1,
          10,
          -4,
          -4,
          -4,
          -8,
          4,
          -7,
          -1,
          0,
          8,
          -5,
          5,
          3,
          -7,
          4,
          10,
          -1,
          7,
          3,
          1,
          -3,
          3,
          -2,
          1,
          -2,
          -4,
          2,
          1,
          -1,
          6,
          -7,
          5,
          7,
          7,
          1,
          8,
          -1,
          1,
          -5,
          3,
          7,
          3,
          -1,
          5,
          5,
          -1,
          5,
          8,
          -1,
          4,
          -1,
          4,
          9,
          9,
          3,
          4,
          10,
          0,
          -5,
          -5,
          -2,
          -8,
          1,
          2,
          6,
          -2,
          -5,
          2,
          -5,
          3,
          -5,
          5,
          6,
          -6,
          -3,
          -1,
          -8,
          6,
          7,
          -4,
          1,
          -1,
          7,
          0,
          -1,
          10,
          7,
          -1,
          -7,
          -2,
          -1,
          9,
          -5,
          2,
          -2,
          8,
          -8,
          -4,
          8,
          -9,
          4,
          1,
          1,
          -7,
          -8,
          -8,
          8,
          4,
          -8,
          9,
          6,
          4,
          0,
          9,
          -4,
          0,
          -1,
          4,
          1,
          2,
          -6,
          -2,
          0,
          5,
          2,
          -1,
          -5,
          4,
          6,
          -10,
          -4,
          6,
          -3,
          0,
          8,
          -3,
          3,
          -3,
          -8,
          -5,
          -4,
          9,
          10,
          0,
          -2,
          -1,
          -5,
          -5,
          2,
          -4,
          -4,
          9,
          -2,
          -3,
          -2,
          -5,
          3,
          -5,
          -9,
          4,
          7,
          8,
          6,
          -10,
          0,
          5,
          2,
          9,
          -6,
          -10,
          -2,
          5,
          8,
          -1,
          0,
          -3,
          -4,
          2,
          3,
          -5,
          6,
          3,
          4,
          -1,
          -4,
          -6,
          5,
          8,
          6,
          -5,
          -3,
          -8,
          10,
          -4,
          6,
          1,
          5,
          -9,
          3,
          1,
          -3,
          10,
          7,
          7,
          -7,
          -1,
          0,
          6,
          -1,
          -6,
          -7,
          8,
          -4
         ],
         "y": [
          6,
          4,
          4,
          -6,
          8,
          1,
          -9,
          9,
          -2,
          -9,
          9,
          6,
          -3,
          0,
          7,
          6,
          -7,
          -9,
          -4,
          4,
          6,
          0,
          -2,
          -6,
          1,
          -3,
          -8,
          -5,
          10,
          8,
          1,
          10,
          -2,
          3,
          -9,
          -1,
          4,
          1,
          5,
          4,
          2,
          3,
          -1,
          -5,
          6,
          -3,
          10,
          -7,
          6,
          9,
          -5,
          4,
          6,
          1,
          -2,
          -9,
          4,
          9,
          7,
          9,
          0,
          -8,
          -3,
          -7,
          8,
          -8,
          7,
          9,
          3,
          6,
          0,
          -6,
          7,
          -8,
          2,
          -9,
          -8,
          3,
          -1,
          5,
          -1,
          8,
          -4,
          -7,
          1,
          5,
          10,
          5,
          -7,
          9,
          10,
          -4,
          1,
          1,
          8,
          4,
          -10,
          6,
          -8,
          4,
          5,
          7,
          2,
          8,
          -6,
          -4,
          -7,
          2,
          3,
          -9,
          7,
          5,
          -2,
          -8,
          -10,
          9,
          -8,
          -6,
          -4,
          2,
          7,
          -4,
          -2,
          5,
          -1,
          6,
          -5,
          7,
          3,
          -3,
          -6,
          0,
          -1,
          -2,
          5,
          4,
          -8,
          -2,
          3,
          7,
          -6,
          7,
          -2,
          -7,
          0,
          2,
          -6,
          3,
          -8,
          -2,
          -7,
          3,
          2,
          -3,
          1,
          -5,
          9,
          4,
          6,
          10,
          9,
          -8,
          -1,
          -6,
          -9,
          8,
          -3,
          -8,
          -8,
          0,
          7,
          5,
          -3,
          -8,
          4,
          1,
          -7,
          -2,
          -2,
          -7,
          8,
          -2,
          7,
          -8,
          1,
          9,
          -5,
          -5,
          9,
          -9,
          6,
          6,
          6,
          -2,
          6,
          10,
          -8,
          8,
          -9,
          -9,
          -9,
          7,
          0,
          7,
          -4,
          3,
          0,
          2,
          10,
          -4,
          2,
          7,
          -1,
          0,
          10,
          9,
          -2,
          5,
          7,
          6,
          -4,
          4,
          -4,
          -8,
          10,
          0,
          3,
          5,
          -5,
          -4,
          4,
          -5,
          -1,
          -5,
          4,
          8,
          3,
          -10,
          -10,
          -8,
          -9,
          3,
          -2,
          7,
          -6,
          7,
          0,
          3,
          2,
          -1,
          -5,
          9,
          -8,
          -5,
          -4,
          -7,
          1,
          -7,
          10,
          -6,
          0,
          -5,
          -7,
          6,
          6,
          6,
          8,
          6,
          -7,
          -5,
          -2,
          -2,
          -6,
          2,
          3,
          -3,
          1,
          -7,
          -9,
          -2,
          2,
          -6,
          7,
          6,
          3,
          7,
          7,
          -9,
          9,
          -6,
          -5,
          4,
          7,
          -5,
          -8,
          8,
          0,
          -10,
          5,
          8,
          -7,
          -6,
          -5,
          2,
          -3,
          -3,
          3,
          7,
          2,
          -10,
          3,
          2,
          2,
          5,
          -8,
          -1,
          5,
          2,
          -4,
          -3,
          1,
          -1,
          3,
          -7,
          -10,
          2,
          -3,
          2,
          7,
          8,
          1,
          1,
          -3,
          -1,
          -1,
          -4,
          -6,
          -2,
          -5,
          -8,
          7,
          -1,
          -9,
          -2,
          0,
          5,
          6,
          -9,
          3,
          2,
          -5,
          -5,
          1,
          3,
          -4,
          8,
          4,
          10,
          -7,
          -8,
          -7,
          1,
          -7,
          7,
          8,
          -3,
          -2,
          -3,
          4,
          -3,
          2,
          -7,
          -9,
          4,
          -1,
          -5,
          2,
          5,
          -6,
          9,
          7,
          -5,
          0,
          -8,
          6,
          5,
          -4,
          -2,
          -7,
          -3,
          -2,
          8,
          -10,
          10,
          -2,
          7,
          8,
          4,
          1,
          1,
          8,
          2,
          5,
          9,
          -9,
          -9,
          -1,
          1,
          -4,
          5,
          9,
          -2,
          9,
          -1,
          -7,
          8,
          -8,
          -1,
          1,
          -3,
          -1,
          10,
          -5,
          4,
          1,
          -2,
          -3,
          4,
          4,
          1,
          0,
          4,
          3,
          4,
          -8,
          -3,
          9,
          -1,
          8,
          -9,
          4,
          -6,
          -1,
          5,
          1,
          -8,
          0,
          2,
          -2,
          -8,
          -9,
          -3,
          3,
          3,
          -6,
          0,
          -7,
          -7,
          4,
          1,
          8,
          6,
          -5,
          -9,
          4,
          1,
          7,
          -10,
          -6,
          -3,
          6,
          1,
          2,
          -5,
          -3,
          1,
          -1,
          -8,
          -4,
          -6,
          -9,
          9,
          6,
          9,
          -8,
          2,
          9,
          7,
          1,
          0,
          8,
          3,
          -10,
          6,
          -4,
          -7,
          -2,
          -8,
          -5,
          2,
          9,
          -2,
          -4,
          9,
          8,
          -9,
          1,
          3,
          2,
          -4,
          3,
          7,
          -6,
          -3,
          2,
          7,
          -7,
          -5,
          3,
          2,
          8,
          -2,
          -2,
          -2,
          8,
          7,
          -3,
          -8,
          -6,
          -5,
          -5,
          6,
          3,
          -7,
          -1,
          -8,
          0,
          -4,
          -9,
          -1,
          3,
          -10,
          -2,
          5,
          2,
          9,
          -9,
          3,
          0,
          5,
          2,
          4,
          0,
          9,
          6,
          3,
          -1,
          -3,
          -8,
          -2,
          8,
          3,
          -4,
          -4,
          -8,
          1,
          -2,
          -8,
          8,
          2,
          5,
          6,
          9,
          5,
          1,
          2,
          -5,
          0,
          -3,
          0,
          -5,
          -6,
          8,
          0,
          -4,
          -3,
          -10,
          7,
          -2,
          3,
          6,
          2,
          -7,
          -4,
          8,
          5,
          8,
          2,
          3,
          -2,
          -4,
          3,
          -7,
          8,
          4,
          2,
          8,
          9,
          -5,
          6,
          -2,
          -6,
          -1,
          -7,
          -8,
          4,
          -4,
          4,
          8,
          -5,
          0,
          2,
          1,
          5,
          -6,
          5,
          -8,
          0,
          -6,
          -2,
          1,
          7,
          -2,
          7,
          3,
          -8,
          -8,
          10,
          -9,
          -2,
          3,
          -8,
          6,
          -2,
          -3,
          -2,
          -5,
          7,
          -10,
          4,
          -6,
          -6,
          -4,
          -3,
          8,
          -1,
          -5,
          -3,
          9,
          -8,
          7,
          -10,
          0,
          10,
          -2,
          1,
          -6,
          -5,
          -9,
          8,
          -1,
          0,
          -7,
          5,
          -6,
          -2,
          2,
          2,
          -6,
          -8,
          3,
          -6,
          2,
          -6,
          4,
          -2,
          3,
          8,
          8,
          6,
          5,
          8,
          -8,
          5,
          -1,
          4,
          4,
          -4,
          -1,
          -6,
          10,
          8,
          2,
          -9,
          7,
          6,
          9,
          -10,
          -3,
          -6,
          -5,
          0,
          -9,
          2,
          0,
          -3,
          -8,
          3,
          8,
          9,
          5,
          -8,
          5,
          -7,
          -8,
          3,
          -9,
          -5,
          7,
          3,
          -2,
          7,
          6,
          -4,
          -5,
          10,
          2,
          5,
          10,
          -10,
          -7,
          -8,
          -7,
          -2,
          4,
          -10,
          -2,
          10,
          0,
          -6,
          3,
          10,
          2,
          8,
          7,
          -10,
          5,
          -2,
          -1,
          6,
          -9,
          -1,
          9,
          -2,
          -5,
          -9,
          -4,
          -9,
          -8,
          -4,
          2,
          -2,
          3,
          -9,
          -6,
          -9,
          -10,
          5,
          -1,
          10,
          4,
          2,
          4,
          -2,
          0,
          8,
          1,
          -2,
          3,
          7,
          -9,
          -6,
          -7,
          -5,
          7,
          6,
          -3,
          -3,
          3,
          3,
          0,
          -4,
          3,
          -2,
          6,
          -6,
          -7,
          -6,
          8,
          2,
          -10,
          -2,
          -9,
          1,
          4,
          -9,
          8,
          -6,
          -9,
          -1,
          -6,
          -7,
          6,
          -5,
          -8,
          -5,
          -9,
          1,
          5,
          -5,
          -8,
          2,
          -3,
          6,
          -3,
          10,
          4,
          9,
          5,
          5,
          -5,
          6,
          -8,
          2,
          5,
          -5,
          3,
          7,
          -2,
          -10,
          3,
          3,
          8,
          -3,
          -3,
          8,
          3,
          3,
          9,
          8,
          -8,
          6,
          -3,
          3,
          -2,
          -5,
          -1,
          10,
          -1,
          5,
          -10,
          -10,
          -3,
          -7,
          10,
          4,
          -2,
          -1,
          -3,
          -2,
          -3,
          -8,
          -6,
          4,
          -8,
          6,
          -3,
          5,
          7,
          -7,
          6,
          6,
          5,
          -6,
          -6,
          -4,
          0,
          7,
          -9,
          10,
          0,
          -8,
          9,
          9,
          3,
          -6,
          5,
          -8,
          -8,
          -10,
          -7,
          8,
          -7,
          -3,
          4,
          -6,
          1,
          -6,
          -6,
          -1,
          10,
          4,
          9,
          -4,
          -10,
          -4,
          9,
          3,
          3,
          0,
          1,
          9,
          -7,
          -7,
          7,
          -9,
          -9,
          -3,
          5,
          3,
          -5,
          4,
          9,
          -9,
          6,
          0,
          -2,
          -2,
          -4,
          -6,
          2,
          -7,
          8,
          -5,
          -1,
          4,
          -2,
          8,
          -8,
          -5,
          6,
          8,
          9,
          -8,
          4,
          8,
          3,
          2,
          -7,
          4,
          8,
          4,
          -3,
          9,
          5,
          -6,
          -6,
          9,
          -6,
          -1,
          9,
          -8,
          -9,
          8,
          3,
          3,
          3,
          -1,
          0,
          7,
          -7,
          -7,
          6,
          -10,
          8,
          8,
          -7,
          -1,
          3,
          1
         ],
         "z": [
          -2,
          -1,
          -9,
          -3,
          3,
          7,
          3,
          3,
          -1,
          -3,
          4,
          -5,
          9,
          -8,
          -7,
          -7,
          6,
          -4,
          5,
          2,
          -4,
          -7,
          1,
          -7,
          -10,
          9,
          -5,
          1,
          1,
          -1,
          9,
          0,
          4,
          -9,
          -3,
          -10,
          -9,
          6,
          9,
          9,
          -10,
          5,
          10,
          8,
          5,
          9,
          1,
          7,
          -1,
          5,
          -2,
          9,
          4,
          8,
          -4,
          -4,
          9,
          3,
          6,
          -2,
          4,
          -5,
          10,
          -5,
          6,
          4,
          4,
          -4,
          -9,
          7,
          -4,
          7,
          3,
          6,
          9,
          -3,
          6,
          4,
          3,
          -9,
          -4,
          1,
          -8,
          0,
          -9,
          7,
          0,
          -8,
          -4,
          2,
          3,
          -9,
          9,
          -6,
          -6,
          -8,
          -2,
          6,
          5,
          3,
          -7,
          5,
          10,
          -7,
          -8,
          9,
          -4,
          -9,
          -1,
          -5,
          6,
          -3,
          -9,
          -4,
          -2,
          -3,
          1,
          7,
          3,
          10,
          -5,
          -9,
          5,
          -6,
          -4,
          6,
          8,
          4,
          -9,
          -3,
          -3,
          5,
          -9,
          1,
          -8,
          9,
          4,
          -9,
          2,
          7,
          -8,
          5,
          9,
          3,
          -4,
          -8,
          3,
          -9,
          5,
          8,
          2,
          -1,
          9,
          2,
          5,
          6,
          5,
          -3,
          8,
          1,
          4,
          1,
          -9,
          -8,
          -1,
          2,
          3,
          -5,
          1,
          9,
          6,
          3,
          10,
          5,
          2,
          -7,
          -6,
          5,
          -9,
          4,
          -3,
          2,
          -1,
          -2,
          -8,
          -3,
          -8,
          -2,
          4,
          4,
          -3,
          3,
          5,
          8,
          8,
          2,
          6,
          -6,
          3,
          -2,
          -5,
          -4,
          -10,
          -7,
          -6,
          -7,
          0,
          -5,
          1,
          -2,
          -10,
          -2,
          2,
          3,
          0,
          -2,
          10,
          -3,
          6,
          -3,
          7,
          8,
          0,
          5,
          0,
          9,
          9,
          7,
          -9,
          -5,
          -1,
          -9,
          1,
          -9,
          -1,
          -6,
          -4,
          1,
          2,
          5,
          4,
          9,
          9,
          -5,
          8,
          -4,
          -9,
          -10,
          9,
          2,
          -9,
          2,
          -2,
          -5,
          4,
          5,
          8,
          5,
          1,
          -7,
          2,
          8,
          7,
          -4,
          7,
          4,
          -5,
          -4,
          7,
          6,
          -2,
          5,
          -3,
          -9,
          8,
          -3,
          10,
          7,
          2,
          9,
          3,
          -8,
          -5,
          -5,
          -9,
          -2,
          -7,
          -3,
          3,
          -1,
          -8,
          -9,
          7,
          2,
          6,
          -1,
          8,
          -1,
          -4,
          2,
          -7,
          2,
          -6,
          0,
          -6,
          -9,
          5,
          -7,
          10,
          0,
          2,
          7,
          -2,
          -3,
          -6,
          7,
          -6,
          -1,
          4,
          -2,
          8,
          10,
          -9,
          6,
          1,
          -3,
          -3,
          -7,
          -5,
          6,
          2,
          8,
          6,
          3,
          -10,
          5,
          8,
          -5,
          2,
          -1,
          -7,
          -2,
          -4,
          -6,
          8,
          4,
          -7,
          4,
          5,
          -10,
          0,
          -9,
          7,
          9,
          -8,
          -4,
          9,
          3,
          4,
          6,
          -5,
          -1,
          -6,
          5,
          1,
          2,
          7,
          -3,
          6,
          2,
          -10,
          -4,
          -4,
          -1,
          0,
          -2,
          -2,
          -8,
          -7,
          -4,
          -2,
          8,
          0,
          5,
          8,
          1,
          2,
          8,
          6,
          -9,
          -6,
          -1,
          3,
          -1,
          -7,
          -5,
          0,
          8,
          -4,
          4,
          -6,
          -9,
          -6,
          -4,
          -3,
          0,
          -9,
          10,
          3,
          -1,
          -2,
          1,
          3,
          10,
          1,
          -4,
          4,
          9,
          4,
          -9,
          10,
          -2,
          6,
          0,
          -10,
          -8,
          1,
          -5,
          -4,
          -5,
          3,
          1,
          -10,
          9,
          -5,
          -5,
          1,
          -5,
          6,
          -5,
          7,
          -1,
          -3,
          1,
          9,
          5,
          1,
          -1,
          10,
          5,
          2,
          -6,
          6,
          4,
          8,
          6,
          -1,
          5,
          -6,
          -3,
          2,
          -1,
          2,
          4,
          -8,
          -4,
          7,
          2,
          8,
          4,
          -5,
          9,
          9,
          7,
          -9,
          1,
          -2,
          4,
          7,
          -8,
          -1,
          -1,
          -8,
          -3,
          5,
          -10,
          -2,
          -7,
          0,
          7,
          4,
          -7,
          -3,
          2,
          3,
          -6,
          -9,
          6,
          0,
          -2,
          -1,
          10,
          7,
          -4,
          5,
          -2,
          3,
          5,
          2,
          7,
          9,
          1,
          4,
          -6,
          2,
          6,
          5,
          -7,
          10,
          2,
          -2,
          -6,
          10,
          -10,
          4,
          6,
          2,
          -1,
          -8,
          -1,
          9,
          4,
          -3,
          2,
          -10,
          6,
          -10,
          -4,
          -3,
          7,
          -9,
          -2,
          -9,
          -4,
          -5,
          -1,
          -4,
          -9,
          7,
          -4,
          10,
          1,
          -10,
          3,
          7,
          2,
          3,
          -8,
          6,
          2,
          -4,
          -7,
          7,
          -9,
          -1,
          7,
          10,
          6,
          -4,
          8,
          -8,
          2,
          1,
          -8,
          6,
          -4,
          -1,
          4,
          -9,
          -9,
          -7,
          -2,
          -6,
          8,
          5,
          -7,
          0,
          1,
          -9,
          -9,
          -6,
          -3,
          0,
          1,
          6,
          1,
          5,
          -5,
          7,
          -8,
          -8,
          -9,
          -1,
          1,
          7,
          8,
          5,
          -3,
          8,
          8,
          5,
          7,
          8,
          -6,
          2,
          1,
          -5,
          0,
          -5,
          -7,
          0,
          9,
          10,
          -4,
          -6,
          7,
          6,
          5,
          8,
          -10,
          -3,
          -1,
          5,
          -2,
          -8,
          -6,
          5,
          -2,
          -2,
          -3,
          -6,
          -6,
          -4,
          6,
          6,
          -10,
          9,
          6,
          -1,
          -8,
          8,
          -3,
          3,
          -5,
          -5,
          -10,
          3,
          -8,
          4,
          6,
          -4,
          0,
          -9,
          -2,
          -9,
          10,
          -5,
          7,
          5,
          -4,
          8,
          -8,
          7,
          9,
          5,
          -2,
          10,
          4,
          -8,
          -1,
          -7,
          7,
          -9,
          0,
          -6,
          0,
          9,
          2,
          2,
          -8,
          -6,
          6,
          4,
          -6,
          8,
          -3,
          8,
          -1,
          7,
          1,
          -1,
          -3,
          -2,
          -1,
          -1,
          -3,
          -3,
          -2,
          10,
          -8,
          -6,
          -10,
          -4,
          -6,
          -6,
          10,
          -6,
          -3,
          -3,
          1,
          -2,
          5,
          7,
          -6,
          0,
          -3,
          -5,
          -3,
          -5,
          -8,
          3,
          7,
          5,
          -2,
          -3,
          -2,
          10,
          6,
          1,
          -2,
          -6,
          4,
          7,
          7,
          4,
          -3,
          7,
          2,
          8,
          -4,
          -9,
          0,
          -2,
          -4,
          5,
          0,
          -3,
          6,
          2,
          1,
          -2,
          -2,
          3,
          -5,
          8,
          1,
          7,
          -2,
          -3,
          6,
          10,
          5,
          -10,
          5,
          -5,
          -4,
          -1,
          -4,
          -4,
          0,
          -8,
          4,
          -6,
          -4,
          -6,
          5,
          -10,
          1,
          9,
          -6,
          -2,
          0,
          -6,
          6,
          -7,
          8,
          4,
          -8,
          -8,
          -9,
          7,
          8,
          1,
          -10,
          3,
          7,
          -7,
          8,
          6,
          -10,
          2,
          -9,
          4,
          10,
          9,
          5,
          -1,
          3,
          -1,
          -7,
          5,
          -7,
          2,
          9,
          5,
          -7,
          3,
          7,
          -8,
          9,
          -2,
          -8,
          9,
          6,
          -5,
          -3,
          -8,
          5,
          -8,
          0,
          -1,
          7,
          4,
          -1,
          9,
          7,
          8,
          7,
          6,
          2,
          -10,
          7,
          -6,
          8,
          -9,
          -4,
          9,
          -8,
          0,
          -1,
          3,
          7,
          -10,
          -5,
          -7,
          -5,
          -9,
          0,
          10,
          5,
          0,
          -1,
          0,
          -1,
          2,
          6,
          9,
          -10,
          -4,
          8,
          -9,
          6,
          2,
          -4,
          -5,
          -1,
          -1,
          -8,
          7,
          -7,
          4,
          1,
          2,
          -1,
          7,
          4,
          4,
          3,
          1,
          -3,
          -5,
          -4,
          5,
          -5,
          -9,
          8,
          8,
          -1,
          6,
          -2,
          6,
          5,
          7,
          8,
          -8,
          -5,
          0,
          7,
          5,
          -10,
          2,
          4,
          -3,
          -9,
          -1,
          5,
          -2,
          9,
          -2,
          2,
          -10,
          4,
          -7,
          4,
          -5,
          4,
          -2,
          -9,
          0,
          9,
          -8,
          9,
          -1,
          -2,
          -6,
          5,
          -9,
          -7,
          -4,
          6,
          2,
          -8,
          -4,
          8,
          4,
          -7,
          -1,
          -5,
          -2,
          -3,
          8,
          -5,
          1,
          5,
          9,
          5,
          8,
          -8,
          -6,
          8,
          6,
          8,
          -7,
          -1,
          -3,
          6,
          7,
          -2,
          0,
          3,
          -1,
          -2,
          -4,
          3,
          3,
          9,
          -10,
          -9,
          -2,
          2,
          0,
          -3,
          8,
          -1,
          -1,
          -5,
          -5,
          7,
          4,
          9
         ]
        }
       ],
       "frames": [],
       "layout": {
        "margin": {
         "b": 0,
         "l": 0,
         "r": 0,
         "t": 0
        },
        "template": {
         "data": {
          "bar": [
           {
            "error_x": {
             "color": "#2a3f5f"
            },
            "error_y": {
             "color": "#2a3f5f"
            },
            "marker": {
             "line": {
              "color": "#E5ECF6",
              "width": 0.5
             }
            },
            "type": "bar"
           }
          ],
          "barpolar": [
           {
            "marker": {
             "line": {
              "color": "#E5ECF6",
              "width": 0.5
             }
            },
            "type": "barpolar"
           }
          ],
          "carpet": [
           {
            "aaxis": {
             "endlinecolor": "#2a3f5f",
             "gridcolor": "white",
             "linecolor": "white",
             "minorgridcolor": "white",
             "startlinecolor": "#2a3f5f"
            },
            "baxis": {
             "endlinecolor": "#2a3f5f",
             "gridcolor": "white",
             "linecolor": "white",
             "minorgridcolor": "white",
             "startlinecolor": "#2a3f5f"
            },
            "type": "carpet"
           }
          ],
          "choropleth": [
           {
            "colorbar": {
             "outlinewidth": 0,
             "ticks": ""
            },
            "type": "choropleth"
           }
          ],
          "contour": [
           {
            "colorbar": {
             "outlinewidth": 0,
             "ticks": ""
            },
            "colorscale": [
             [
              0,
              "#0d0887"
             ],
             [
              0.1111111111111111,
              "#46039f"
             ],
             [
              0.2222222222222222,
              "#7201a8"
             ],
             [
              0.3333333333333333,
              "#9c179e"
             ],
             [
              0.4444444444444444,
              "#bd3786"
             ],
             [
              0.5555555555555556,
              "#d8576b"
             ],
             [
              0.6666666666666666,
              "#ed7953"
             ],
             [
              0.7777777777777778,
              "#fb9f3a"
             ],
             [
              0.8888888888888888,
              "#fdca26"
             ],
             [
              1,
              "#f0f921"
             ]
            ],
            "type": "contour"
           }
          ],
          "contourcarpet": [
           {
            "colorbar": {
             "outlinewidth": 0,
             "ticks": ""
            },
            "type": "contourcarpet"
           }
          ],
          "heatmap": [
           {
            "colorbar": {
             "outlinewidth": 0,
             "ticks": ""
            },
            "colorscale": [
             [
              0,
              "#0d0887"
             ],
             [
              0.1111111111111111,
              "#46039f"
             ],
             [
              0.2222222222222222,
              "#7201a8"
             ],
             [
              0.3333333333333333,
              "#9c179e"
             ],
             [
              0.4444444444444444,
              "#bd3786"
             ],
             [
              0.5555555555555556,
              "#d8576b"
             ],
             [
              0.6666666666666666,
              "#ed7953"
             ],
             [
              0.7777777777777778,
              "#fb9f3a"
             ],
             [
              0.8888888888888888,
              "#fdca26"
             ],
             [
              1,
              "#f0f921"
             ]
            ],
            "type": "heatmap"
           }
          ],
          "heatmapgl": [
           {
            "colorbar": {
             "outlinewidth": 0,
             "ticks": ""
            },
            "colorscale": [
             [
              0,
              "#0d0887"
             ],
             [
              0.1111111111111111,
              "#46039f"
             ],
             [
              0.2222222222222222,
              "#7201a8"
             ],
             [
              0.3333333333333333,
              "#9c179e"
             ],
             [
              0.4444444444444444,
              "#bd3786"
             ],
             [
              0.5555555555555556,
              "#d8576b"
             ],
             [
              0.6666666666666666,
              "#ed7953"
             ],
             [
              0.7777777777777778,
              "#fb9f3a"
             ],
             [
              0.8888888888888888,
              "#fdca26"
             ],
             [
              1,
              "#f0f921"
             ]
            ],
            "type": "heatmapgl"
           }
          ],
          "histogram": [
           {
            "marker": {
             "colorbar": {
              "outlinewidth": 0,
              "ticks": ""
             }
            },
            "type": "histogram"
           }
          ],
          "histogram2d": [
           {
            "colorbar": {
             "outlinewidth": 0,
             "ticks": ""
            },
            "colorscale": [
             [
              0,
              "#0d0887"
             ],
             [
              0.1111111111111111,
              "#46039f"
             ],
             [
              0.2222222222222222,
              "#7201a8"
             ],
             [
              0.3333333333333333,
              "#9c179e"
             ],
             [
              0.4444444444444444,
              "#bd3786"
             ],
             [
              0.5555555555555556,
              "#d8576b"
             ],
             [
              0.6666666666666666,
              "#ed7953"
             ],
             [
              0.7777777777777778,
              "#fb9f3a"
             ],
             [
              0.8888888888888888,
              "#fdca26"
             ],
             [
              1,
              "#f0f921"
             ]
            ],
            "type": "histogram2d"
           }
          ],
          "histogram2dcontour": [
           {
            "colorbar": {
             "outlinewidth": 0,
             "ticks": ""
            },
            "colorscale": [
             [
              0,
              "#0d0887"
             ],
             [
              0.1111111111111111,
              "#46039f"
             ],
             [
              0.2222222222222222,
              "#7201a8"
             ],
             [
              0.3333333333333333,
              "#9c179e"
             ],
             [
              0.4444444444444444,
              "#bd3786"
             ],
             [
              0.5555555555555556,
              "#d8576b"
             ],
             [
              0.6666666666666666,
              "#ed7953"
             ],
             [
              0.7777777777777778,
              "#fb9f3a"
             ],
             [
              0.8888888888888888,
              "#fdca26"
             ],
             [
              1,
              "#f0f921"
             ]
            ],
            "type": "histogram2dcontour"
           }
          ],
          "mesh3d": [
           {
            "colorbar": {
             "outlinewidth": 0,
             "ticks": ""
            },
            "type": "mesh3d"
           }
          ],
          "parcoords": [
           {
            "line": {
             "colorbar": {
              "outlinewidth": 0,
              "ticks": ""
             }
            },
            "type": "parcoords"
           }
          ],
          "pie": [
           {
            "automargin": true,
            "type": "pie"
           }
          ],
          "scatter": [
           {
            "marker": {
             "colorbar": {
              "outlinewidth": 0,
              "ticks": ""
             }
            },
            "type": "scatter"
           }
          ],
          "scatter3d": [
           {
            "line": {
             "colorbar": {
              "outlinewidth": 0,
              "ticks": ""
             }
            },
            "marker": {
             "colorbar": {
              "outlinewidth": 0,
              "ticks": ""
             }
            },
            "type": "scatter3d"
           }
          ],
          "scattercarpet": [
           {
            "marker": {
             "colorbar": {
              "outlinewidth": 0,
              "ticks": ""
             }
            },
            "type": "scattercarpet"
           }
          ],
          "scattergeo": [
           {
            "marker": {
             "colorbar": {
              "outlinewidth": 0,
              "ticks": ""
             }
            },
            "type": "scattergeo"
           }
          ],
          "scattergl": [
           {
            "marker": {
             "colorbar": {
              "outlinewidth": 0,
              "ticks": ""
             }
            },
            "type": "scattergl"
           }
          ],
          "scattermapbox": [
           {
            "marker": {
             "colorbar": {
              "outlinewidth": 0,
              "ticks": ""
             }
            },
            "type": "scattermapbox"
           }
          ],
          "scatterpolar": [
           {
            "marker": {
             "colorbar": {
              "outlinewidth": 0,
              "ticks": ""
             }
            },
            "type": "scatterpolar"
           }
          ],
          "scatterpolargl": [
           {
            "marker": {
             "colorbar": {
              "outlinewidth": 0,
              "ticks": ""
             }
            },
            "type": "scatterpolargl"
           }
          ],
          "scatterternary": [
           {
            "marker": {
             "colorbar": {
              "outlinewidth": 0,
              "ticks": ""
             }
            },
            "type": "scatterternary"
           }
          ],
          "surface": [
           {
            "colorbar": {
             "outlinewidth": 0,
             "ticks": ""
            },
            "colorscale": [
             [
              0,
              "#0d0887"
             ],
             [
              0.1111111111111111,
              "#46039f"
             ],
             [
              0.2222222222222222,
              "#7201a8"
             ],
             [
              0.3333333333333333,
              "#9c179e"
             ],
             [
              0.4444444444444444,
              "#bd3786"
             ],
             [
              0.5555555555555556,
              "#d8576b"
             ],
             [
              0.6666666666666666,
              "#ed7953"
             ],
             [
              0.7777777777777778,
              "#fb9f3a"
             ],
             [
              0.8888888888888888,
              "#fdca26"
             ],
             [
              1,
              "#f0f921"
             ]
            ],
            "type": "surface"
           }
          ],
          "table": [
           {
            "cells": {
             "fill": {
              "color": "#EBF0F8"
             },
             "line": {
              "color": "white"
             }
            },
            "header": {
             "fill": {
              "color": "#C8D4E3"
             },
             "line": {
              "color": "white"
             }
            },
            "type": "table"
           }
          ]
         },
         "layout": {
          "annotationdefaults": {
           "arrowcolor": "#2a3f5f",
           "arrowhead": 0,
           "arrowwidth": 1
          },
          "autotypenumbers": "strict",
          "coloraxis": {
           "colorbar": {
            "outlinewidth": 0,
            "ticks": ""
           }
          },
          "colorscale": {
           "diverging": [
            [
             0,
             "#8e0152"
            ],
            [
             0.1,
             "#c51b7d"
            ],
            [
             0.2,
             "#de77ae"
            ],
            [
             0.3,
             "#f1b6da"
            ],
            [
             0.4,
             "#fde0ef"
            ],
            [
             0.5,
             "#f7f7f7"
            ],
            [
             0.6,
             "#e6f5d0"
            ],
            [
             0.7,
             "#b8e186"
            ],
            [
             0.8,
             "#7fbc41"
            ],
            [
             0.9,
             "#4d9221"
            ],
            [
             1,
             "#276419"
            ]
           ],
           "sequential": [
            [
             0,
             "#0d0887"
            ],
            [
             0.1111111111111111,
             "#46039f"
            ],
            [
             0.2222222222222222,
             "#7201a8"
            ],
            [
             0.3333333333333333,
             "#9c179e"
            ],
            [
             0.4444444444444444,
             "#bd3786"
            ],
            [
             0.5555555555555556,
             "#d8576b"
            ],
            [
             0.6666666666666666,
             "#ed7953"
            ],
            [
             0.7777777777777778,
             "#fb9f3a"
            ],
            [
             0.8888888888888888,
             "#fdca26"
            ],
            [
             1,
             "#f0f921"
            ]
           ],
           "sequentialminus": [
            [
             0,
             "#0d0887"
            ],
            [
             0.1111111111111111,
             "#46039f"
            ],
            [
             0.2222222222222222,
             "#7201a8"
            ],
            [
             0.3333333333333333,
             "#9c179e"
            ],
            [
             0.4444444444444444,
             "#bd3786"
            ],
            [
             0.5555555555555556,
             "#d8576b"
            ],
            [
             0.6666666666666666,
             "#ed7953"
            ],
            [
             0.7777777777777778,
             "#fb9f3a"
            ],
            [
             0.8888888888888888,
             "#fdca26"
            ],
            [
             1,
             "#f0f921"
            ]
           ]
          },
          "colorway": [
           "#636efa",
           "#EF553B",
           "#00cc96",
           "#ab63fa",
           "#FFA15A",
           "#19d3f3",
           "#FF6692",
           "#B6E880",
           "#FF97FF",
           "#FECB52"
          ],
          "font": {
           "color": "#2a3f5f"
          },
          "geo": {
           "bgcolor": "white",
           "lakecolor": "white",
           "landcolor": "#E5ECF6",
           "showlakes": true,
           "showland": true,
           "subunitcolor": "white"
          },
          "hoverlabel": {
           "align": "left"
          },
          "hovermode": "closest",
          "mapbox": {
           "style": "light"
          },
          "paper_bgcolor": "white",
          "plot_bgcolor": "#E5ECF6",
          "polar": {
           "angularaxis": {
            "gridcolor": "white",
            "linecolor": "white",
            "ticks": ""
           },
           "bgcolor": "#E5ECF6",
           "radialaxis": {
            "gridcolor": "white",
            "linecolor": "white",
            "ticks": ""
           }
          },
          "scene": {
           "xaxis": {
            "backgroundcolor": "#E5ECF6",
            "gridcolor": "white",
            "gridwidth": 2,
            "linecolor": "white",
            "showbackground": true,
            "ticks": "",
            "zerolinecolor": "white"
           },
           "yaxis": {
            "backgroundcolor": "#E5ECF6",
            "gridcolor": "white",
            "gridwidth": 2,
            "linecolor": "white",
            "showbackground": true,
            "ticks": "",
            "zerolinecolor": "white"
           },
           "zaxis": {
            "backgroundcolor": "#E5ECF6",
            "gridcolor": "white",
            "gridwidth": 2,
            "linecolor": "white",
            "showbackground": true,
            "ticks": "",
            "zerolinecolor": "white"
           }
          },
          "shapedefaults": {
           "line": {
            "color": "#2a3f5f"
           }
          },
          "ternary": {
           "aaxis": {
            "gridcolor": "white",
            "linecolor": "white",
            "ticks": ""
           },
           "baxis": {
            "gridcolor": "white",
            "linecolor": "white",
            "ticks": ""
           },
           "bgcolor": "#E5ECF6",
           "caxis": {
            "gridcolor": "white",
            "linecolor": "white",
            "ticks": ""
           }
          },
          "title": {
           "x": 0.05
          },
          "xaxis": {
           "automargin": true,
           "gridcolor": "white",
           "linecolor": "white",
           "ticks": "",
           "title": {
            "standoff": 15
           },
           "zerolinecolor": "white",
           "zerolinewidth": 2
          },
          "yaxis": {
           "automargin": true,
           "gridcolor": "white",
           "linecolor": "white",
           "ticks": "",
           "title": {
            "standoff": 15
           },
           "zerolinecolor": "white",
           "zerolinewidth": 2
          }
         }
        }
       }
      },
      "text/html": [
       "<div\n",
       "    class=\"webio-mountpoint\"\n",
       "    data-webio-mountpoint=\"15478245660646966482\"\n",
       ">\n",
       "    <script>\n",
       "    (function(){\n",
       "    // Some integrations (namely, IJulia/Jupyter) use an alternate render pathway than\n",
       "    // just putting the html on the page. If WebIO isn't defined, then it's pretty likely\n",
       "    // that we're in one of those situations and the integration just isn't installed\n",
       "    // correctly.\n",
       "    if (typeof window.WebIO === \"undefined\") {\n",
       "        document\n",
       "            .querySelector('[data-webio-mountpoint=\"15478245660646966482\"]')\n",
       "            .innerHTML = (\n",
       "                '<div style=\"padding: 1em; background-color: #f8d6da; border: 1px solid #f5c6cb; font-weight: bold;\">' +\n",
       "                '<p><strong>WebIO not detected.</strong></p>' +\n",
       "                '<p>Please read ' +\n",
       "                '<a href=\"https://juliagizmos.github.io/WebIO.jl/latest/troubleshooting/not-detected/\" target=\"_blank\">the troubleshooting guide</a> ' +\n",
       "                'for more information on how to resolve this issue.</p>' +\n",
       "                '<p><a href=\"https://juliagizmos.github.io/WebIO.jl/latest/troubleshooting/not-detected/\" target=\"_blank\">https://juliagizmos.github.io/WebIO.jl/latest/troubleshooting/not-detected/</a></p>' +\n",
       "                '</div>'\n",
       "            );\n",
       "        return;\n",
       "    }\n",
       "    WebIO.mount(\n",
       "        document.querySelector('[data-webio-mountpoint=\"15478245660646966482\"]'),\n",
       "        {\"props\":{},\"nodeType\":\"Scope\",\"type\":\"node\",\"instanceArgs\":{\"imports\":{\"data\":[{\"name\":\"Plotly\",\"type\":\"js\",\"url\":\"\\/assetserver\\/4176b01933e6ee17b869a9de1c377f69824e56b6-plotly.min.js\"},{\"name\":null,\"type\":\"js\",\"url\":\"\\/assetserver\\/efcb236a7dd21b9052e6ddb3595839100983e917-plotly_webio.bundle.js\"}],\"type\":\"async_block\"},\"id\":\"9932062306672229501\",\"handlers\":{\"_toImage\":[\"(function (options){return this.Plotly.toImage(this.plotElem,options).then((function (data){return WebIO.setval({\\\"name\\\":\\\"image\\\",\\\"scope\\\":\\\"9932062306672229501\\\",\\\"id\\\":\\\"13045110211289736663\\\",\\\"type\\\":\\\"observable\\\"},data)}))})\"],\"__get_gd_contents\":[\"(function (prop){prop==\\\"data\\\" ? (WebIO.setval({\\\"name\\\":\\\"__gd_contents\\\",\\\"scope\\\":\\\"9932062306672229501\\\",\\\"id\\\":\\\"11907367895818749052\\\",\\\"type\\\":\\\"observable\\\"},this.plotElem.data)) : undefined; return prop==\\\"layout\\\" ? (WebIO.setval({\\\"name\\\":\\\"__gd_contents\\\",\\\"scope\\\":\\\"9932062306672229501\\\",\\\"id\\\":\\\"11907367895818749052\\\",\\\"type\\\":\\\"observable\\\"},this.plotElem.layout)) : undefined})\"],\"_downloadImage\":[\"(function (options){return this.Plotly.downloadImage(this.plotElem,options)})\"],\"_commands\":[\"(function (args){var fn=args.shift(); var elem=this.plotElem; var Plotly=this.Plotly; args.unshift(elem); return Plotly[fn].apply(this,args)})\"]},\"systemjs_options\":null,\"mount_callbacks\":[\"function () {\\n    var handler = ((function (Plotly,PlotlyWebIO){PlotlyWebIO.init(WebIO); var gd=this.dom.querySelector(\\\"#plot-10150490-5998-484c-9b50-a7840de44edd\\\"); this.plotElem=gd; this.Plotly=Plotly; (window.Blink!==undefined) ? (gd.style.width=\\\"100%\\\", gd.style.height=\\\"100vh\\\", gd.style.marginLeft=\\\"0%\\\", gd.style.marginTop=\\\"0vh\\\") : undefined; window.onresize=(function (){return Plotly.Plots.resize(gd)}); Plotly.newPlot(gd,[{\\\"x\\\":[8,9,2,8,-5,7,3,0,10,4,3,-6,1,6,1,3,5,0,8,9,7,-7,10,4,-1,-2,5,-8,-1,6,4,-1,-9,-3,0,-3,-3,8,1,1,2,8,2,2,6,2,0,-2,-8,0,8,1,7,-6,9,-2,3,0,5,-3,-9,-3,0,-5,-1,-5,6,-3,-2,-5,-9,-4,6,1,-3,1,1,-8,9,0,-9,-6,-5,7,-4,6,2,2,6,-2,1,0,-3,-8,-3,-4,1,5,4,9,-5,-5,2,-1,2,3,-6,-3,9,0,-2,-8,3,-4,0,-2,-6,4,-9,-2,6,1,8,-7,9,-6,4,-6,3,9,7,-9,-5,10,2,-2,4,-5,9,0,-1,4,-5,-7,9,-6,8,2,3,6,-7,10,-3,-9,-9,-6,-2,9,-1,2,-1,-6,-4,-1,-3,5,-9,-4,6,-4,4,8,1,3,9,-7,-4,-8,3,-6,-5,-10,7,-6,-5,3,3,-8,-1,-2,-7,8,7,6,2,-2,-1,2,-3,-3,0,6,-3,3,-7,6,10,9,-1,9,1,-6,10,10,1,5,3,-8,4,7,6,5,-9,-2,-1,4,4,-5,2,8,9,2,-10,1,-9,1,-9,-1,0,-2,0,2,4,5,3,6,-4,-1,-3,10,0,-4,-5,7,8,-5,6,5,1,-3,10,1,-1,-7,4,7,-4,7,1,6,10,-9,7,4,-5,9,-2,0,-3,-3,9,1,-5,-6,3,7,-2,-2,4,8,4,0,-4,8,-2,5,7,-2,8,-6,-1,-8,6,-10,7,4,-8,-2,-1,-2,-9,7,10,-8,1,-7,6,10,-8,-9,-6,3,3,-3,2,9,-9,-6,-5,-1,-10,-6,-7,-9,-1,8,0,8,-8,-6,-1,-10,3,-8,-6,-8,-3,-4,-8,2,-9,-1,7,-2,4,4,0,-1,-6,-3,-5,10,5,4,-5,9,7,-9,-7,-9,0,-6,3,-9,-10,-8,-10,3,2,-1,6,-4,10,4,-1,-9,-9,-5,4,1,-8,-5,1,2,7,-4,-6,4,-9,9,0,-3,6,3,2,4,3,-3,-8,-9,3,-10,3,-1,7,-4,4,-4,9,0,-3,-1,6,9,-2,6,9,8,8,-9,-9,9,0,3,-2,8,-5,-9,-3,2,5,-8,9,-9,3,3,-10,10,2,3,-3,-8,7,9,1,8,-8,6,7,9,6,8,-9,3,5,-9,2,1,-1,9,-6,5,-4,-5,3,10,-10,-4,5,2,4,5,3,-3,4,1,-4,1,-10,7,-4,-6,0,8,9,-4,-3,-2,-9,-10,-5,0,-6,-2,-1,-4,-9,8,-10,5,-1,-7,7,-7,10,3,4,5,-1,-10,6,8,-1,1,3,-3,-9,-5,-1,9,0,7,9,-7,0,-2,3,-8,-3,7,-3,1,3,-8,-8,5,-3,-3,7,8,0,9,1,-2,-4,9,-9,5,-1,10,4,-6,-5,-2,5,7,-1,-1,4,6,1,7,-4,-3,8,9,-9,-9,2,4,6,8,1,6,8,6,2,-7,-4,4,-5,9,-8,9,-3,9,-4,-8,7,5,4,4,7,-5,6,-6,3,-2,2,1,8,2,-5,2,6,9,8,-9,-1,6,-10,4,2,-8,-5,5,2,-9,-2,2,-10,7,-8,7,-5,-2,2,-1,4,-9,8,1,7,8,-7,-2,1,-3,0,-4,-1,8,-9,-9,-2,0,8,-5,0,-1,6,3,4,-1,-4,-1,7,-5,-2,-4,5,6,0,1,6,10,-2,9,-2,6,6,-3,3,-8,7,10,0,-6,5,-2,7,3,-4,-6,-5,9,-5,-9,7,8,0,5,10,-3,-7,-7,-4,-2,-1,2,-6,2,-3,-8,8,0,1,9,4,-4,8,4,4,4,-5,9,1,8,6,-5,9,1,-6,-9,8,-1,-2,6,-1,0,-4,5,1,-7,8,0,-6,2,7,7,-1,2,-10,-5,-5,2,-8,-8,10,-8,-4,10,2,9,-3,3,6,-4,5,-7,-1,-8,1,1,6,-3,3,8,9,0,-5,-9,7,9,8,2,-1,10,-4,-4,-4,-8,4,-7,-1,0,8,-5,5,3,-7,4,10,-1,7,3,1,-3,3,-2,1,-2,-4,2,1,-1,6,-7,5,7,7,1,8,-1,1,-5,3,7,3,-1,5,5,-1,5,8,-1,4,-1,4,9,9,3,4,10,0,-5,-5,-2,-8,1,2,6,-2,-5,2,-5,3,-5,5,6,-6,-3,-1,-8,6,7,-4,1,-1,7,0,-1,10,7,-1,-7,-2,-1,9,-5,2,-2,8,-8,-4,8,-9,4,1,1,-7,-8,-8,8,4,-8,9,6,4,0,9,-4,0,-1,4,1,2,-6,-2,0,5,2,-1,-5,4,6,-10,-4,6,-3,0,8,-3,3,-3,-8,-5,-4,9,10,0,-2,-1,-5,-5,2,-4,-4,9,-2,-3,-2,-5,3,-5,-9,4,7,8,6,-10,0,5,2,9,-6,-10,-2,5,8,-1,0,-3,-4,2,3,-5,6,3,4,-1,-4,-6,5,8,6,-5,-3,-8,10,-4,6,1,5,-9,3,1,-3,10,7,7,-7,-1,0,6,-1,-6,-7,8,-4],\\\"mode\\\":\\\"markers\\\",\\\"y\\\":[6,4,4,-6,8,1,-9,9,-2,-9,9,6,-3,0,7,6,-7,-9,-4,4,6,0,-2,-6,1,-3,-8,-5,10,8,1,10,-2,3,-9,-1,4,1,5,4,2,3,-1,-5,6,-3,10,-7,6,9,-5,4,6,1,-2,-9,4,9,7,9,0,-8,-3,-7,8,-8,7,9,3,6,0,-6,7,-8,2,-9,-8,3,-1,5,-1,8,-4,-7,1,5,10,5,-7,9,10,-4,1,1,8,4,-10,6,-8,4,5,7,2,8,-6,-4,-7,2,3,-9,7,5,-2,-8,-10,9,-8,-6,-4,2,7,-4,-2,5,-1,6,-5,7,3,-3,-6,0,-1,-2,5,4,-8,-2,3,7,-6,7,-2,-7,0,2,-6,3,-8,-2,-7,3,2,-3,1,-5,9,4,6,10,9,-8,-1,-6,-9,8,-3,-8,-8,0,7,5,-3,-8,4,1,-7,-2,-2,-7,8,-2,7,-8,1,9,-5,-5,9,-9,6,6,6,-2,6,10,-8,8,-9,-9,-9,7,0,7,-4,3,0,2,10,-4,2,7,-1,0,10,9,-2,5,7,6,-4,4,-4,-8,10,0,3,5,-5,-4,4,-5,-1,-5,4,8,3,-10,-10,-8,-9,3,-2,7,-6,7,0,3,2,-1,-5,9,-8,-5,-4,-7,1,-7,10,-6,0,-5,-7,6,6,6,8,6,-7,-5,-2,-2,-6,2,3,-3,1,-7,-9,-2,2,-6,7,6,3,7,7,-9,9,-6,-5,4,7,-5,-8,8,0,-10,5,8,-7,-6,-5,2,-3,-3,3,7,2,-10,3,2,2,5,-8,-1,5,2,-4,-3,1,-1,3,-7,-10,2,-3,2,7,8,1,1,-3,-1,-1,-4,-6,-2,-5,-8,7,-1,-9,-2,0,5,6,-9,3,2,-5,-5,1,3,-4,8,4,10,-7,-8,-7,1,-7,7,8,-3,-2,-3,4,-3,2,-7,-9,4,-1,-5,2,5,-6,9,7,-5,0,-8,6,5,-4,-2,-7,-3,-2,8,-10,10,-2,7,8,4,1,1,8,2,5,9,-9,-9,-1,1,-4,5,9,-2,9,-1,-7,8,-8,-1,1,-3,-1,10,-5,4,1,-2,-3,4,4,1,0,4,3,4,-8,-3,9,-1,8,-9,4,-6,-1,5,1,-8,0,2,-2,-8,-9,-3,3,3,-6,0,-7,-7,4,1,8,6,-5,-9,4,1,7,-10,-6,-3,6,1,2,-5,-3,1,-1,-8,-4,-6,-9,9,6,9,-8,2,9,7,1,0,8,3,-10,6,-4,-7,-2,-8,-5,2,9,-2,-4,9,8,-9,1,3,2,-4,3,7,-6,-3,2,7,-7,-5,3,2,8,-2,-2,-2,8,7,-3,-8,-6,-5,-5,6,3,-7,-1,-8,0,-4,-9,-1,3,-10,-2,5,2,9,-9,3,0,5,2,4,0,9,6,3,-1,-3,-8,-2,8,3,-4,-4,-8,1,-2,-8,8,2,5,6,9,5,1,2,-5,0,-3,0,-5,-6,8,0,-4,-3,-10,7,-2,3,6,2,-7,-4,8,5,8,2,3,-2,-4,3,-7,8,4,2,8,9,-5,6,-2,-6,-1,-7,-8,4,-4,4,8,-5,0,2,1,5,-6,5,-8,0,-6,-2,1,7,-2,7,3,-8,-8,10,-9,-2,3,-8,6,-2,-3,-2,-5,7,-10,4,-6,-6,-4,-3,8,-1,-5,-3,9,-8,7,-10,0,10,-2,1,-6,-5,-9,8,-1,0,-7,5,-6,-2,2,2,-6,-8,3,-6,2,-6,4,-2,3,8,8,6,5,8,-8,5,-1,4,4,-4,-1,-6,10,8,2,-9,7,6,9,-10,-3,-6,-5,0,-9,2,0,-3,-8,3,8,9,5,-8,5,-7,-8,3,-9,-5,7,3,-2,7,6,-4,-5,10,2,5,10,-10,-7,-8,-7,-2,4,-10,-2,10,0,-6,3,10,2,8,7,-10,5,-2,-1,6,-9,-1,9,-2,-5,-9,-4,-9,-8,-4,2,-2,3,-9,-6,-9,-10,5,-1,10,4,2,4,-2,0,8,1,-2,3,7,-9,-6,-7,-5,7,6,-3,-3,3,3,0,-4,3,-2,6,-6,-7,-6,8,2,-10,-2,-9,1,4,-9,8,-6,-9,-1,-6,-7,6,-5,-8,-5,-9,1,5,-5,-8,2,-3,6,-3,10,4,9,5,5,-5,6,-8,2,5,-5,3,7,-2,-10,3,3,8,-3,-3,8,3,3,9,8,-8,6,-3,3,-2,-5,-1,10,-1,5,-10,-10,-3,-7,10,4,-2,-1,-3,-2,-3,-8,-6,4,-8,6,-3,5,7,-7,6,6,5,-6,-6,-4,0,7,-9,10,0,-8,9,9,3,-6,5,-8,-8,-10,-7,8,-7,-3,4,-6,1,-6,-6,-1,10,4,9,-4,-10,-4,9,3,3,0,1,9,-7,-7,7,-9,-9,-3,5,3,-5,4,9,-9,6,0,-2,-2,-4,-6,2,-7,8,-5,-1,4,-2,8,-8,-5,6,8,9,-8,4,8,3,2,-7,4,8,4,-3,9,5,-6,-6,9,-6,-1,9,-8,-9,8,3,3,3,-1,0,7,-7,-7,6,-10,8,8,-7,-1,3,1],\\\"type\\\":\\\"scatter3d\\\",\\\"z\\\":[-2,-1,-9,-3,3,7,3,3,-1,-3,4,-5,9,-8,-7,-7,6,-4,5,2,-4,-7,1,-7,-10,9,-5,1,1,-1,9,0,4,-9,-3,-10,-9,6,9,9,-10,5,10,8,5,9,1,7,-1,5,-2,9,4,8,-4,-4,9,3,6,-2,4,-5,10,-5,6,4,4,-4,-9,7,-4,7,3,6,9,-3,6,4,3,-9,-4,1,-8,0,-9,7,0,-8,-4,2,3,-9,9,-6,-6,-8,-2,6,5,3,-7,5,10,-7,-8,9,-4,-9,-1,-5,6,-3,-9,-4,-2,-3,1,7,3,10,-5,-9,5,-6,-4,6,8,4,-9,-3,-3,5,-9,1,-8,9,4,-9,2,7,-8,5,9,3,-4,-8,3,-9,5,8,2,-1,9,2,5,6,5,-3,8,1,4,1,-9,-8,-1,2,3,-5,1,9,6,3,10,5,2,-7,-6,5,-9,4,-3,2,-1,-2,-8,-3,-8,-2,4,4,-3,3,5,8,8,2,6,-6,3,-2,-5,-4,-10,-7,-6,-7,0,-5,1,-2,-10,-2,2,3,0,-2,10,-3,6,-3,7,8,0,5,0,9,9,7,-9,-5,-1,-9,1,-9,-1,-6,-4,1,2,5,4,9,9,-5,8,-4,-9,-10,9,2,-9,2,-2,-5,4,5,8,5,1,-7,2,8,7,-4,7,4,-5,-4,7,6,-2,5,-3,-9,8,-3,10,7,2,9,3,-8,-5,-5,-9,-2,-7,-3,3,-1,-8,-9,7,2,6,-1,8,-1,-4,2,-7,2,-6,0,-6,-9,5,-7,10,0,2,7,-2,-3,-6,7,-6,-1,4,-2,8,10,-9,6,1,-3,-3,-7,-5,6,2,8,6,3,-10,5,8,-5,2,-1,-7,-2,-4,-6,8,4,-7,4,5,-10,0,-9,7,9,-8,-4,9,3,4,6,-5,-1,-6,5,1,2,7,-3,6,2,-10,-4,-4,-1,0,-2,-2,-8,-7,-4,-2,8,0,5,8,1,2,8,6,-9,-6,-1,3,-1,-7,-5,0,8,-4,4,-6,-9,-6,-4,-3,0,-9,10,3,-1,-2,1,3,10,1,-4,4,9,4,-9,10,-2,6,0,-10,-8,1,-5,-4,-5,3,1,-10,9,-5,-5,1,-5,6,-5,7,-1,-3,1,9,5,1,-1,10,5,2,-6,6,4,8,6,-1,5,-6,-3,2,-1,2,4,-8,-4,7,2,8,4,-5,9,9,7,-9,1,-2,4,7,-8,-1,-1,-8,-3,5,-10,-2,-7,0,7,4,-7,-3,2,3,-6,-9,6,0,-2,-1,10,7,-4,5,-2,3,5,2,7,9,1,4,-6,2,6,5,-7,10,2,-2,-6,10,-10,4,6,2,-1,-8,-1,9,4,-3,2,-10,6,-10,-4,-3,7,-9,-2,-9,-4,-5,-1,-4,-9,7,-4,10,1,-10,3,7,2,3,-8,6,2,-4,-7,7,-9,-1,7,10,6,-4,8,-8,2,1,-8,6,-4,-1,4,-9,-9,-7,-2,-6,8,5,-7,0,1,-9,-9,-6,-3,0,1,6,1,5,-5,7,-8,-8,-9,-1,1,7,8,5,-3,8,8,5,7,8,-6,2,1,-5,0,-5,-7,0,9,10,-4,-6,7,6,5,8,-10,-3,-1,5,-2,-8,-6,5,-2,-2,-3,-6,-6,-4,6,6,-10,9,6,-1,-8,8,-3,3,-5,-5,-10,3,-8,4,6,-4,0,-9,-2,-9,10,-5,7,5,-4,8,-8,7,9,5,-2,10,4,-8,-1,-7,7,-9,0,-6,0,9,2,2,-8,-6,6,4,-6,8,-3,8,-1,7,1,-1,-3,-2,-1,-1,-3,-3,-2,10,-8,-6,-10,-4,-6,-6,10,-6,-3,-3,1,-2,5,7,-6,0,-3,-5,-3,-5,-8,3,7,5,-2,-3,-2,10,6,1,-2,-6,4,7,7,4,-3,7,2,8,-4,-9,0,-2,-4,5,0,-3,6,2,1,-2,-2,3,-5,8,1,7,-2,-3,6,10,5,-10,5,-5,-4,-1,-4,-4,0,-8,4,-6,-4,-6,5,-10,1,9,-6,-2,0,-6,6,-7,8,4,-8,-8,-9,7,8,1,-10,3,7,-7,8,6,-10,2,-9,4,10,9,5,-1,3,-1,-7,5,-7,2,9,5,-7,3,7,-8,9,-2,-8,9,6,-5,-3,-8,5,-8,0,-1,7,4,-1,9,7,8,7,6,2,-10,7,-6,8,-9,-4,9,-8,0,-1,3,7,-10,-5,-7,-5,-9,0,10,5,0,-1,0,-1,2,6,9,-10,-4,8,-9,6,2,-4,-5,-1,-1,-8,7,-7,4,1,2,-1,7,4,4,3,1,-3,-5,-4,5,-5,-9,8,8,-1,6,-2,6,5,7,8,-8,-5,0,7,5,-10,2,4,-3,-9,-1,5,-2,9,-2,2,-10,4,-7,4,-5,4,-2,-9,0,9,-8,9,-1,-2,-6,5,-9,-7,-4,6,2,-8,-4,8,4,-7,-1,-5,-2,-3,8,-5,1,5,9,5,8,-8,-6,8,6,8,-7,-1,-3,6,7,-2,0,3,-1,-2,-4,3,3,9,-10,-9,-2,2,0,-3,8,-1,-1,-5,-5,7,4,9],\\\"marker\\\":{\\\"size\\\":1}}],{\\\"template\\\":{\\\"layout\\\":{\\\"coloraxis\\\":{\\\"colorbar\\\":{\\\"ticks\\\":\\\"\\\",\\\"outlinewidth\\\":0}},\\\"xaxis\\\":{\\\"gridcolor\\\":\\\"white\\\",\\\"zerolinewidth\\\":2,\\\"title\\\":{\\\"standoff\\\":15},\\\"ticks\\\":\\\"\\\",\\\"zerolinecolor\\\":\\\"white\\\",\\\"automargin\\\":true,\\\"linecolor\\\":\\\"white\\\"},\\\"hovermode\\\":\\\"closest\\\",\\\"paper_bgcolor\\\":\\\"white\\\",\\\"geo\\\":{\\\"showlakes\\\":true,\\\"showland\\\":true,\\\"landcolor\\\":\\\"#E5ECF6\\\",\\\"bgcolor\\\":\\\"white\\\",\\\"subunitcolor\\\":\\\"white\\\",\\\"lakecolor\\\":\\\"white\\\"},\\\"colorscale\\\":{\\\"sequential\\\":[[0.0,\\\"#0d0887\\\"],[0.1111111111111111,\\\"#46039f\\\"],[0.2222222222222222,\\\"#7201a8\\\"],[0.3333333333333333,\\\"#9c179e\\\"],[0.4444444444444444,\\\"#bd3786\\\"],[0.5555555555555556,\\\"#d8576b\\\"],[0.6666666666666666,\\\"#ed7953\\\"],[0.7777777777777778,\\\"#fb9f3a\\\"],[0.8888888888888888,\\\"#fdca26\\\"],[1.0,\\\"#f0f921\\\"]],\\\"diverging\\\":[[0,\\\"#8e0152\\\"],[0.1,\\\"#c51b7d\\\"],[0.2,\\\"#de77ae\\\"],[0.3,\\\"#f1b6da\\\"],[0.4,\\\"#fde0ef\\\"],[0.5,\\\"#f7f7f7\\\"],[0.6,\\\"#e6f5d0\\\"],[0.7,\\\"#b8e186\\\"],[0.8,\\\"#7fbc41\\\"],[0.9,\\\"#4d9221\\\"],[1,\\\"#276419\\\"]],\\\"sequentialminus\\\":[[0.0,\\\"#0d0887\\\"],[0.1111111111111111,\\\"#46039f\\\"],[0.2222222222222222,\\\"#7201a8\\\"],[0.3333333333333333,\\\"#9c179e\\\"],[0.4444444444444444,\\\"#bd3786\\\"],[0.5555555555555556,\\\"#d8576b\\\"],[0.6666666666666666,\\\"#ed7953\\\"],[0.7777777777777778,\\\"#fb9f3a\\\"],[0.8888888888888888,\\\"#fdca26\\\"],[1.0,\\\"#f0f921\\\"]]},\\\"yaxis\\\":{\\\"gridcolor\\\":\\\"white\\\",\\\"zerolinewidth\\\":2,\\\"title\\\":{\\\"standoff\\\":15},\\\"ticks\\\":\\\"\\\",\\\"zerolinecolor\\\":\\\"white\\\",\\\"automargin\\\":true,\\\"linecolor\\\":\\\"white\\\"},\\\"shapedefaults\\\":{\\\"line\\\":{\\\"color\\\":\\\"#2a3f5f\\\"}},\\\"hoverlabel\\\":{\\\"align\\\":\\\"left\\\"},\\\"mapbox\\\":{\\\"style\\\":\\\"light\\\"},\\\"polar\\\":{\\\"angularaxis\\\":{\\\"gridcolor\\\":\\\"white\\\",\\\"ticks\\\":\\\"\\\",\\\"linecolor\\\":\\\"white\\\"},\\\"bgcolor\\\":\\\"#E5ECF6\\\",\\\"radialaxis\\\":{\\\"gridcolor\\\":\\\"white\\\",\\\"ticks\\\":\\\"\\\",\\\"linecolor\\\":\\\"white\\\"}},\\\"autotypenumbers\\\":\\\"strict\\\",\\\"font\\\":{\\\"color\\\":\\\"#2a3f5f\\\"},\\\"ternary\\\":{\\\"baxis\\\":{\\\"gridcolor\\\":\\\"white\\\",\\\"ticks\\\":\\\"\\\",\\\"linecolor\\\":\\\"white\\\"},\\\"bgcolor\\\":\\\"#E5ECF6\\\",\\\"caxis\\\":{\\\"gridcolor\\\":\\\"white\\\",\\\"ticks\\\":\\\"\\\",\\\"linecolor\\\":\\\"white\\\"},\\\"aaxis\\\":{\\\"gridcolor\\\":\\\"white\\\",\\\"ticks\\\":\\\"\\\",\\\"linecolor\\\":\\\"white\\\"}},\\\"annotationdefaults\\\":{\\\"arrowhead\\\":0,\\\"arrowwidth\\\":1,\\\"arrowcolor\\\":\\\"#2a3f5f\\\"},\\\"plot_bgcolor\\\":\\\"#E5ECF6\\\",\\\"title\\\":{\\\"x\\\":0.05},\\\"scene\\\":{\\\"xaxis\\\":{\\\"gridcolor\\\":\\\"white\\\",\\\"gridwidth\\\":2,\\\"backgroundcolor\\\":\\\"#E5ECF6\\\",\\\"ticks\\\":\\\"\\\",\\\"showbackground\\\":true,\\\"zerolinecolor\\\":\\\"white\\\",\\\"linecolor\\\":\\\"white\\\"},\\\"zaxis\\\":{\\\"gridcolor\\\":\\\"white\\\",\\\"gridwidth\\\":2,\\\"backgroundcolor\\\":\\\"#E5ECF6\\\",\\\"ticks\\\":\\\"\\\",\\\"showbackground\\\":true,\\\"zerolinecolor\\\":\\\"white\\\",\\\"linecolor\\\":\\\"white\\\"},\\\"yaxis\\\":{\\\"gridcolor\\\":\\\"white\\\",\\\"gridwidth\\\":2,\\\"backgroundcolor\\\":\\\"#E5ECF6\\\",\\\"ticks\\\":\\\"\\\",\\\"showbackground\\\":true,\\\"zerolinecolor\\\":\\\"white\\\",\\\"linecolor\\\":\\\"white\\\"}},\\\"colorway\\\":[\\\"#636efa\\\",\\\"#EF553B\\\",\\\"#00cc96\\\",\\\"#ab63fa\\\",\\\"#FFA15A\\\",\\\"#19d3f3\\\",\\\"#FF6692\\\",\\\"#B6E880\\\",\\\"#FF97FF\\\",\\\"#FECB52\\\"]},\\\"data\\\":{\\\"barpolar\\\":[{\\\"type\\\":\\\"barpolar\\\",\\\"marker\\\":{\\\"line\\\":{\\\"color\\\":\\\"#E5ECF6\\\",\\\"width\\\":0.5}}}],\\\"carpet\\\":[{\\\"aaxis\\\":{\\\"gridcolor\\\":\\\"white\\\",\\\"endlinecolor\\\":\\\"#2a3f5f\\\",\\\"minorgridcolor\\\":\\\"white\\\",\\\"startlinecolor\\\":\\\"#2a3f5f\\\",\\\"linecolor\\\":\\\"white\\\"},\\\"type\\\":\\\"carpet\\\",\\\"baxis\\\":{\\\"gridcolor\\\":\\\"white\\\",\\\"endlinecolor\\\":\\\"#2a3f5f\\\",\\\"minorgridcolor\\\":\\\"white\\\",\\\"startlinecolor\\\":\\\"#2a3f5f\\\",\\\"linecolor\\\":\\\"white\\\"}}],\\\"scatterpolar\\\":[{\\\"type\\\":\\\"scatterpolar\\\",\\\"marker\\\":{\\\"colorbar\\\":{\\\"ticks\\\":\\\"\\\",\\\"outlinewidth\\\":0}}}],\\\"parcoords\\\":[{\\\"line\\\":{\\\"colorbar\\\":{\\\"ticks\\\":\\\"\\\",\\\"outlinewidth\\\":0}},\\\"type\\\":\\\"parcoords\\\"}],\\\"scatter\\\":[{\\\"type\\\":\\\"scatter\\\",\\\"marker\\\":{\\\"colorbar\\\":{\\\"ticks\\\":\\\"\\\",\\\"outlinewidth\\\":0}}}],\\\"histogram2dcontour\\\":[{\\\"colorbar\\\":{\\\"ticks\\\":\\\"\\\",\\\"outlinewidth\\\":0},\\\"type\\\":\\\"histogram2dcontour\\\",\\\"colorscale\\\":[[0.0,\\\"#0d0887\\\"],[0.1111111111111111,\\\"#46039f\\\"],[0.2222222222222222,\\\"#7201a8\\\"],[0.3333333333333333,\\\"#9c179e\\\"],[0.4444444444444444,\\\"#bd3786\\\"],[0.5555555555555556,\\\"#d8576b\\\"],[0.6666666666666666,\\\"#ed7953\\\"],[0.7777777777777778,\\\"#fb9f3a\\\"],[0.8888888888888888,\\\"#fdca26\\\"],[1.0,\\\"#f0f921\\\"]]}],\\\"contour\\\":[{\\\"colorbar\\\":{\\\"ticks\\\":\\\"\\\",\\\"outlinewidth\\\":0},\\\"type\\\":\\\"contour\\\",\\\"colorscale\\\":[[0.0,\\\"#0d0887\\\"],[0.1111111111111111,\\\"#46039f\\\"],[0.2222222222222222,\\\"#7201a8\\\"],[0.3333333333333333,\\\"#9c179e\\\"],[0.4444444444444444,\\\"#bd3786\\\"],[0.5555555555555556,\\\"#d8576b\\\"],[0.6666666666666666,\\\"#ed7953\\\"],[0.7777777777777778,\\\"#fb9f3a\\\"],[0.8888888888888888,\\\"#fdca26\\\"],[1.0,\\\"#f0f921\\\"]]}],\\\"scattercarpet\\\":[{\\\"type\\\":\\\"scattercarpet\\\",\\\"marker\\\":{\\\"colorbar\\\":{\\\"ticks\\\":\\\"\\\",\\\"outlinewidth\\\":0}}}],\\\"mesh3d\\\":[{\\\"colorbar\\\":{\\\"ticks\\\":\\\"\\\",\\\"outlinewidth\\\":0},\\\"type\\\":\\\"mesh3d\\\"}],\\\"surface\\\":[{\\\"colorbar\\\":{\\\"ticks\\\":\\\"\\\",\\\"outlinewidth\\\":0},\\\"type\\\":\\\"surface\\\",\\\"colorscale\\\":[[0.0,\\\"#0d0887\\\"],[0.1111111111111111,\\\"#46039f\\\"],[0.2222222222222222,\\\"#7201a8\\\"],[0.3333333333333333,\\\"#9c179e\\\"],[0.4444444444444444,\\\"#bd3786\\\"],[0.5555555555555556,\\\"#d8576b\\\"],[0.6666666666666666,\\\"#ed7953\\\"],[0.7777777777777778,\\\"#fb9f3a\\\"],[0.8888888888888888,\\\"#fdca26\\\"],[1.0,\\\"#f0f921\\\"]]}],\\\"scattermapbox\\\":[{\\\"type\\\":\\\"scattermapbox\\\",\\\"marker\\\":{\\\"colorbar\\\":{\\\"ticks\\\":\\\"\\\",\\\"outlinewidth\\\":0}}}],\\\"scattergeo\\\":[{\\\"type\\\":\\\"scattergeo\\\",\\\"marker\\\":{\\\"colorbar\\\":{\\\"ticks\\\":\\\"\\\",\\\"outlinewidth\\\":0}}}],\\\"histogram\\\":[{\\\"type\\\":\\\"histogram\\\",\\\"marker\\\":{\\\"colorbar\\\":{\\\"ticks\\\":\\\"\\\",\\\"outlinewidth\\\":0}}}],\\\"pie\\\":[{\\\"type\\\":\\\"pie\\\",\\\"automargin\\\":true}],\\\"choropleth\\\":[{\\\"colorbar\\\":{\\\"ticks\\\":\\\"\\\",\\\"outlinewidth\\\":0},\\\"type\\\":\\\"choropleth\\\"}],\\\"heatmapgl\\\":[{\\\"colorbar\\\":{\\\"ticks\\\":\\\"\\\",\\\"outlinewidth\\\":0},\\\"type\\\":\\\"heatmapgl\\\",\\\"colorscale\\\":[[0.0,\\\"#0d0887\\\"],[0.1111111111111111,\\\"#46039f\\\"],[0.2222222222222222,\\\"#7201a8\\\"],[0.3333333333333333,\\\"#9c179e\\\"],[0.4444444444444444,\\\"#bd3786\\\"],[0.5555555555555556,\\\"#d8576b\\\"],[0.6666666666666666,\\\"#ed7953\\\"],[0.7777777777777778,\\\"#fb9f3a\\\"],[0.8888888888888888,\\\"#fdca26\\\"],[1.0,\\\"#f0f921\\\"]]}],\\\"bar\\\":[{\\\"type\\\":\\\"bar\\\",\\\"error_y\\\":{\\\"color\\\":\\\"#2a3f5f\\\"},\\\"error_x\\\":{\\\"color\\\":\\\"#2a3f5f\\\"},\\\"marker\\\":{\\\"line\\\":{\\\"color\\\":\\\"#E5ECF6\\\",\\\"width\\\":0.5}}}],\\\"heatmap\\\":[{\\\"colorbar\\\":{\\\"ticks\\\":\\\"\\\",\\\"outlinewidth\\\":0},\\\"type\\\":\\\"heatmap\\\",\\\"colorscale\\\":[[0.0,\\\"#0d0887\\\"],[0.1111111111111111,\\\"#46039f\\\"],[0.2222222222222222,\\\"#7201a8\\\"],[0.3333333333333333,\\\"#9c179e\\\"],[0.4444444444444444,\\\"#bd3786\\\"],[0.5555555555555556,\\\"#d8576b\\\"],[0.6666666666666666,\\\"#ed7953\\\"],[0.7777777777777778,\\\"#fb9f3a\\\"],[0.8888888888888888,\\\"#fdca26\\\"],[1.0,\\\"#f0f921\\\"]]}],\\\"contourcarpet\\\":[{\\\"colorbar\\\":{\\\"ticks\\\":\\\"\\\",\\\"outlinewidth\\\":0},\\\"type\\\":\\\"contourcarpet\\\"}],\\\"table\\\":[{\\\"type\\\":\\\"table\\\",\\\"header\\\":{\\\"line\\\":{\\\"color\\\":\\\"white\\\"},\\\"fill\\\":{\\\"color\\\":\\\"#C8D4E3\\\"}},\\\"cells\\\":{\\\"line\\\":{\\\"color\\\":\\\"white\\\"},\\\"fill\\\":{\\\"color\\\":\\\"#EBF0F8\\\"}}}],\\\"scatter3d\\\":[{\\\"line\\\":{\\\"colorbar\\\":{\\\"ticks\\\":\\\"\\\",\\\"outlinewidth\\\":0}},\\\"type\\\":\\\"scatter3d\\\",\\\"marker\\\":{\\\"colorbar\\\":{\\\"ticks\\\":\\\"\\\",\\\"outlinewidth\\\":0}}}],\\\"scattergl\\\":[{\\\"type\\\":\\\"scattergl\\\",\\\"marker\\\":{\\\"colorbar\\\":{\\\"ticks\\\":\\\"\\\",\\\"outlinewidth\\\":0}}}],\\\"histogram2d\\\":[{\\\"colorbar\\\":{\\\"ticks\\\":\\\"\\\",\\\"outlinewidth\\\":0},\\\"type\\\":\\\"histogram2d\\\",\\\"colorscale\\\":[[0.0,\\\"#0d0887\\\"],[0.1111111111111111,\\\"#46039f\\\"],[0.2222222222222222,\\\"#7201a8\\\"],[0.3333333333333333,\\\"#9c179e\\\"],[0.4444444444444444,\\\"#bd3786\\\"],[0.5555555555555556,\\\"#d8576b\\\"],[0.6666666666666666,\\\"#ed7953\\\"],[0.7777777777777778,\\\"#fb9f3a\\\"],[0.8888888888888888,\\\"#fdca26\\\"],[1.0,\\\"#f0f921\\\"]]}],\\\"scatterternary\\\":[{\\\"type\\\":\\\"scatterternary\\\",\\\"marker\\\":{\\\"colorbar\\\":{\\\"ticks\\\":\\\"\\\",\\\"outlinewidth\\\":0}}}],\\\"scatterpolargl\\\":[{\\\"type\\\":\\\"scatterpolargl\\\",\\\"marker\\\":{\\\"colorbar\\\":{\\\"ticks\\\":\\\"\\\",\\\"outlinewidth\\\":0}}}]}},\\\"margin\\\":{\\\"l\\\":0,\\\"b\\\":0,\\\"r\\\":0,\\\"t\\\":0}},{\\\"showLink\\\":false,\\\"editable\\\":false,\\\"responsive\\\":true,\\\"staticPlot\\\":false,\\\"scrollZoom\\\":true}); gd.on(\\\"plotly_hover\\\",(function (data){var filtered_data=WebIO.PlotlyCommands.filterEventData(gd,data,\\\"hover\\\"); return !(filtered_data.isnil) ? (WebIO.setval({\\\"name\\\":\\\"hover\\\",\\\"scope\\\":\\\"9932062306672229501\\\",\\\"id\\\":\\\"11583649278495150220\\\",\\\"type\\\":\\\"observable\\\"},filtered_data.out)) : undefined})); gd.on(\\\"plotly_unhover\\\",(function (){return WebIO.setval({\\\"name\\\":\\\"hover\\\",\\\"scope\\\":\\\"9932062306672229501\\\",\\\"id\\\":\\\"11583649278495150220\\\",\\\"type\\\":\\\"observable\\\"},{})})); gd.on(\\\"plotly_selected\\\",(function (data){var filtered_data=WebIO.PlotlyCommands.filterEventData(gd,data,\\\"selected\\\"); return !(filtered_data.isnil) ? (WebIO.setval({\\\"name\\\":\\\"selected\\\",\\\"scope\\\":\\\"9932062306672229501\\\",\\\"id\\\":\\\"16516380267038361589\\\",\\\"type\\\":\\\"observable\\\"},filtered_data.out)) : undefined})); gd.on(\\\"plotly_deselect\\\",(function (){return WebIO.setval({\\\"name\\\":\\\"selected\\\",\\\"scope\\\":\\\"9932062306672229501\\\",\\\"id\\\":\\\"16516380267038361589\\\",\\\"type\\\":\\\"observable\\\"},{})})); gd.on(\\\"plotly_relayout\\\",(function (data){var filtered_data=WebIO.PlotlyCommands.filterEventData(gd,data,\\\"relayout\\\"); return !(filtered_data.isnil) ? (WebIO.setval({\\\"name\\\":\\\"relayout\\\",\\\"scope\\\":\\\"9932062306672229501\\\",\\\"id\\\":\\\"10215230991068522919\\\",\\\"type\\\":\\\"observable\\\"},filtered_data.out)) : undefined})); return gd.on(\\\"plotly_click\\\",(function (data){var filtered_data=WebIO.PlotlyCommands.filterEventData(gd,data,\\\"click\\\"); return !(filtered_data.isnil) ? (WebIO.setval({\\\"name\\\":\\\"click\\\",\\\"scope\\\":\\\"9932062306672229501\\\",\\\"id\\\":\\\"2075971971539697868\\\",\\\"type\\\":\\\"observable\\\"},filtered_data.out)) : undefined}))}));\\n    (WebIO.importBlock({\\\"data\\\":[{\\\"name\\\":\\\"Plotly\\\",\\\"type\\\":\\\"js\\\",\\\"url\\\":\\\"\\/assetserver\\/4176b01933e6ee17b869a9de1c377f69824e56b6-plotly.min.js\\\"},{\\\"name\\\":null,\\\"type\\\":\\\"js\\\",\\\"url\\\":\\\"\\/assetserver\\/efcb236a7dd21b9052e6ddb3595839100983e917-plotly_webio.bundle.js\\\"}],\\\"type\\\":\\\"async_block\\\"})).then((imports) => handler.apply(this, imports));\\n}\\n\"],\"observables\":{\"_toImage\":{\"sync\":false,\"id\":\"8289060852245220377\",\"value\":{}},\"hover\":{\"sync\":false,\"id\":\"11583649278495150220\",\"value\":{}},\"selected\":{\"sync\":false,\"id\":\"16516380267038361589\",\"value\":{}},\"__gd_contents\":{\"sync\":false,\"id\":\"11907367895818749052\",\"value\":{}},\"click\":{\"sync\":false,\"id\":\"2075971971539697868\",\"value\":{}},\"image\":{\"sync\":true,\"id\":\"13045110211289736663\",\"value\":\"\"},\"__get_gd_contents\":{\"sync\":false,\"id\":\"6362098124449683577\",\"value\":\"\"},\"_downloadImage\":{\"sync\":false,\"id\":\"14583052288184437734\",\"value\":{}},\"relayout\":{\"sync\":false,\"id\":\"10215230991068522919\",\"value\":{}},\"_commands\":{\"sync\":false,\"id\":\"13742303969928523346\",\"value\":[]}}},\"children\":[{\"props\":{\"id\":\"plot-10150490-5998-484c-9b50-a7840de44edd\"},\"nodeType\":\"DOM\",\"type\":\"node\",\"instanceArgs\":{\"namespace\":\"html\",\"tag\":\"div\"},\"children\":[]}]},\n",
       "        window,\n",
       "    );\n",
       "    })()\n",
       "    </script>\n",
       "</div>\n"
      ],
      "text/plain": [
       "data: [\n",
       "  \"scatter3d with fields marker, mode, type, x, y, and z\"\n",
       "]\n",
       "\n",
       "layout: \"layout with fields margin and template\"\n",
       "\n"
      ]
     },
     "metadata": {},
     "output_type": "display_data"
    }
   ],
   "source": [
    "plot(scatter(x=xs, y=ys, z=zs, type=\"scatter3d\",mode=\"markers\", marker=attr(size=1)), \n",
    "             Layout(margin=attr(l=0, r=0, b=0, t=0)))"
   ]
  },
  {
   "cell_type": "code",
   "execution_count": 69,
   "metadata": {},
   "outputs": [
    {
     "name": "stderr",
     "output_type": "stream",
     "text": [
      "WARNING: redefinition of constant SIA_DIRECTIONS. This may fail, cause incorrect answers, or produce other errors.\n",
      "WARNING: redefinition of constant FIRST_NEIGHBORS. This may fail, cause incorrect answers, or produce other errors.\n",
      "WARNING: redefinition of constant SECOND_NEIGHBORS. This may fail, cause incorrect answers, or produce other errors.\n"
     ]
    },
    {
     "data": {
      "text/plain": [
       "200-element Vector{Float64}:\n",
       "  1.4422495703074083\n",
       "  1.7973891368593466\n",
       "  2.069897310773799\n",
       "  2.2996323284124003\n",
       "  2.5020329420614367\n",
       "  2.6850170838197442\n",
       "  2.8532883685428736\n",
       "  3.0099114615162765\n",
       "  3.157015086517392\n",
       "  3.2961491543713812\n",
       "  ⋮\n",
       " 12.465110800773475\n",
       " 12.496008756696005\n",
       " 12.526826769251771\n",
       " 12.557565455769204\n",
       " 12.588225425672302\n",
       " 12.61880728062162\n",
       " 12.649311614652015\n",
       " 12.679739014307277\n",
       " 12.710090058771717"
      ]
     },
     "metadata": {},
     "output_type": "display_data"
    }
   ],
   "source": [
    "include(\"../main.jl\")"
   ]
  },
  {
   "cell_type": "code",
   "execution_count": 84,
   "metadata": {},
   "outputs": [
    {
     "data": {
      "application/vnd.plotly.v1+json": {
       "config": {
        "editable": false,
        "responsive": true,
        "scrollZoom": true,
        "showLink": false,
        "staticPlot": false
       },
       "data": [
        {
         "mode": "markers+lines",
         "name": "SIA",
         "type": "scatter",
         "x": [
          1,
          2,
          3,
          4,
          5,
          6,
          7,
          8,
          9,
          10,
          11,
          12,
          13,
          14,
          15,
          16,
          17,
          18,
          19,
          20,
          21,
          22,
          23,
          24,
          25,
          26,
          27,
          28,
          29,
          30,
          31,
          32,
          33,
          34,
          35,
          36,
          37,
          38,
          39,
          40,
          41,
          42,
          43,
          44,
          45,
          46,
          47,
          48,
          49,
          50,
          51,
          52,
          53,
          54,
          55,
          56,
          57,
          58,
          59,
          60,
          61,
          62,
          63,
          64,
          65,
          66,
          67,
          68,
          69,
          70,
          71,
          72,
          73,
          74,
          75,
          76,
          77,
          78,
          79,
          80,
          81,
          82,
          83,
          84,
          85,
          86,
          87,
          88,
          89,
          90,
          91,
          92,
          93,
          94,
          95,
          96,
          97,
          98,
          99,
          100,
          101,
          102,
          103,
          104,
          105,
          106,
          107,
          108,
          109,
          110,
          111,
          112,
          113,
          114,
          115,
          116,
          117,
          118,
          119,
          120,
          121,
          122,
          123,
          124,
          125,
          126,
          127,
          128,
          129,
          130,
          131,
          132,
          133,
          134,
          135,
          136,
          137,
          138,
          139,
          140,
          141,
          142,
          143,
          144,
          145,
          146,
          147,
          148,
          149,
          150,
          151,
          152,
          153,
          154,
          155,
          156,
          157,
          158,
          159,
          160,
          161,
          162,
          163,
          164,
          165,
          166,
          167,
          168,
          169,
          170,
          171,
          172,
          173,
          174,
          175,
          176,
          177,
          178,
          179,
          180,
          181,
          182,
          183,
          184,
          185,
          186,
          187,
          188,
          189,
          190,
          191,
          192,
          193,
          194,
          195,
          196,
          197,
          198,
          199,
          200
         ],
         "y": [
          1.4422495703074083,
          1.7973891368593466,
          2.069897310773799,
          2.2996323284124003,
          2.5020329420614367,
          2.6850170838197442,
          2.8532883685428736,
          3.0099114615162765,
          3.157015086517392,
          3.2961491543713812,
          3.4284837225567193,
          3.554927809345181,
          3.676204309248703,
          3.792899342358574,
          3.905495955668432,
          4.014397844622383,
          4.119946485452694,
          4.222433786173207,
          4.322111610716254,
          4.419199071920458,
          4.5138882007685535,
          4.606348413018949,
          4.69673007106714,
          4.785167355437073,
          4.871780602727375,
          4.956678226397772,
          5.039958307916564,
          5.12170992488333,
          5.202014267393334,
          5.28094558250341,
          5.358571978084303,
          5.434956110830138,
          5.5101557781981025,
          5.584224430182408,
          5.657211613805547,
          5.729163360832366,
          5.800122527327202,
          5.870129092168991,
          5.939220420429388,
          6.007431496540347,
          6.074795131381515,
          6.141342146766618,
          6.207101540272394,
          6.272100632911023,
          6.336365201779477,
          6.3999195995125415,
          6.462786862109439,
          6.524988806487945,
          6.58654611893736,
          6.647478435487066,
          6.707804415075882,
          6.7675418062949895,
          6.826707508381174,
          6.885317627054402,
          6.943387525722564,
          7.000931872514732,
          7.057964683550894,
          7.114499362809834,
          7.170548738916434,
          7.226125099134448,
          7.281240220819882,
          7.335905400563085,
          7.390131481223786,
          7.443928877042351,
          7.497307596991968,
          7.550277266520073,
          7.602847147812756,
          7.655026158702972,
          7.706822890331857,
          7.75824562366223,
          7.809302344934114,
          7.860000760143997,
          7.910348308622142,
          7.960352175775684,
          8.010019305059329,
          8.059356409230091,
          8.108369980937754,
          8.157066302698318,
          8.205451456293847,
          8.253531331638499,
          8.301311635147343,
          8.348797897641628,
          8.395995481821487,
          8.442909589334691,
          8.489545267467783,
          8.535907415483987,
          8.582000790630431,
          8.627830013835483,
          8.67339957511556,
          8.718713838709313,
          8.763777047955758,
          8.808593329931863,
          8.85316669986386,
          8.897501065325669,
          8.941600230236864,
          8.985467898671729,
          9.029107678490227,
          9.072523084800928,
          9.115717543265326,
          9.158694393252334,
          9.201456890851164,
          9.24400821175028,
          9.28635145398967,
          9.328489640593128,
          9.370425722086916,
          9.412162578910737,
          9.453703023726584,
          9.495049803630712,
          9.536205602273643,
          9.577173041892857,
          9.617954685262506,
          9.658553037564245,
          9.69897054818308,
          9.739209612431846,
          9.779272573207754,
          9.819161722584251,
          9.858879303341276,
          9.898427510436756,
          9.937808492422123,
          9.977024352804403,
          10.016077151357328,
          10.054968905383788,
          10.093701590931824,
          10.13227714396619,
          10.170697461497518,
          10.20896440267089,
          10.24707978981561,
          10.285045409457858,
          10.322863013297807,
          10.360534319152721,
          10.398061011867464,
          10.43544474419379,
          10.472687137639724,
          10.509789783290246,
          10.546754242600462,
          10.5835820481624,
          10.62027470444646,
          10.656833688518569,
          10.693260450733986,
          10.729556415408679,
          10.765722981469171,
          10.80176152308168,
          10.837673390261342,
          10.873459909462317,
          10.909122384149473,
          10.944662095352347,
          10.980080302202094,
          11.01537824245199,
          11.050557132982155,
          11.085618170289058,
          11.120562530960346,
          11.155391372135565,
          11.190105831953248,
          11.224707029984886,
          11.259196067656225,
          11.29357402865636,
          11.327841979335053,
          11.362000969088662,
          11.396052030735117,
          11.429996180878277,
          11.46383442026208,
          11.497567734114787,
          11.531197092483696,
          11.564723450560614,
          11.598147748998421,
          11.631470914219017,
          11.664693858712923,
          11.697817481330821,
          11.73084266756731,
          11.763770289837103,
          11.79660120774393,
          11.82933626834237,
          11.861976306392853,
          11.894522144610022,
          11.926974593904701,
          11.959334453619629,
          11.99160251175919,
          12.023779545213307,
          12.055866319975678,
          12.08786359135654,
          12.119772104190117,
          12.15159259303692,
          12.183325782381054,
          12.214972386822666,
          12.246533111265718,
          12.278008651101167,
          12.309399692385755,
          12.340706912016461,
          12.37193097790083,
          12.403072549123202,
          12.43413227610705,
          12.465110800773475,
          12.496008756696005,
          12.526826769251771,
          12.557565455769204,
          12.588225425672302,
          12.61880728062162,
          12.649311614652015,
          12.679739014307277,
          12.710090058771717
         ]
        },
        {
         "mode": "markers+lines",
         "name": "vacancy",
         "type": "scatter",
         "x": [
          1,
          2,
          3,
          4,
          5,
          6,
          7,
          8,
          9,
          10,
          11,
          12,
          13,
          14,
          15,
          16,
          17,
          18,
          19,
          20,
          21,
          22,
          23,
          24,
          25,
          26,
          27,
          28,
          29,
          30,
          31,
          32,
          33,
          34,
          35,
          36,
          37,
          38,
          39,
          40,
          41,
          42,
          43,
          44,
          45,
          46,
          47,
          48,
          49,
          50,
          51,
          52,
          53,
          54,
          55,
          56,
          57,
          58,
          59,
          60,
          61,
          62,
          63,
          64,
          65,
          66,
          67,
          68,
          69,
          70,
          71,
          72,
          73,
          74,
          75,
          76,
          77,
          78,
          79,
          80,
          81,
          82,
          83,
          84,
          85,
          86,
          87,
          88,
          89,
          90,
          91,
          92,
          93,
          94,
          95,
          96,
          97,
          98,
          99,
          100,
          101,
          102,
          103,
          104,
          105,
          106,
          107,
          108,
          109,
          110,
          111,
          112,
          113,
          114,
          115,
          116,
          117,
          118,
          119,
          120,
          121,
          122,
          123,
          124,
          125,
          126,
          127,
          128,
          129,
          130,
          131,
          132,
          133,
          134,
          135,
          136,
          137,
          138,
          139,
          140,
          141,
          142,
          143,
          144,
          145,
          146,
          147,
          148,
          149,
          150,
          151,
          152,
          153,
          154,
          155,
          156,
          157,
          158,
          159,
          160,
          161,
          162,
          163,
          164,
          165,
          166,
          167,
          168,
          169,
          170,
          171,
          172,
          173,
          174,
          175,
          176,
          177,
          178,
          179,
          180,
          181,
          182,
          183,
          184,
          185,
          186,
          187,
          188,
          189,
          190,
          191,
          192,
          193,
          194,
          195,
          196,
          197,
          198,
          199,
          200
         ],
         "y": [
          1.4422495703074083,
          1.6982055302635117,
          1.8777526330797003,
          2.020689832058256,
          2.1413948494253416,
          2.2469050063440106,
          2.3412540078274837,
          2.4269945921501046,
          2.505856738230599,
          2.5790733843588223,
          2.6475578713301147,
          2.712007852038365,
          2.772969676883779,
          2.830880145043955,
          2.886094611469993,
          2.938906512062312,
          2.989561294621179,
          3.0382665899490107,
          3.085199788320491,
          3.130513783608663,
          3.174341396797482,
          3.216798830335046,
          3.257988399656365,
          3.2980007176946886,
          3.336916459949572,
          3.37480780405743,
          3.4117396139928013,
          3.4477704219017027,
          3.482953248082405,
          3.5173362904105807,
          3.550963507620098,
          3.5838751156517996,
          3.616108012317651,
          3.647696142475564,
          3.678670813540283,
          3.7090609693004457,
          3.7388934285485163,
          3.768193093867565,
          3.7969831349888996,
          3.825285150385971,
          3.8531193101637666,
          3.8805044828092137,
          3.9074583479638973,
          3.9339974970477027,
          3.9601375232869196,
          3.9858931024717372,
          4.0112780655773825,
          4.036305464223309,
          4.060987629810386,
          4.0853362270625215,
          4.109362302602852,
          4.133076329112821,
          4.15648824555255,
          4.179607493861111,
          4.202443052503925,
          4.225003467190255,
          4.247296879045532,
          4.2693310504901145,
          4.291113389047364,
          4.31265096927881,
          4.333950553022374,
          4.355018608090468,
          4.375861325567984,
          4.396484635835497,
          4.416894223429987,
          4.43709554084389,
          4.457093821353254,
          4.476894090956664,
          4.4965011794987095,
          4.515919731044672,
          4.535154213566745,
          4.554208927996486,
          4.573088016693186,
          4.591795471373262,
          4.610335140541785,
          4.628710736463605,
          4.646925841708228,
          4.664983915299713,
          4.682888298500158,
          4.7006422202529325,
          4.718248802309677,
          4.735711064063114,
          4.753031927105891,
          4.770214219534118,
          4.787260680012734,
          4.804173961618531,
          4.820956635475438,
          4.837611194195517,
          4.8541400551381795,
          4.87054556349911,
          4.886829995239619,
          4.902995559866296,
          4.9190444030701705,
          4.934978609233905,
          4.950800203814948,
          4.966511155612018,
          4.98211337892179,
          4.997608735592166,
          5.012999036978105,
          5.028286045805544,
          5.0434714779486445,
          5.05855700412517,
          5.073544251514544,
          5.088434805302846,
          5.103230210158674,
          5.117931971643641,
          5.132541557560952,
          5.147060399245344,
          5.161489892797459,
          5.1758314002655315,
          5.190086250777087,
          5.2042557416231965,
          5.218341139297703,
          5.232343680493637,
          5.24626457305896,
          5.260104996913659,
          5.273866104930013,
          5.287549023777876,
          5.301154854736609,
          5.314684674475272,
          5.32813953580254,
          5.341520468387788,
          5.354828479454666,
          5.368064554448424,
          5.381229657678194,
          5.394324732935356,
          5.407350704089058,
          5.420308475659912,
          5.433198933372822,
          5.446022944689881,
          5.45878135932416,
          5.471475009735265,
          5.484104711607403,
          5.496671264310718,
          5.5091754513466,
          5.521618040777646,
          5.533999785642887,
          5.546321424358922,
          5.558583681107502,
          5.57078726621015,
          5.582932876490309,
          5.595021195623543,
          5.60705289447624,
          5.619028631433309,
          5.630949052715259,
          5.6428147926851135,
          5.654626474145527,
          5.666384708626495,
          5.678090096664009,
          5.6897432280700055,
          5.7013446821939375,
          5.71289502817627,
          5.724394825194221,
          5.73584462270002,
          5.747244960651953,
          5.758596369738482,
          5.769899371595663,
          5.7811544790181095,
          5.792362196163756,
          5.803523018752614,
          5.814637434259735,
          5.825705922102609,
          5.836728953823155,
          5.847706993264538,
          5.858640496742934,
          5.869529913214478,
          5.8803756844374995,
          5.891178245130252,
          5.901938023124263,
          5.912655439513459,
          5.92333090879921,
          5.933964839031406,
          5.944557631945731,
          5.955109683097241,
          5.965621381990353,
          5.97609311220538,
          5.986525251521725,
          5.996918172037825,
          6.007272240287952,
          6.017587817355988,
          6.027865258986244,
          6.038104915691433,
          6.04830713285787,
          6.058472250848018,
          6.068600605100402,
          6.078692526227041,
          6.088748340108419,
          6.098768367986095,
          6.108752926553025,
          6.118702328041653,
          6.128616880309831,
          6.138496886924665,
          6.148342647244313,
          6.158154456497808,
          6.167932605862967,
          6.177677382542445,
          6.187389069837966,
          6.1970679472228145,
          6.206714290412609,
          6.216328371434432
         ]
        }
       ],
       "frames": [],
       "layout": {
        "margin": {
         "b": 50,
         "l": 50,
         "r": 50,
         "t": 60
        },
        "template": {
         "data": {
          "bar": [
           {
            "error_x": {
             "color": "#2a3f5f"
            },
            "error_y": {
             "color": "#2a3f5f"
            },
            "marker": {
             "line": {
              "color": "#E5ECF6",
              "width": 0.5
             }
            },
            "type": "bar"
           }
          ],
          "barpolar": [
           {
            "marker": {
             "line": {
              "color": "#E5ECF6",
              "width": 0.5
             }
            },
            "type": "barpolar"
           }
          ],
          "carpet": [
           {
            "aaxis": {
             "endlinecolor": "#2a3f5f",
             "gridcolor": "white",
             "linecolor": "white",
             "minorgridcolor": "white",
             "startlinecolor": "#2a3f5f"
            },
            "baxis": {
             "endlinecolor": "#2a3f5f",
             "gridcolor": "white",
             "linecolor": "white",
             "minorgridcolor": "white",
             "startlinecolor": "#2a3f5f"
            },
            "type": "carpet"
           }
          ],
          "choropleth": [
           {
            "colorbar": {
             "outlinewidth": 0,
             "ticks": ""
            },
            "type": "choropleth"
           }
          ],
          "contour": [
           {
            "colorbar": {
             "outlinewidth": 0,
             "ticks": ""
            },
            "colorscale": [
             [
              0,
              "#0d0887"
             ],
             [
              0.1111111111111111,
              "#46039f"
             ],
             [
              0.2222222222222222,
              "#7201a8"
             ],
             [
              0.3333333333333333,
              "#9c179e"
             ],
             [
              0.4444444444444444,
              "#bd3786"
             ],
             [
              0.5555555555555556,
              "#d8576b"
             ],
             [
              0.6666666666666666,
              "#ed7953"
             ],
             [
              0.7777777777777778,
              "#fb9f3a"
             ],
             [
              0.8888888888888888,
              "#fdca26"
             ],
             [
              1,
              "#f0f921"
             ]
            ],
            "type": "contour"
           }
          ],
          "contourcarpet": [
           {
            "colorbar": {
             "outlinewidth": 0,
             "ticks": ""
            },
            "type": "contourcarpet"
           }
          ],
          "heatmap": [
           {
            "colorbar": {
             "outlinewidth": 0,
             "ticks": ""
            },
            "colorscale": [
             [
              0,
              "#0d0887"
             ],
             [
              0.1111111111111111,
              "#46039f"
             ],
             [
              0.2222222222222222,
              "#7201a8"
             ],
             [
              0.3333333333333333,
              "#9c179e"
             ],
             [
              0.4444444444444444,
              "#bd3786"
             ],
             [
              0.5555555555555556,
              "#d8576b"
             ],
             [
              0.6666666666666666,
              "#ed7953"
             ],
             [
              0.7777777777777778,
              "#fb9f3a"
             ],
             [
              0.8888888888888888,
              "#fdca26"
             ],
             [
              1,
              "#f0f921"
             ]
            ],
            "type": "heatmap"
           }
          ],
          "heatmapgl": [
           {
            "colorbar": {
             "outlinewidth": 0,
             "ticks": ""
            },
            "colorscale": [
             [
              0,
              "#0d0887"
             ],
             [
              0.1111111111111111,
              "#46039f"
             ],
             [
              0.2222222222222222,
              "#7201a8"
             ],
             [
              0.3333333333333333,
              "#9c179e"
             ],
             [
              0.4444444444444444,
              "#bd3786"
             ],
             [
              0.5555555555555556,
              "#d8576b"
             ],
             [
              0.6666666666666666,
              "#ed7953"
             ],
             [
              0.7777777777777778,
              "#fb9f3a"
             ],
             [
              0.8888888888888888,
              "#fdca26"
             ],
             [
              1,
              "#f0f921"
             ]
            ],
            "type": "heatmapgl"
           }
          ],
          "histogram": [
           {
            "marker": {
             "colorbar": {
              "outlinewidth": 0,
              "ticks": ""
             }
            },
            "type": "histogram"
           }
          ],
          "histogram2d": [
           {
            "colorbar": {
             "outlinewidth": 0,
             "ticks": ""
            },
            "colorscale": [
             [
              0,
              "#0d0887"
             ],
             [
              0.1111111111111111,
              "#46039f"
             ],
             [
              0.2222222222222222,
              "#7201a8"
             ],
             [
              0.3333333333333333,
              "#9c179e"
             ],
             [
              0.4444444444444444,
              "#bd3786"
             ],
             [
              0.5555555555555556,
              "#d8576b"
             ],
             [
              0.6666666666666666,
              "#ed7953"
             ],
             [
              0.7777777777777778,
              "#fb9f3a"
             ],
             [
              0.8888888888888888,
              "#fdca26"
             ],
             [
              1,
              "#f0f921"
             ]
            ],
            "type": "histogram2d"
           }
          ],
          "histogram2dcontour": [
           {
            "colorbar": {
             "outlinewidth": 0,
             "ticks": ""
            },
            "colorscale": [
             [
              0,
              "#0d0887"
             ],
             [
              0.1111111111111111,
              "#46039f"
             ],
             [
              0.2222222222222222,
              "#7201a8"
             ],
             [
              0.3333333333333333,
              "#9c179e"
             ],
             [
              0.4444444444444444,
              "#bd3786"
             ],
             [
              0.5555555555555556,
              "#d8576b"
             ],
             [
              0.6666666666666666,
              "#ed7953"
             ],
             [
              0.7777777777777778,
              "#fb9f3a"
             ],
             [
              0.8888888888888888,
              "#fdca26"
             ],
             [
              1,
              "#f0f921"
             ]
            ],
            "type": "histogram2dcontour"
           }
          ],
          "mesh3d": [
           {
            "colorbar": {
             "outlinewidth": 0,
             "ticks": ""
            },
            "type": "mesh3d"
           }
          ],
          "parcoords": [
           {
            "line": {
             "colorbar": {
              "outlinewidth": 0,
              "ticks": ""
             }
            },
            "type": "parcoords"
           }
          ],
          "pie": [
           {
            "automargin": true,
            "type": "pie"
           }
          ],
          "scatter": [
           {
            "marker": {
             "colorbar": {
              "outlinewidth": 0,
              "ticks": ""
             }
            },
            "type": "scatter"
           }
          ],
          "scatter3d": [
           {
            "line": {
             "colorbar": {
              "outlinewidth": 0,
              "ticks": ""
             }
            },
            "marker": {
             "colorbar": {
              "outlinewidth": 0,
              "ticks": ""
             }
            },
            "type": "scatter3d"
           }
          ],
          "scattercarpet": [
           {
            "marker": {
             "colorbar": {
              "outlinewidth": 0,
              "ticks": ""
             }
            },
            "type": "scattercarpet"
           }
          ],
          "scattergeo": [
           {
            "marker": {
             "colorbar": {
              "outlinewidth": 0,
              "ticks": ""
             }
            },
            "type": "scattergeo"
           }
          ],
          "scattergl": [
           {
            "marker": {
             "colorbar": {
              "outlinewidth": 0,
              "ticks": ""
             }
            },
            "type": "scattergl"
           }
          ],
          "scattermapbox": [
           {
            "marker": {
             "colorbar": {
              "outlinewidth": 0,
              "ticks": ""
             }
            },
            "type": "scattermapbox"
           }
          ],
          "scatterpolar": [
           {
            "marker": {
             "colorbar": {
              "outlinewidth": 0,
              "ticks": ""
             }
            },
            "type": "scatterpolar"
           }
          ],
          "scatterpolargl": [
           {
            "marker": {
             "colorbar": {
              "outlinewidth": 0,
              "ticks": ""
             }
            },
            "type": "scatterpolargl"
           }
          ],
          "scatterternary": [
           {
            "marker": {
             "colorbar": {
              "outlinewidth": 0,
              "ticks": ""
             }
            },
            "type": "scatterternary"
           }
          ],
          "surface": [
           {
            "colorbar": {
             "outlinewidth": 0,
             "ticks": ""
            },
            "colorscale": [
             [
              0,
              "#0d0887"
             ],
             [
              0.1111111111111111,
              "#46039f"
             ],
             [
              0.2222222222222222,
              "#7201a8"
             ],
             [
              0.3333333333333333,
              "#9c179e"
             ],
             [
              0.4444444444444444,
              "#bd3786"
             ],
             [
              0.5555555555555556,
              "#d8576b"
             ],
             [
              0.6666666666666666,
              "#ed7953"
             ],
             [
              0.7777777777777778,
              "#fb9f3a"
             ],
             [
              0.8888888888888888,
              "#fdca26"
             ],
             [
              1,
              "#f0f921"
             ]
            ],
            "type": "surface"
           }
          ],
          "table": [
           {
            "cells": {
             "fill": {
              "color": "#EBF0F8"
             },
             "line": {
              "color": "white"
             }
            },
            "header": {
             "fill": {
              "color": "#C8D4E3"
             },
             "line": {
              "color": "white"
             }
            },
            "type": "table"
           }
          ]
         },
         "layout": {
          "annotationdefaults": {
           "arrowcolor": "#2a3f5f",
           "arrowhead": 0,
           "arrowwidth": 1
          },
          "autotypenumbers": "strict",
          "coloraxis": {
           "colorbar": {
            "outlinewidth": 0,
            "ticks": ""
           }
          },
          "colorscale": {
           "diverging": [
            [
             0,
             "#8e0152"
            ],
            [
             0.1,
             "#c51b7d"
            ],
            [
             0.2,
             "#de77ae"
            ],
            [
             0.3,
             "#f1b6da"
            ],
            [
             0.4,
             "#fde0ef"
            ],
            [
             0.5,
             "#f7f7f7"
            ],
            [
             0.6,
             "#e6f5d0"
            ],
            [
             0.7,
             "#b8e186"
            ],
            [
             0.8,
             "#7fbc41"
            ],
            [
             0.9,
             "#4d9221"
            ],
            [
             1,
             "#276419"
            ]
           ],
           "sequential": [
            [
             0,
             "#0d0887"
            ],
            [
             0.1111111111111111,
             "#46039f"
            ],
            [
             0.2222222222222222,
             "#7201a8"
            ],
            [
             0.3333333333333333,
             "#9c179e"
            ],
            [
             0.4444444444444444,
             "#bd3786"
            ],
            [
             0.5555555555555556,
             "#d8576b"
            ],
            [
             0.6666666666666666,
             "#ed7953"
            ],
            [
             0.7777777777777778,
             "#fb9f3a"
            ],
            [
             0.8888888888888888,
             "#fdca26"
            ],
            [
             1,
             "#f0f921"
            ]
           ],
           "sequentialminus": [
            [
             0,
             "#0d0887"
            ],
            [
             0.1111111111111111,
             "#46039f"
            ],
            [
             0.2222222222222222,
             "#7201a8"
            ],
            [
             0.3333333333333333,
             "#9c179e"
            ],
            [
             0.4444444444444444,
             "#bd3786"
            ],
            [
             0.5555555555555556,
             "#d8576b"
            ],
            [
             0.6666666666666666,
             "#ed7953"
            ],
            [
             0.7777777777777778,
             "#fb9f3a"
            ],
            [
             0.8888888888888888,
             "#fdca26"
            ],
            [
             1,
             "#f0f921"
            ]
           ]
          },
          "colorway": [
           "#636efa",
           "#EF553B",
           "#00cc96",
           "#ab63fa",
           "#FFA15A",
           "#19d3f3",
           "#FF6692",
           "#B6E880",
           "#FF97FF",
           "#FECB52"
          ],
          "font": {
           "color": "#2a3f5f"
          },
          "geo": {
           "bgcolor": "white",
           "lakecolor": "white",
           "landcolor": "#E5ECF6",
           "showlakes": true,
           "showland": true,
           "subunitcolor": "white"
          },
          "hoverlabel": {
           "align": "left"
          },
          "hovermode": "closest",
          "mapbox": {
           "style": "light"
          },
          "paper_bgcolor": "white",
          "plot_bgcolor": "#E5ECF6",
          "polar": {
           "angularaxis": {
            "gridcolor": "white",
            "linecolor": "white",
            "ticks": ""
           },
           "bgcolor": "#E5ECF6",
           "radialaxis": {
            "gridcolor": "white",
            "linecolor": "white",
            "ticks": ""
           }
          },
          "scene": {
           "xaxis": {
            "backgroundcolor": "#E5ECF6",
            "gridcolor": "white",
            "gridwidth": 2,
            "linecolor": "white",
            "showbackground": true,
            "ticks": "",
            "zerolinecolor": "white"
           },
           "yaxis": {
            "backgroundcolor": "#E5ECF6",
            "gridcolor": "white",
            "gridwidth": 2,
            "linecolor": "white",
            "showbackground": true,
            "ticks": "",
            "zerolinecolor": "white"
           },
           "zaxis": {
            "backgroundcolor": "#E5ECF6",
            "gridcolor": "white",
            "gridwidth": 2,
            "linecolor": "white",
            "showbackground": true,
            "ticks": "",
            "zerolinecolor": "white"
           }
          },
          "shapedefaults": {
           "line": {
            "color": "#2a3f5f"
           }
          },
          "ternary": {
           "aaxis": {
            "gridcolor": "white",
            "linecolor": "white",
            "ticks": ""
           },
           "baxis": {
            "gridcolor": "white",
            "linecolor": "white",
            "ticks": ""
           },
           "bgcolor": "#E5ECF6",
           "caxis": {
            "gridcolor": "white",
            "linecolor": "white",
            "ticks": ""
           }
          },
          "title": {
           "x": 0.05
          },
          "xaxis": {
           "automargin": true,
           "gridcolor": "white",
           "linecolor": "white",
           "ticks": "",
           "title": {
            "standoff": 15
           },
           "zerolinecolor": "white",
           "zerolinewidth": 2
          },
          "yaxis": {
           "automargin": true,
           "gridcolor": "white",
           "linecolor": "white",
           "ticks": "",
           "title": {
            "standoff": 15
           },
           "zerolinecolor": "white",
           "zerolinewidth": 2
          }
         }
        },
        "xaxis": {
         "title": {
          "text": "Content number"
         }
        },
        "yaxis": {
         "title": {
          "text": "Radius (half of a lattice constant)"
         }
        }
       }
      },
      "text/html": [
       "<div\n",
       "    class=\"webio-mountpoint\"\n",
       "    data-webio-mountpoint=\"3587681574605961460\"\n",
       ">\n",
       "    <script>\n",
       "    (function(){\n",
       "    // Some integrations (namely, IJulia/Jupyter) use an alternate render pathway than\n",
       "    // just putting the html on the page. If WebIO isn't defined, then it's pretty likely\n",
       "    // that we're in one of those situations and the integration just isn't installed\n",
       "    // correctly.\n",
       "    if (typeof window.WebIO === \"undefined\") {\n",
       "        document\n",
       "            .querySelector('[data-webio-mountpoint=\"3587681574605961460\"]')\n",
       "            .innerHTML = (\n",
       "                '<div style=\"padding: 1em; background-color: #f8d6da; border: 1px solid #f5c6cb; font-weight: bold;\">' +\n",
       "                '<p><strong>WebIO not detected.</strong></p>' +\n",
       "                '<p>Please read ' +\n",
       "                '<a href=\"https://juliagizmos.github.io/WebIO.jl/latest/troubleshooting/not-detected/\" target=\"_blank\">the troubleshooting guide</a> ' +\n",
       "                'for more information on how to resolve this issue.</p>' +\n",
       "                '<p><a href=\"https://juliagizmos.github.io/WebIO.jl/latest/troubleshooting/not-detected/\" target=\"_blank\">https://juliagizmos.github.io/WebIO.jl/latest/troubleshooting/not-detected/</a></p>' +\n",
       "                '</div>'\n",
       "            );\n",
       "        return;\n",
       "    }\n",
       "    WebIO.mount(\n",
       "        document.querySelector('[data-webio-mountpoint=\"3587681574605961460\"]'),\n",
       "        {\"props\":{},\"nodeType\":\"Scope\",\"type\":\"node\",\"instanceArgs\":{\"imports\":{\"data\":[{\"name\":\"Plotly\",\"type\":\"js\",\"url\":\"\\/assetserver\\/4176b01933e6ee17b869a9de1c377f69824e56b6-plotly.min.js\"},{\"name\":null,\"type\":\"js\",\"url\":\"\\/assetserver\\/efcb236a7dd21b9052e6ddb3595839100983e917-plotly_webio.bundle.js\"}],\"type\":\"async_block\"},\"id\":\"17553313885563731772\",\"handlers\":{\"_toImage\":[\"(function (options){return this.Plotly.toImage(this.plotElem,options).then((function (data){return WebIO.setval({\\\"name\\\":\\\"image\\\",\\\"scope\\\":\\\"17553313885563731772\\\",\\\"id\\\":\\\"8582959160136587393\\\",\\\"type\\\":\\\"observable\\\"},data)}))})\"],\"__get_gd_contents\":[\"(function (prop){prop==\\\"data\\\" ? (WebIO.setval({\\\"name\\\":\\\"__gd_contents\\\",\\\"scope\\\":\\\"17553313885563731772\\\",\\\"id\\\":\\\"9154510863871079855\\\",\\\"type\\\":\\\"observable\\\"},this.plotElem.data)) : undefined; return prop==\\\"layout\\\" ? (WebIO.setval({\\\"name\\\":\\\"__gd_contents\\\",\\\"scope\\\":\\\"17553313885563731772\\\",\\\"id\\\":\\\"9154510863871079855\\\",\\\"type\\\":\\\"observable\\\"},this.plotElem.layout)) : undefined})\"],\"_downloadImage\":[\"(function (options){return this.Plotly.downloadImage(this.plotElem,options)})\"],\"_commands\":[\"(function (args){var fn=args.shift(); var elem=this.plotElem; var Plotly=this.Plotly; args.unshift(elem); return Plotly[fn].apply(this,args)})\"]},\"systemjs_options\":null,\"mount_callbacks\":[\"function () {\\n    var handler = ((function (Plotly,PlotlyWebIO){PlotlyWebIO.init(WebIO); var gd=this.dom.querySelector(\\\"#plot-93ee1ad7-d931-4b43-ba25-1d5c880124b0\\\"); this.plotElem=gd; this.Plotly=Plotly; (window.Blink!==undefined) ? (gd.style.width=\\\"100%\\\", gd.style.height=\\\"100vh\\\", gd.style.marginLeft=\\\"0%\\\", gd.style.marginTop=\\\"0vh\\\") : undefined; window.onresize=(function (){return Plotly.Plots.resize(gd)}); Plotly.newPlot(gd,[{\\\"mode\\\":\\\"markers+lines\\\",\\\"y\\\":[1.4422495703074083,1.7973891368593466,2.069897310773799,2.2996323284124003,2.5020329420614367,2.6850170838197442,2.8532883685428736,3.0099114615162765,3.157015086517392,3.2961491543713812,3.4284837225567193,3.554927809345181,3.676204309248703,3.792899342358574,3.905495955668432,4.014397844622383,4.119946485452694,4.222433786173207,4.322111610716254,4.419199071920458,4.5138882007685535,4.606348413018949,4.69673007106714,4.785167355437073,4.871780602727375,4.956678226397772,5.039958307916564,5.12170992488333,5.202014267393334,5.28094558250341,5.358571978084303,5.434956110830138,5.5101557781981025,5.584224430182408,5.657211613805547,5.729163360832366,5.800122527327202,5.870129092168991,5.939220420429388,6.007431496540347,6.074795131381515,6.141342146766618,6.207101540272394,6.272100632911023,6.336365201779477,6.3999195995125415,6.462786862109439,6.524988806487945,6.58654611893736,6.647478435487066,6.707804415075882,6.7675418062949895,6.826707508381174,6.885317627054402,6.943387525722564,7.000931872514732,7.057964683550894,7.114499362809834,7.170548738916434,7.226125099134448,7.281240220819882,7.335905400563085,7.390131481223786,7.443928877042351,7.497307596991968,7.550277266520073,7.602847147812756,7.655026158702972,7.706822890331857,7.75824562366223,7.809302344934114,7.860000760143997,7.910348308622142,7.960352175775684,8.010019305059329,8.059356409230091,8.108369980937754,8.157066302698318,8.205451456293847,8.253531331638499,8.301311635147343,8.348797897641628,8.395995481821487,8.442909589334691,8.489545267467783,8.535907415483987,8.582000790630431,8.627830013835483,8.67339957511556,8.718713838709313,8.763777047955758,8.808593329931863,8.85316669986386,8.897501065325669,8.941600230236864,8.985467898671729,9.029107678490227,9.072523084800928,9.115717543265326,9.158694393252334,9.201456890851164,9.24400821175028,9.28635145398967,9.328489640593128,9.370425722086916,9.412162578910737,9.453703023726584,9.495049803630712,9.536205602273643,9.577173041892857,9.617954685262506,9.658553037564245,9.69897054818308,9.739209612431846,9.779272573207754,9.819161722584251,9.858879303341276,9.898427510436756,9.937808492422123,9.977024352804403,10.016077151357328,10.054968905383788,10.093701590931824,10.13227714396619,10.170697461497518,10.20896440267089,10.24707978981561,10.285045409457858,10.322863013297807,10.360534319152721,10.398061011867464,10.43544474419379,10.472687137639724,10.509789783290246,10.546754242600462,10.5835820481624,10.62027470444646,10.656833688518569,10.693260450733986,10.729556415408679,10.765722981469171,10.80176152308168,10.837673390261342,10.873459909462317,10.909122384149473,10.944662095352347,10.980080302202094,11.01537824245199,11.050557132982155,11.085618170289058,11.120562530960346,11.155391372135565,11.190105831953248,11.224707029984886,11.259196067656225,11.29357402865636,11.327841979335053,11.362000969088662,11.396052030735117,11.429996180878277,11.46383442026208,11.497567734114787,11.531197092483696,11.564723450560614,11.598147748998421,11.631470914219017,11.664693858712923,11.697817481330821,11.73084266756731,11.763770289837103,11.79660120774393,11.82933626834237,11.861976306392853,11.894522144610022,11.926974593904701,11.959334453619629,11.99160251175919,12.023779545213307,12.055866319975678,12.08786359135654,12.119772104190117,12.15159259303692,12.183325782381054,12.214972386822666,12.246533111265718,12.278008651101167,12.309399692385755,12.340706912016461,12.37193097790083,12.403072549123202,12.43413227610705,12.465110800773475,12.496008756696005,12.526826769251771,12.557565455769204,12.588225425672302,12.61880728062162,12.649311614652015,12.679739014307277,12.710090058771717],\\\"type\\\":\\\"scatter\\\",\\\"name\\\":\\\"SIA\\\",\\\"x\\\":[1,2,3,4,5,6,7,8,9,10,11,12,13,14,15,16,17,18,19,20,21,22,23,24,25,26,27,28,29,30,31,32,33,34,35,36,37,38,39,40,41,42,43,44,45,46,47,48,49,50,51,52,53,54,55,56,57,58,59,60,61,62,63,64,65,66,67,68,69,70,71,72,73,74,75,76,77,78,79,80,81,82,83,84,85,86,87,88,89,90,91,92,93,94,95,96,97,98,99,100,101,102,103,104,105,106,107,108,109,110,111,112,113,114,115,116,117,118,119,120,121,122,123,124,125,126,127,128,129,130,131,132,133,134,135,136,137,138,139,140,141,142,143,144,145,146,147,148,149,150,151,152,153,154,155,156,157,158,159,160,161,162,163,164,165,166,167,168,169,170,171,172,173,174,175,176,177,178,179,180,181,182,183,184,185,186,187,188,189,190,191,192,193,194,195,196,197,198,199,200]},{\\\"mode\\\":\\\"markers+lines\\\",\\\"y\\\":[1.4422495703074083,1.6982055302635117,1.8777526330797003,2.020689832058256,2.1413948494253416,2.2469050063440106,2.3412540078274837,2.4269945921501046,2.505856738230599,2.5790733843588223,2.6475578713301147,2.712007852038365,2.772969676883779,2.830880145043955,2.886094611469993,2.938906512062312,2.989561294621179,3.0382665899490107,3.085199788320491,3.130513783608663,3.174341396797482,3.216798830335046,3.257988399656365,3.2980007176946886,3.336916459949572,3.37480780405743,3.4117396139928013,3.4477704219017027,3.482953248082405,3.5173362904105807,3.550963507620098,3.5838751156517996,3.616108012317651,3.647696142475564,3.678670813540283,3.7090609693004457,3.7388934285485163,3.768193093867565,3.7969831349888996,3.825285150385971,3.8531193101637666,3.8805044828092137,3.9074583479638973,3.9339974970477027,3.9601375232869196,3.9858931024717372,4.0112780655773825,4.036305464223309,4.060987629810386,4.0853362270625215,4.109362302602852,4.133076329112821,4.15648824555255,4.179607493861111,4.202443052503925,4.225003467190255,4.247296879045532,4.2693310504901145,4.291113389047364,4.31265096927881,4.333950553022374,4.355018608090468,4.375861325567984,4.396484635835497,4.416894223429987,4.43709554084389,4.457093821353254,4.476894090956664,4.4965011794987095,4.515919731044672,4.535154213566745,4.554208927996486,4.573088016693186,4.591795471373262,4.610335140541785,4.628710736463605,4.646925841708228,4.664983915299713,4.682888298500158,4.7006422202529325,4.718248802309677,4.735711064063114,4.753031927105891,4.770214219534118,4.787260680012734,4.804173961618531,4.820956635475438,4.837611194195517,4.8541400551381795,4.87054556349911,4.886829995239619,4.902995559866296,4.9190444030701705,4.934978609233905,4.950800203814948,4.966511155612018,4.98211337892179,4.997608735592166,5.012999036978105,5.028286045805544,5.0434714779486445,5.05855700412517,5.073544251514544,5.088434805302846,5.103230210158674,5.117931971643641,5.132541557560952,5.147060399245344,5.161489892797459,5.1758314002655315,5.190086250777087,5.2042557416231965,5.218341139297703,5.232343680493637,5.24626457305896,5.260104996913659,5.273866104930013,5.287549023777876,5.301154854736609,5.314684674475272,5.32813953580254,5.341520468387788,5.354828479454666,5.368064554448424,5.381229657678194,5.394324732935356,5.407350704089058,5.420308475659912,5.433198933372822,5.446022944689881,5.45878135932416,5.471475009735265,5.484104711607403,5.496671264310718,5.5091754513466,5.521618040777646,5.533999785642887,5.546321424358922,5.558583681107502,5.57078726621015,5.582932876490309,5.595021195623543,5.60705289447624,5.619028631433309,5.630949052715259,5.6428147926851135,5.654626474145527,5.666384708626495,5.678090096664009,5.6897432280700055,5.7013446821939375,5.71289502817627,5.724394825194221,5.73584462270002,5.747244960651953,5.758596369738482,5.769899371595663,5.7811544790181095,5.792362196163756,5.803523018752614,5.814637434259735,5.825705922102609,5.836728953823155,5.847706993264538,5.858640496742934,5.869529913214478,5.8803756844374995,5.891178245130252,5.901938023124263,5.912655439513459,5.92333090879921,5.933964839031406,5.944557631945731,5.955109683097241,5.965621381990353,5.97609311220538,5.986525251521725,5.996918172037825,6.007272240287952,6.017587817355988,6.027865258986244,6.038104915691433,6.04830713285787,6.058472250848018,6.068600605100402,6.078692526227041,6.088748340108419,6.098768367986095,6.108752926553025,6.118702328041653,6.128616880309831,6.138496886924665,6.148342647244313,6.158154456497808,6.167932605862967,6.177677382542445,6.187389069837966,6.1970679472228145,6.206714290412609,6.216328371434432],\\\"type\\\":\\\"scatter\\\",\\\"name\\\":\\\"vacancy\\\",\\\"x\\\":[1,2,3,4,5,6,7,8,9,10,11,12,13,14,15,16,17,18,19,20,21,22,23,24,25,26,27,28,29,30,31,32,33,34,35,36,37,38,39,40,41,42,43,44,45,46,47,48,49,50,51,52,53,54,55,56,57,58,59,60,61,62,63,64,65,66,67,68,69,70,71,72,73,74,75,76,77,78,79,80,81,82,83,84,85,86,87,88,89,90,91,92,93,94,95,96,97,98,99,100,101,102,103,104,105,106,107,108,109,110,111,112,113,114,115,116,117,118,119,120,121,122,123,124,125,126,127,128,129,130,131,132,133,134,135,136,137,138,139,140,141,142,143,144,145,146,147,148,149,150,151,152,153,154,155,156,157,158,159,160,161,162,163,164,165,166,167,168,169,170,171,172,173,174,175,176,177,178,179,180,181,182,183,184,185,186,187,188,189,190,191,192,193,194,195,196,197,198,199,200]}],{\\\"xaxis\\\":{\\\"title\\\":{\\\"text\\\":\\\"Content number\\\"}},\\\"template\\\":{\\\"layout\\\":{\\\"coloraxis\\\":{\\\"colorbar\\\":{\\\"ticks\\\":\\\"\\\",\\\"outlinewidth\\\":0}},\\\"xaxis\\\":{\\\"gridcolor\\\":\\\"white\\\",\\\"zerolinewidth\\\":2,\\\"title\\\":{\\\"standoff\\\":15},\\\"ticks\\\":\\\"\\\",\\\"zerolinecolor\\\":\\\"white\\\",\\\"automargin\\\":true,\\\"linecolor\\\":\\\"white\\\"},\\\"hovermode\\\":\\\"closest\\\",\\\"paper_bgcolor\\\":\\\"white\\\",\\\"geo\\\":{\\\"showlakes\\\":true,\\\"showland\\\":true,\\\"landcolor\\\":\\\"#E5ECF6\\\",\\\"bgcolor\\\":\\\"white\\\",\\\"subunitcolor\\\":\\\"white\\\",\\\"lakecolor\\\":\\\"white\\\"},\\\"colorscale\\\":{\\\"sequential\\\":[[0.0,\\\"#0d0887\\\"],[0.1111111111111111,\\\"#46039f\\\"],[0.2222222222222222,\\\"#7201a8\\\"],[0.3333333333333333,\\\"#9c179e\\\"],[0.4444444444444444,\\\"#bd3786\\\"],[0.5555555555555556,\\\"#d8576b\\\"],[0.6666666666666666,\\\"#ed7953\\\"],[0.7777777777777778,\\\"#fb9f3a\\\"],[0.8888888888888888,\\\"#fdca26\\\"],[1.0,\\\"#f0f921\\\"]],\\\"diverging\\\":[[0,\\\"#8e0152\\\"],[0.1,\\\"#c51b7d\\\"],[0.2,\\\"#de77ae\\\"],[0.3,\\\"#f1b6da\\\"],[0.4,\\\"#fde0ef\\\"],[0.5,\\\"#f7f7f7\\\"],[0.6,\\\"#e6f5d0\\\"],[0.7,\\\"#b8e186\\\"],[0.8,\\\"#7fbc41\\\"],[0.9,\\\"#4d9221\\\"],[1,\\\"#276419\\\"]],\\\"sequentialminus\\\":[[0.0,\\\"#0d0887\\\"],[0.1111111111111111,\\\"#46039f\\\"],[0.2222222222222222,\\\"#7201a8\\\"],[0.3333333333333333,\\\"#9c179e\\\"],[0.4444444444444444,\\\"#bd3786\\\"],[0.5555555555555556,\\\"#d8576b\\\"],[0.6666666666666666,\\\"#ed7953\\\"],[0.7777777777777778,\\\"#fb9f3a\\\"],[0.8888888888888888,\\\"#fdca26\\\"],[1.0,\\\"#f0f921\\\"]]},\\\"yaxis\\\":{\\\"gridcolor\\\":\\\"white\\\",\\\"zerolinewidth\\\":2,\\\"title\\\":{\\\"standoff\\\":15},\\\"ticks\\\":\\\"\\\",\\\"zerolinecolor\\\":\\\"white\\\",\\\"automargin\\\":true,\\\"linecolor\\\":\\\"white\\\"},\\\"shapedefaults\\\":{\\\"line\\\":{\\\"color\\\":\\\"#2a3f5f\\\"}},\\\"hoverlabel\\\":{\\\"align\\\":\\\"left\\\"},\\\"mapbox\\\":{\\\"style\\\":\\\"light\\\"},\\\"polar\\\":{\\\"angularaxis\\\":{\\\"gridcolor\\\":\\\"white\\\",\\\"ticks\\\":\\\"\\\",\\\"linecolor\\\":\\\"white\\\"},\\\"bgcolor\\\":\\\"#E5ECF6\\\",\\\"radialaxis\\\":{\\\"gridcolor\\\":\\\"white\\\",\\\"ticks\\\":\\\"\\\",\\\"linecolor\\\":\\\"white\\\"}},\\\"autotypenumbers\\\":\\\"strict\\\",\\\"font\\\":{\\\"color\\\":\\\"#2a3f5f\\\"},\\\"ternary\\\":{\\\"baxis\\\":{\\\"gridcolor\\\":\\\"white\\\",\\\"ticks\\\":\\\"\\\",\\\"linecolor\\\":\\\"white\\\"},\\\"bgcolor\\\":\\\"#E5ECF6\\\",\\\"caxis\\\":{\\\"gridcolor\\\":\\\"white\\\",\\\"ticks\\\":\\\"\\\",\\\"linecolor\\\":\\\"white\\\"},\\\"aaxis\\\":{\\\"gridcolor\\\":\\\"white\\\",\\\"ticks\\\":\\\"\\\",\\\"linecolor\\\":\\\"white\\\"}},\\\"annotationdefaults\\\":{\\\"arrowhead\\\":0,\\\"arrowwidth\\\":1,\\\"arrowcolor\\\":\\\"#2a3f5f\\\"},\\\"plot_bgcolor\\\":\\\"#E5ECF6\\\",\\\"title\\\":{\\\"x\\\":0.05},\\\"scene\\\":{\\\"xaxis\\\":{\\\"gridcolor\\\":\\\"white\\\",\\\"gridwidth\\\":2,\\\"backgroundcolor\\\":\\\"#E5ECF6\\\",\\\"ticks\\\":\\\"\\\",\\\"showbackground\\\":true,\\\"zerolinecolor\\\":\\\"white\\\",\\\"linecolor\\\":\\\"white\\\"},\\\"zaxis\\\":{\\\"gridcolor\\\":\\\"white\\\",\\\"gridwidth\\\":2,\\\"backgroundcolor\\\":\\\"#E5ECF6\\\",\\\"ticks\\\":\\\"\\\",\\\"showbackground\\\":true,\\\"zerolinecolor\\\":\\\"white\\\",\\\"linecolor\\\":\\\"white\\\"},\\\"yaxis\\\":{\\\"gridcolor\\\":\\\"white\\\",\\\"gridwidth\\\":2,\\\"backgroundcolor\\\":\\\"#E5ECF6\\\",\\\"ticks\\\":\\\"\\\",\\\"showbackground\\\":true,\\\"zerolinecolor\\\":\\\"white\\\",\\\"linecolor\\\":\\\"white\\\"}},\\\"colorway\\\":[\\\"#636efa\\\",\\\"#EF553B\\\",\\\"#00cc96\\\",\\\"#ab63fa\\\",\\\"#FFA15A\\\",\\\"#19d3f3\\\",\\\"#FF6692\\\",\\\"#B6E880\\\",\\\"#FF97FF\\\",\\\"#FECB52\\\"]},\\\"data\\\":{\\\"barpolar\\\":[{\\\"type\\\":\\\"barpolar\\\",\\\"marker\\\":{\\\"line\\\":{\\\"color\\\":\\\"#E5ECF6\\\",\\\"width\\\":0.5}}}],\\\"carpet\\\":[{\\\"aaxis\\\":{\\\"gridcolor\\\":\\\"white\\\",\\\"endlinecolor\\\":\\\"#2a3f5f\\\",\\\"minorgridcolor\\\":\\\"white\\\",\\\"startlinecolor\\\":\\\"#2a3f5f\\\",\\\"linecolor\\\":\\\"white\\\"},\\\"type\\\":\\\"carpet\\\",\\\"baxis\\\":{\\\"gridcolor\\\":\\\"white\\\",\\\"endlinecolor\\\":\\\"#2a3f5f\\\",\\\"minorgridcolor\\\":\\\"white\\\",\\\"startlinecolor\\\":\\\"#2a3f5f\\\",\\\"linecolor\\\":\\\"white\\\"}}],\\\"scatterpolar\\\":[{\\\"type\\\":\\\"scatterpolar\\\",\\\"marker\\\":{\\\"colorbar\\\":{\\\"ticks\\\":\\\"\\\",\\\"outlinewidth\\\":0}}}],\\\"parcoords\\\":[{\\\"line\\\":{\\\"colorbar\\\":{\\\"ticks\\\":\\\"\\\",\\\"outlinewidth\\\":0}},\\\"type\\\":\\\"parcoords\\\"}],\\\"scatter\\\":[{\\\"type\\\":\\\"scatter\\\",\\\"marker\\\":{\\\"colorbar\\\":{\\\"ticks\\\":\\\"\\\",\\\"outlinewidth\\\":0}}}],\\\"histogram2dcontour\\\":[{\\\"colorbar\\\":{\\\"ticks\\\":\\\"\\\",\\\"outlinewidth\\\":0},\\\"type\\\":\\\"histogram2dcontour\\\",\\\"colorscale\\\":[[0.0,\\\"#0d0887\\\"],[0.1111111111111111,\\\"#46039f\\\"],[0.2222222222222222,\\\"#7201a8\\\"],[0.3333333333333333,\\\"#9c179e\\\"],[0.4444444444444444,\\\"#bd3786\\\"],[0.5555555555555556,\\\"#d8576b\\\"],[0.6666666666666666,\\\"#ed7953\\\"],[0.7777777777777778,\\\"#fb9f3a\\\"],[0.8888888888888888,\\\"#fdca26\\\"],[1.0,\\\"#f0f921\\\"]]}],\\\"contour\\\":[{\\\"colorbar\\\":{\\\"ticks\\\":\\\"\\\",\\\"outlinewidth\\\":0},\\\"type\\\":\\\"contour\\\",\\\"colorscale\\\":[[0.0,\\\"#0d0887\\\"],[0.1111111111111111,\\\"#46039f\\\"],[0.2222222222222222,\\\"#7201a8\\\"],[0.3333333333333333,\\\"#9c179e\\\"],[0.4444444444444444,\\\"#bd3786\\\"],[0.5555555555555556,\\\"#d8576b\\\"],[0.6666666666666666,\\\"#ed7953\\\"],[0.7777777777777778,\\\"#fb9f3a\\\"],[0.8888888888888888,\\\"#fdca26\\\"],[1.0,\\\"#f0f921\\\"]]}],\\\"scattercarpet\\\":[{\\\"type\\\":\\\"scattercarpet\\\",\\\"marker\\\":{\\\"colorbar\\\":{\\\"ticks\\\":\\\"\\\",\\\"outlinewidth\\\":0}}}],\\\"mesh3d\\\":[{\\\"colorbar\\\":{\\\"ticks\\\":\\\"\\\",\\\"outlinewidth\\\":0},\\\"type\\\":\\\"mesh3d\\\"}],\\\"surface\\\":[{\\\"colorbar\\\":{\\\"ticks\\\":\\\"\\\",\\\"outlinewidth\\\":0},\\\"type\\\":\\\"surface\\\",\\\"colorscale\\\":[[0.0,\\\"#0d0887\\\"],[0.1111111111111111,\\\"#46039f\\\"],[0.2222222222222222,\\\"#7201a8\\\"],[0.3333333333333333,\\\"#9c179e\\\"],[0.4444444444444444,\\\"#bd3786\\\"],[0.5555555555555556,\\\"#d8576b\\\"],[0.6666666666666666,\\\"#ed7953\\\"],[0.7777777777777778,\\\"#fb9f3a\\\"],[0.8888888888888888,\\\"#fdca26\\\"],[1.0,\\\"#f0f921\\\"]]}],\\\"scattermapbox\\\":[{\\\"type\\\":\\\"scattermapbox\\\",\\\"marker\\\":{\\\"colorbar\\\":{\\\"ticks\\\":\\\"\\\",\\\"outlinewidth\\\":0}}}],\\\"scattergeo\\\":[{\\\"type\\\":\\\"scattergeo\\\",\\\"marker\\\":{\\\"colorbar\\\":{\\\"ticks\\\":\\\"\\\",\\\"outlinewidth\\\":0}}}],\\\"histogram\\\":[{\\\"type\\\":\\\"histogram\\\",\\\"marker\\\":{\\\"colorbar\\\":{\\\"ticks\\\":\\\"\\\",\\\"outlinewidth\\\":0}}}],\\\"pie\\\":[{\\\"type\\\":\\\"pie\\\",\\\"automargin\\\":true}],\\\"choropleth\\\":[{\\\"colorbar\\\":{\\\"ticks\\\":\\\"\\\",\\\"outlinewidth\\\":0},\\\"type\\\":\\\"choropleth\\\"}],\\\"heatmapgl\\\":[{\\\"colorbar\\\":{\\\"ticks\\\":\\\"\\\",\\\"outlinewidth\\\":0},\\\"type\\\":\\\"heatmapgl\\\",\\\"colorscale\\\":[[0.0,\\\"#0d0887\\\"],[0.1111111111111111,\\\"#46039f\\\"],[0.2222222222222222,\\\"#7201a8\\\"],[0.3333333333333333,\\\"#9c179e\\\"],[0.4444444444444444,\\\"#bd3786\\\"],[0.5555555555555556,\\\"#d8576b\\\"],[0.6666666666666666,\\\"#ed7953\\\"],[0.7777777777777778,\\\"#fb9f3a\\\"],[0.8888888888888888,\\\"#fdca26\\\"],[1.0,\\\"#f0f921\\\"]]}],\\\"bar\\\":[{\\\"type\\\":\\\"bar\\\",\\\"error_y\\\":{\\\"color\\\":\\\"#2a3f5f\\\"},\\\"error_x\\\":{\\\"color\\\":\\\"#2a3f5f\\\"},\\\"marker\\\":{\\\"line\\\":{\\\"color\\\":\\\"#E5ECF6\\\",\\\"width\\\":0.5}}}],\\\"heatmap\\\":[{\\\"colorbar\\\":{\\\"ticks\\\":\\\"\\\",\\\"outlinewidth\\\":0},\\\"type\\\":\\\"heatmap\\\",\\\"colorscale\\\":[[0.0,\\\"#0d0887\\\"],[0.1111111111111111,\\\"#46039f\\\"],[0.2222222222222222,\\\"#7201a8\\\"],[0.3333333333333333,\\\"#9c179e\\\"],[0.4444444444444444,\\\"#bd3786\\\"],[0.5555555555555556,\\\"#d8576b\\\"],[0.6666666666666666,\\\"#ed7953\\\"],[0.7777777777777778,\\\"#fb9f3a\\\"],[0.8888888888888888,\\\"#fdca26\\\"],[1.0,\\\"#f0f921\\\"]]}],\\\"contourcarpet\\\":[{\\\"colorbar\\\":{\\\"ticks\\\":\\\"\\\",\\\"outlinewidth\\\":0},\\\"type\\\":\\\"contourcarpet\\\"}],\\\"table\\\":[{\\\"type\\\":\\\"table\\\",\\\"header\\\":{\\\"line\\\":{\\\"color\\\":\\\"white\\\"},\\\"fill\\\":{\\\"color\\\":\\\"#C8D4E3\\\"}},\\\"cells\\\":{\\\"line\\\":{\\\"color\\\":\\\"white\\\"},\\\"fill\\\":{\\\"color\\\":\\\"#EBF0F8\\\"}}}],\\\"scatter3d\\\":[{\\\"line\\\":{\\\"colorbar\\\":{\\\"ticks\\\":\\\"\\\",\\\"outlinewidth\\\":0}},\\\"type\\\":\\\"scatter3d\\\",\\\"marker\\\":{\\\"colorbar\\\":{\\\"ticks\\\":\\\"\\\",\\\"outlinewidth\\\":0}}}],\\\"scattergl\\\":[{\\\"type\\\":\\\"scattergl\\\",\\\"marker\\\":{\\\"colorbar\\\":{\\\"ticks\\\":\\\"\\\",\\\"outlinewidth\\\":0}}}],\\\"histogram2d\\\":[{\\\"colorbar\\\":{\\\"ticks\\\":\\\"\\\",\\\"outlinewidth\\\":0},\\\"type\\\":\\\"histogram2d\\\",\\\"colorscale\\\":[[0.0,\\\"#0d0887\\\"],[0.1111111111111111,\\\"#46039f\\\"],[0.2222222222222222,\\\"#7201a8\\\"],[0.3333333333333333,\\\"#9c179e\\\"],[0.4444444444444444,\\\"#bd3786\\\"],[0.5555555555555556,\\\"#d8576b\\\"],[0.6666666666666666,\\\"#ed7953\\\"],[0.7777777777777778,\\\"#fb9f3a\\\"],[0.8888888888888888,\\\"#fdca26\\\"],[1.0,\\\"#f0f921\\\"]]}],\\\"scatterternary\\\":[{\\\"type\\\":\\\"scatterternary\\\",\\\"marker\\\":{\\\"colorbar\\\":{\\\"ticks\\\":\\\"\\\",\\\"outlinewidth\\\":0}}}],\\\"scatterpolargl\\\":[{\\\"type\\\":\\\"scatterpolargl\\\",\\\"marker\\\":{\\\"colorbar\\\":{\\\"ticks\\\":\\\"\\\",\\\"outlinewidth\\\":0}}}]}},\\\"margin\\\":{\\\"l\\\":50,\\\"b\\\":50,\\\"r\\\":50,\\\"t\\\":60},\\\"yaxis\\\":{\\\"title\\\":{\\\"text\\\":\\\"Radius (half of a lattice constant)\\\"}}},{\\\"showLink\\\":false,\\\"editable\\\":false,\\\"responsive\\\":true,\\\"staticPlot\\\":false,\\\"scrollZoom\\\":true}); gd.on(\\\"plotly_hover\\\",(function (data){var filtered_data=WebIO.PlotlyCommands.filterEventData(gd,data,\\\"hover\\\"); return !(filtered_data.isnil) ? (WebIO.setval({\\\"name\\\":\\\"hover\\\",\\\"scope\\\":\\\"17553313885563731772\\\",\\\"id\\\":\\\"13598663028480877144\\\",\\\"type\\\":\\\"observable\\\"},filtered_data.out)) : undefined})); gd.on(\\\"plotly_unhover\\\",(function (){return WebIO.setval({\\\"name\\\":\\\"hover\\\",\\\"scope\\\":\\\"17553313885563731772\\\",\\\"id\\\":\\\"13598663028480877144\\\",\\\"type\\\":\\\"observable\\\"},{})})); gd.on(\\\"plotly_selected\\\",(function (data){var filtered_data=WebIO.PlotlyCommands.filterEventData(gd,data,\\\"selected\\\"); return !(filtered_data.isnil) ? (WebIO.setval({\\\"name\\\":\\\"selected\\\",\\\"scope\\\":\\\"17553313885563731772\\\",\\\"id\\\":\\\"15083245236975811386\\\",\\\"type\\\":\\\"observable\\\"},filtered_data.out)) : undefined})); gd.on(\\\"plotly_deselect\\\",(function (){return WebIO.setval({\\\"name\\\":\\\"selected\\\",\\\"scope\\\":\\\"17553313885563731772\\\",\\\"id\\\":\\\"15083245236975811386\\\",\\\"type\\\":\\\"observable\\\"},{})})); gd.on(\\\"plotly_relayout\\\",(function (data){var filtered_data=WebIO.PlotlyCommands.filterEventData(gd,data,\\\"relayout\\\"); return !(filtered_data.isnil) ? (WebIO.setval({\\\"name\\\":\\\"relayout\\\",\\\"scope\\\":\\\"17553313885563731772\\\",\\\"id\\\":\\\"13755750250519412998\\\",\\\"type\\\":\\\"observable\\\"},filtered_data.out)) : undefined})); return gd.on(\\\"plotly_click\\\",(function (data){var filtered_data=WebIO.PlotlyCommands.filterEventData(gd,data,\\\"click\\\"); return !(filtered_data.isnil) ? (WebIO.setval({\\\"name\\\":\\\"click\\\",\\\"scope\\\":\\\"17553313885563731772\\\",\\\"id\\\":\\\"15706857390380596860\\\",\\\"type\\\":\\\"observable\\\"},filtered_data.out)) : undefined}))}));\\n    (WebIO.importBlock({\\\"data\\\":[{\\\"name\\\":\\\"Plotly\\\",\\\"type\\\":\\\"js\\\",\\\"url\\\":\\\"\\/assetserver\\/4176b01933e6ee17b869a9de1c377f69824e56b6-plotly.min.js\\\"},{\\\"name\\\":null,\\\"type\\\":\\\"js\\\",\\\"url\\\":\\\"\\/assetserver\\/efcb236a7dd21b9052e6ddb3595839100983e917-plotly_webio.bundle.js\\\"}],\\\"type\\\":\\\"async_block\\\"})).then((imports) => handler.apply(this, imports));\\n}\\n\"],\"observables\":{\"_toImage\":{\"sync\":false,\"id\":\"16587806278278855517\",\"value\":{}},\"hover\":{\"sync\":false,\"id\":\"13598663028480877144\",\"value\":{}},\"selected\":{\"sync\":false,\"id\":\"15083245236975811386\",\"value\":{}},\"__gd_contents\":{\"sync\":false,\"id\":\"9154510863871079855\",\"value\":{}},\"click\":{\"sync\":false,\"id\":\"15706857390380596860\",\"value\":{}},\"image\":{\"sync\":true,\"id\":\"8582959160136587393\",\"value\":\"\"},\"__get_gd_contents\":{\"sync\":false,\"id\":\"17248348362250512994\",\"value\":\"\"},\"_downloadImage\":{\"sync\":false,\"id\":\"4879388374224546086\",\"value\":{}},\"relayout\":{\"sync\":false,\"id\":\"13755750250519412998\",\"value\":{}},\"_commands\":{\"sync\":false,\"id\":\"3969849123826712560\",\"value\":[]}}},\"children\":[{\"props\":{\"id\":\"plot-93ee1ad7-d931-4b43-ba25-1d5c880124b0\"},\"nodeType\":\"DOM\",\"type\":\"node\",\"instanceArgs\":{\"namespace\":\"html\",\"tag\":\"div\"},\"children\":[]}]},\n",
       "        window,\n",
       "    );\n",
       "    })()\n",
       "    </script>\n",
       "</div>\n"
      ],
      "text/plain": [
       "data: [\n",
       "  \"scatter with fields mode, name, type, x, and y\",\n",
       "  \"scatter with fields mode, name, type, x, and y\"\n",
       "]\n",
       "\n",
       "layout: \"layout with fields margin, template, xaxis, and yaxis\"\n",
       "\n"
      ]
     },
     "metadata": {},
     "output_type": "display_data"
    }
   ],
   "source": [
    "sia = scatter(x=1:200 ,y = universe.constants.siaRadii, mode=\"markers+lines\", name = \"SIA\")\n",
    "vac = scatter(x=1:200, y = universe.constants.vacRadii, mode=\"markers+lines\", name = \"vacancy\")\n",
    "plot([sia, vac], Layout(xaxis_title=\"Content number\", yaxis_title=\"Radius (half of a lattice constant)\"))"
   ]
  },
  {
   "cell_type": "code",
   "execution_count": null,
   "metadata": {},
   "outputs": [],
   "source": []
  },
  {
   "cell_type": "code",
   "execution_count": 89,
   "metadata": {},
   "outputs": [
    {
     "data": {
      "text/plain": [
       "3.7416573867739413"
      ]
     },
     "metadata": {},
     "output_type": "display_data"
    }
   ],
   "source": [
    "coord = RandomAPointOnShpereSurface(3.69)\n",
    "Distance(universe, coord, [0,0,0])"
   ]
  },
  {
   "cell_type": "code",
   "execution_count": 88,
   "metadata": {},
   "outputs": [
    {
     "data": {
      "text/plain": [
       "2.8844991406148166"
      ]
     },
     "metadata": {},
     "output_type": "display_data"
    }
   ],
   "source": [
    "universe.constants.siaRadii[1] + universe.constants.siaRadii[1]"
   ]
  },
  {
   "cell_type": "code",
   "execution_count": 83,
   "metadata": {},
   "outputs": [
    {
     "data": {
      "text/plain": [
       "200"
      ]
     },
     "metadata": {},
     "output_type": "display_data"
    }
   ],
   "source": [
    "length(universe.constants.siaRadii)"
   ]
  },
  {
   "cell_type": "code",
   "execution_count": 2,
   "metadata": {},
   "outputs": [
    {
     "name": "stdout",
     "output_type": "stream",
     "text": [
      "Download progress: 1%   \r"
     ]
    },
    {
     "name": "stdout",
     "output_type": "stream",
     "text": [
      "Download progress: 2%   \r"
     ]
    },
    {
     "name": "stdout",
     "output_type": "stream",
     "text": [
      "Download progress: 3%   \r"
     ]
    },
    {
     "name": "stdout",
     "output_type": "stream",
     "text": [
      "Download progress: 4%   \r"
     ]
    },
    {
     "name": "stdout",
     "output_type": "stream",
     "text": [
      "Download progress: 5%   \r"
     ]
    },
    {
     "name": "stdout",
     "output_type": "stream",
     "text": [
      "Download progress: 6%   \r"
     ]
    },
    {
     "name": "stdout",
     "output_type": "stream",
     "text": [
      "Download progress: 7%   \r"
     ]
    },
    {
     "name": "stdout",
     "output_type": "stream",
     "text": [
      "Download progress: 8%   \r"
     ]
    },
    {
     "name": "stdout",
     "output_type": "stream",
     "text": [
      "Download progress: 9%   \r"
     ]
    },
    {
     "name": "stdout",
     "output_type": "stream",
     "text": [
      "Download progress: 10%   \r"
     ]
    },
    {
     "name": "stdout",
     "output_type": "stream",
     "text": [
      "Download progress: 11%   \r"
     ]
    },
    {
     "name": "stdout",
     "output_type": "stream",
     "text": [
      "Download progress: 12%   \r"
     ]
    },
    {
     "name": "stdout",
     "output_type": "stream",
     "text": [
      "Download progress: 13%   \r"
     ]
    },
    {
     "name": "stdout",
     "output_type": "stream",
     "text": [
      "Download progress: 14%   \r"
     ]
    },
    {
     "name": "stdout",
     "output_type": "stream",
     "text": [
      "Download progress: 15%   \r"
     ]
    },
    {
     "name": "stdout",
     "output_type": "stream",
     "text": [
      "Download progress: 16%   \r"
     ]
    },
    {
     "name": "stdout",
     "output_type": "stream",
     "text": [
      "Download progress: 17%   \r"
     ]
    },
    {
     "name": "stdout",
     "output_type": "stream",
     "text": [
      "Download progress: 18%   \r"
     ]
    },
    {
     "name": "stdout",
     "output_type": "stream",
     "text": [
      "Download progress: 19%   \r"
     ]
    },
    {
     "name": "stdout",
     "output_type": "stream",
     "text": [
      "Download progress: 20%   \r"
     ]
    },
    {
     "name": "stdout",
     "output_type": "stream",
     "text": [
      "Download progress: 21%   \r"
     ]
    },
    {
     "name": "stdout",
     "output_type": "stream",
     "text": [
      "Download progress: 22%   \r"
     ]
    },
    {
     "name": "stdout",
     "output_type": "stream",
     "text": [
      "Download progress: 23%   \r"
     ]
    },
    {
     "name": "stdout",
     "output_type": "stream",
     "text": [
      "Download progress: 24%   \r"
     ]
    },
    {
     "name": "stdout",
     "output_type": "stream",
     "text": [
      "Download progress: 25%   \r"
     ]
    },
    {
     "name": "stdout",
     "output_type": "stream",
     "text": [
      "Download progress: 26%   \r"
     ]
    },
    {
     "name": "stdout",
     "output_type": "stream",
     "text": [
      "Download progress: 27%   \r"
     ]
    },
    {
     "name": "stdout",
     "output_type": "stream",
     "text": [
      "Download progress: 28%   \r"
     ]
    },
    {
     "name": "stdout",
     "output_type": "stream",
     "text": [
      "Download progress: 29%   \r"
     ]
    },
    {
     "name": "stdout",
     "output_type": "stream",
     "text": [
      "Download progress: 30%   \r"
     ]
    },
    {
     "name": "stdout",
     "output_type": "stream",
     "text": [
      "Download progress: 31%   \r"
     ]
    },
    {
     "name": "stdout",
     "output_type": "stream",
     "text": [
      "Download progress: 32%   \r"
     ]
    },
    {
     "name": "stdout",
     "output_type": "stream",
     "text": [
      "Download progress: 33%   \r"
     ]
    },
    {
     "name": "stdout",
     "output_type": "stream",
     "text": [
      "Download progress: 34%   \r"
     ]
    },
    {
     "name": "stdout",
     "output_type": "stream",
     "text": [
      "Download progress: 35%   \r"
     ]
    },
    {
     "name": "stdout",
     "output_type": "stream",
     "text": [
      "Download progress: 36%   \r"
     ]
    },
    {
     "name": "stdout",
     "output_type": "stream",
     "text": [
      "Download progress: 37%   \r"
     ]
    },
    {
     "name": "stdout",
     "output_type": "stream",
     "text": [
      "Download progress: 38%   \r"
     ]
    },
    {
     "name": "stdout",
     "output_type": "stream",
     "text": [
      "Download progress: 39%   \r"
     ]
    },
    {
     "name": "stdout",
     "output_type": "stream",
     "text": [
      "Download progress: 40%   \r"
     ]
    },
    {
     "name": "stdout",
     "output_type": "stream",
     "text": [
      "Download progress: 41%   \r"
     ]
    },
    {
     "name": "stdout",
     "output_type": "stream",
     "text": [
      "Download progress: 42%   \r"
     ]
    },
    {
     "name": "stdout",
     "output_type": "stream",
     "text": [
      "Download progress: 43%   \r"
     ]
    },
    {
     "name": "stdout",
     "output_type": "stream",
     "text": [
      "Download progress: 44%   \r"
     ]
    },
    {
     "name": "stdout",
     "output_type": "stream",
     "text": [
      "Download progress: 45%   \r"
     ]
    },
    {
     "name": "stdout",
     "output_type": "stream",
     "text": [
      "Download progress: 46%   \r"
     ]
    },
    {
     "name": "stdout",
     "output_type": "stream",
     "text": [
      "Download progress: 47%   \r"
     ]
    },
    {
     "name": "stdout",
     "output_type": "stream",
     "text": [
      "Download progress: 48%   \r"
     ]
    },
    {
     "name": "stdout",
     "output_type": "stream",
     "text": [
      "Download progress: 49%   \r"
     ]
    },
    {
     "name": "stdout",
     "output_type": "stream",
     "text": [
      "Download progress: 50%   \r"
     ]
    },
    {
     "name": "stdout",
     "output_type": "stream",
     "text": [
      "Download progress: 51%   \r"
     ]
    },
    {
     "name": "stdout",
     "output_type": "stream",
     "text": [
      "Download progress: 52%   \r"
     ]
    },
    {
     "name": "stdout",
     "output_type": "stream",
     "text": [
      "Download progress: 53%   \r"
     ]
    },
    {
     "name": "stdout",
     "output_type": "stream",
     "text": [
      "Download progress: 54%   \r"
     ]
    },
    {
     "name": "stdout",
     "output_type": "stream",
     "text": [
      "Download progress: 55%   \r"
     ]
    },
    {
     "name": "stdout",
     "output_type": "stream",
     "text": [
      "Download progress: 56%   \r"
     ]
    },
    {
     "name": "stdout",
     "output_type": "stream",
     "text": [
      "Download progress: 57%   \r"
     ]
    },
    {
     "name": "stdout",
     "output_type": "stream",
     "text": [
      "Download progress: 58%   \r"
     ]
    },
    {
     "name": "stdout",
     "output_type": "stream",
     "text": [
      "Download progress: 59%   \r"
     ]
    },
    {
     "name": "stdout",
     "output_type": "stream",
     "text": [
      "Download progress: 60%   \r"
     ]
    },
    {
     "name": "stdout",
     "output_type": "stream",
     "text": [
      "Download progress: 61%   \r"
     ]
    },
    {
     "name": "stdout",
     "output_type": "stream",
     "text": [
      "Download progress: 62%   \r"
     ]
    },
    {
     "name": "stdout",
     "output_type": "stream",
     "text": [
      "Download progress: 63%   \r"
     ]
    },
    {
     "name": "stdout",
     "output_type": "stream",
     "text": [
      "Download progress: 64%   \r"
     ]
    },
    {
     "name": "stdout",
     "output_type": "stream",
     "text": [
      "Download progress: 65%   \r"
     ]
    },
    {
     "name": "stdout",
     "output_type": "stream",
     "text": [
      "Download progress: 66%   \r"
     ]
    },
    {
     "name": "stdout",
     "output_type": "stream",
     "text": [
      "Download progress: 67%   \r"
     ]
    },
    {
     "name": "stdout",
     "output_type": "stream",
     "text": [
      "Download progress: 68%   \r"
     ]
    },
    {
     "name": "stdout",
     "output_type": "stream",
     "text": [
      "Download progress: 69%   \r"
     ]
    },
    {
     "name": "stdout",
     "output_type": "stream",
     "text": [
      "Download progress: 70%   \r"
     ]
    },
    {
     "name": "stdout",
     "output_type": "stream",
     "text": [
      "Download progress: 71%   \r"
     ]
    },
    {
     "name": "stdout",
     "output_type": "stream",
     "text": [
      "Download progress: 72%   \r"
     ]
    },
    {
     "name": "stdout",
     "output_type": "stream",
     "text": [
      "Download progress: 73%   \r"
     ]
    },
    {
     "name": "stdout",
     "output_type": "stream",
     "text": [
      "Download progress: 74%   \r"
     ]
    },
    {
     "name": "stdout",
     "output_type": "stream",
     "text": [
      "Download progress: 75%   \r"
     ]
    },
    {
     "name": "stdout",
     "output_type": "stream",
     "text": [
      "Download progress: 76%   \r"
     ]
    },
    {
     "name": "stdout",
     "output_type": "stream",
     "text": [
      "Download progress: 77%   \r"
     ]
    },
    {
     "name": "stdout",
     "output_type": "stream",
     "text": [
      "Download progress: 78%   \r"
     ]
    },
    {
     "name": "stdout",
     "output_type": "stream",
     "text": [
      "Download progress: 79%   \r"
     ]
    },
    {
     "name": "stdout",
     "output_type": "stream",
     "text": [
      "Download progress: 80%   \r"
     ]
    },
    {
     "name": "stdout",
     "output_type": "stream",
     "text": [
      "Download progress: 81%   \r"
     ]
    },
    {
     "name": "stdout",
     "output_type": "stream",
     "text": [
      "Download progress: 82%   \r"
     ]
    },
    {
     "name": "stdout",
     "output_type": "stream",
     "text": [
      "Download progress: 83%   \r"
     ]
    },
    {
     "name": "stdout",
     "output_type": "stream",
     "text": [
      "Download progress: 84%   \r"
     ]
    },
    {
     "name": "stdout",
     "output_type": "stream",
     "text": [
      "Download progress: 85%   \r"
     ]
    },
    {
     "name": "stdout",
     "output_type": "stream",
     "text": [
      "Download progress: 86%   \r"
     ]
    },
    {
     "name": "stdout",
     "output_type": "stream",
     "text": [
      "Download progress: 87%   \r"
     ]
    },
    {
     "name": "stdout",
     "output_type": "stream",
     "text": [
      "Download progress: 88%   \r"
     ]
    },
    {
     "name": "stdout",
     "output_type": "stream",
     "text": [
      "Download progress: 89%   \r"
     ]
    },
    {
     "name": "stdout",
     "output_type": "stream",
     "text": [
      "Download progress: 90%   \r"
     ]
    },
    {
     "name": "stdout",
     "output_type": "stream",
     "text": [
      "Download progress: 91%   \r"
     ]
    },
    {
     "name": "stdout",
     "output_type": "stream",
     "text": [
      "Download progress: 92%   \r"
     ]
    },
    {
     "name": "stdout",
     "output_type": "stream",
     "text": [
      "Download progress: 93%   \r"
     ]
    },
    {
     "name": "stdout",
     "output_type": "stream",
     "text": [
      "Download progress: 94%   \r"
     ]
    },
    {
     "name": "stdout",
     "output_type": "stream",
     "text": [
      "Download progress: 95%   \r"
     ]
    },
    {
     "name": "stdout",
     "output_type": "stream",
     "text": [
      "Download progress: 96%   \r"
     ]
    },
    {
     "name": "stdout",
     "output_type": "stream",
     "text": [
      "Download progress: 97%   \r"
     ]
    },
    {
     "name": "stdout",
     "output_type": "stream",
     "text": [
      "Download progress: 98%   \r"
     ]
    },
    {
     "name": "stdout",
     "output_type": "stream",
     "text": [
      "Download progress: 99%   \r"
     ]
    },
    {
     "name": "stdout",
     "output_type": "stream",
     "text": [
      "Download progress: 100%   \r"
     ]
    }
   ],
   "source": [
    "for progress in 1:100\n",
    "print(\"Download progress: $(progress)%   \\r\")\n",
    "flush(stdout)\n",
    "end"
   ]
  },
  {
   "cell_type": "code",
   "execution_count": null,
   "metadata": {},
   "outputs": [],
   "source": [
    "#Lennard-Jones potential soft version\n",
    "function Energy_LJ_soft(r::Float64, epsilon::Float64, sigma::Float64)\n",
    "    \n",
    "end"
   ]
  }
 ],
 "metadata": {
  "kernelspec": {
   "display_name": "Julia 1.7.2",
   "language": "julia",
   "name": "julia-1.7"
  },
  "language_info": {
   "file_extension": ".jl",
   "mimetype": "application/julia",
   "name": "julia",
   "version": "1.7.2"
  },
  "orig_nbformat": 4
 },
 "nbformat": 4,
 "nbformat_minor": 2
}
